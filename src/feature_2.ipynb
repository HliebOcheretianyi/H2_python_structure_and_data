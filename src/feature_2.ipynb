{
 "cells": [
  {
   "cell_type": "code",
   "id": "initial_id",
   "metadata": {
    "collapsed": true,
    "ExecuteTime": {
     "end_time": "2025-04-22T00:47:53.783052Z",
     "start_time": "2025-04-22T00:47:53.760870Z"
    }
   },
   "source": [
    "import pandas as pd\n",
    "import holidays\n",
    "from datetime import date"
   ],
   "outputs": [],
   "execution_count": 1
  },
  {
   "metadata": {
    "ExecuteTime": {
     "end_time": "2025-04-22T00:47:53.787668Z",
     "start_time": "2025-04-22T00:47:53.785526Z"
    }
   },
   "cell_type": "code",
   "source": [
    "INPUT_DATA_FOLDER = \"../data\"\n",
    "REPORTS_DATA_FILE = \"ISW_vector.csv\"\n",
    "\n",
    "OUTPUT_FOLDER = \"../data/all_data_preprocessed\"\n",
    "ISW_OUTPUT_DATA_FILE = \"all_isw.csv\"\n",
    "ALARMS_OUTPUT_DATA_FILE = \"all_alarms.csv\"\n",
    "WEATHER_EVENTS_OUTPUT_DATA_FILE = \"all_weather_by_hour.csv\"\n",
    "MERGED_OUTPUT_DATA_FILE = \"weather_regions_alarms_merged.csv\"\n",
    "ALL_MERGED_DATA_FILE = \"all_merged\"\n",
    "\n",
    "MODEL_FOLDER = \"model\"\n",
    "\n",
    "tfidf_transformer_model = \"tfidf_transformer\"\n",
    "count_vectorizer_model = \"count_vectorizer\"\n",
    "\n",
    "tfidf_transformer_version = \"v1\"\n",
    "count_vectorizer_version = \"v1\""
   ],
   "id": "aebd9c77715a3610",
   "outputs": [],
   "execution_count": 2
  },
  {
   "metadata": {
    "ExecuteTime": {
     "end_time": "2025-04-22T00:47:55.062243Z",
     "start_time": "2025-04-22T00:47:53.927553Z"
    }
   },
   "cell_type": "code",
   "source": "df = pd.read_parquet(f\"{OUTPUT_FOLDER}/{ALL_MERGED_DATA_FILE}.parquet\")",
   "id": "46b23ee63204e3a4",
   "outputs": [],
   "execution_count": 3
  },
  {
   "metadata": {
    "ExecuteTime": {
     "end_time": "2025-04-22T00:47:55.100353Z",
     "start_time": "2025-04-22T00:47:55.075741Z"
    }
   },
   "cell_type": "code",
   "source": "df.info()",
   "id": "7273fc0cea8879cf",
   "outputs": [
    {
     "name": "stdout",
     "output_type": "stream",
     "text": [
      "<class 'pandas.core.frame.DataFrame'>\n",
      "RangeIndex: 643944 entries, 0 to 643943\n",
      "Columns: 1039 entries, day_datetimeEpoch to 999\n",
      "dtypes: float64(1030), int64(9)\n",
      "memory usage: 5.0 GB\n"
     ]
    }
   ],
   "execution_count": 4
  },
  {
   "metadata": {
    "ExecuteTime": {
     "end_time": "2025-04-22T00:47:55.694058Z",
     "start_time": "2025-04-22T00:47:55.112210Z"
    }
   },
   "cell_type": "code",
   "source": "df['timestamp'] = pd.to_datetime(df['hour_datetimeEpoch'], unit='s').dt.strftime('%Y-%m-%d %H:%M:%S')",
   "id": "3ebdb5512b055e9d",
   "outputs": [],
   "execution_count": 5
  },
  {
   "metadata": {
    "ExecuteTime": {
     "end_time": "2025-04-22T00:47:55.894195Z",
     "start_time": "2025-04-22T00:47:55.705224Z"
    }
   },
   "cell_type": "code",
   "source": "df['timestamp']= pd.to_datetime(df['timestamp'])",
   "id": "156222761ca88e9a",
   "outputs": [],
   "execution_count": 6
  },
  {
   "metadata": {
    "ExecuteTime": {
     "end_time": "2025-04-22T00:47:59.282222Z",
     "start_time": "2025-04-22T00:47:55.904548Z"
    }
   },
   "cell_type": "code",
   "source": [
    "df = df.set_index(['timestamp','region_id' ])\n",
    "duplicates = df.index.duplicated(keep=False)\n",
    "df = df[~df.index.duplicated(keep='first')]\n",
    "df.reset_index(inplace=True, drop=False)"
   ],
   "id": "969945c925a5125",
   "outputs": [],
   "execution_count": 7
  },
  {
   "metadata": {
    "ExecuteTime": {
     "end_time": "2025-04-22T00:47:59.310525Z",
     "start_time": "2025-04-22T00:47:59.292281Z"
    }
   },
   "cell_type": "code",
   "source": "df.info()",
   "id": "9f3741e24bc33b17",
   "outputs": [
    {
     "name": "stdout",
     "output_type": "stream",
     "text": [
      "<class 'pandas.core.frame.DataFrame'>\n",
      "RangeIndex: 622656 entries, 0 to 622655\n",
      "Columns: 1040 entries, timestamp to 999\n",
      "dtypes: datetime64[ns](1), float64(1030), int64(9)\n",
      "memory usage: 4.8 GB\n"
     ]
    }
   ],
   "execution_count": 8
  },
  {
   "metadata": {
    "ExecuteTime": {
     "end_time": "2025-04-22T00:47:59.398981Z",
     "start_time": "2025-04-22T00:47:59.378493Z"
    }
   },
   "cell_type": "code",
   "source": "df[['event_all_region', 'timestamp']]",
   "id": "6ddfa0b0ef63a1f8",
   "outputs": [
    {
     "data": {
      "text/plain": [
       "        event_all_region           timestamp\n",
       "0                    0.0 2022-02-24 22:00:00\n",
       "1                    0.0 2022-02-24 23:00:00\n",
       "2                    0.0 2022-02-25 00:00:00\n",
       "3                    0.0 2022-02-25 01:00:00\n",
       "4                    0.0 2022-02-25 02:00:00\n",
       "...                  ...                 ...\n",
       "622651               0.0 2025-03-01 17:00:00\n",
       "622652               0.0 2025-03-01 18:00:00\n",
       "622653               0.0 2025-03-01 19:00:00\n",
       "622654               0.0 2025-03-01 20:00:00\n",
       "622655               0.0 2025-03-01 21:00:00\n",
       "\n",
       "[622656 rows x 2 columns]"
      ],
      "text/html": [
       "<div>\n",
       "<style scoped>\n",
       "    .dataframe tbody tr th:only-of-type {\n",
       "        vertical-align: middle;\n",
       "    }\n",
       "\n",
       "    .dataframe tbody tr th {\n",
       "        vertical-align: top;\n",
       "    }\n",
       "\n",
       "    .dataframe thead th {\n",
       "        text-align: right;\n",
       "    }\n",
       "</style>\n",
       "<table border=\"1\" class=\"dataframe\">\n",
       "  <thead>\n",
       "    <tr style=\"text-align: right;\">\n",
       "      <th></th>\n",
       "      <th>event_all_region</th>\n",
       "      <th>timestamp</th>\n",
       "    </tr>\n",
       "  </thead>\n",
       "  <tbody>\n",
       "    <tr>\n",
       "      <th>0</th>\n",
       "      <td>0.0</td>\n",
       "      <td>2022-02-24 22:00:00</td>\n",
       "    </tr>\n",
       "    <tr>\n",
       "      <th>1</th>\n",
       "      <td>0.0</td>\n",
       "      <td>2022-02-24 23:00:00</td>\n",
       "    </tr>\n",
       "    <tr>\n",
       "      <th>2</th>\n",
       "      <td>0.0</td>\n",
       "      <td>2022-02-25 00:00:00</td>\n",
       "    </tr>\n",
       "    <tr>\n",
       "      <th>3</th>\n",
       "      <td>0.0</td>\n",
       "      <td>2022-02-25 01:00:00</td>\n",
       "    </tr>\n",
       "    <tr>\n",
       "      <th>4</th>\n",
       "      <td>0.0</td>\n",
       "      <td>2022-02-25 02:00:00</td>\n",
       "    </tr>\n",
       "    <tr>\n",
       "      <th>...</th>\n",
       "      <td>...</td>\n",
       "      <td>...</td>\n",
       "    </tr>\n",
       "    <tr>\n",
       "      <th>622651</th>\n",
       "      <td>0.0</td>\n",
       "      <td>2025-03-01 17:00:00</td>\n",
       "    </tr>\n",
       "    <tr>\n",
       "      <th>622652</th>\n",
       "      <td>0.0</td>\n",
       "      <td>2025-03-01 18:00:00</td>\n",
       "    </tr>\n",
       "    <tr>\n",
       "      <th>622653</th>\n",
       "      <td>0.0</td>\n",
       "      <td>2025-03-01 19:00:00</td>\n",
       "    </tr>\n",
       "    <tr>\n",
       "      <th>622654</th>\n",
       "      <td>0.0</td>\n",
       "      <td>2025-03-01 20:00:00</td>\n",
       "    </tr>\n",
       "    <tr>\n",
       "      <th>622655</th>\n",
       "      <td>0.0</td>\n",
       "      <td>2025-03-01 21:00:00</td>\n",
       "    </tr>\n",
       "  </tbody>\n",
       "</table>\n",
       "<p>622656 rows × 2 columns</p>\n",
       "</div>"
      ]
     },
     "execution_count": 9,
     "metadata": {},
     "output_type": "execute_result"
    }
   ],
   "execution_count": 9
  },
  {
   "metadata": {
    "ExecuteTime": {
     "end_time": "2025-04-22T00:47:59.464053Z",
     "start_time": "2025-04-22T00:47:59.453076Z"
    }
   },
   "cell_type": "code",
   "source": "df.info()",
   "id": "16982e1c3558211f",
   "outputs": [
    {
     "name": "stdout",
     "output_type": "stream",
     "text": [
      "<class 'pandas.core.frame.DataFrame'>\n",
      "RangeIndex: 622656 entries, 0 to 622655\n",
      "Columns: 1040 entries, timestamp to 999\n",
      "dtypes: datetime64[ns](1), float64(1030), int64(9)\n",
      "memory usage: 4.8 GB\n"
     ]
    }
   ],
   "execution_count": 10
  },
  {
   "metadata": {
    "ExecuteTime": {
     "end_time": "2025-04-22T00:47:59.576322Z",
     "start_time": "2025-04-22T00:47:59.574126Z"
    }
   },
   "cell_type": "code",
   "source": "hours = [1, 2, 3, 6, 12, 18, 24]",
   "id": "bef88f8910c9968d",
   "outputs": [],
   "execution_count": 11
  },
  {
   "metadata": {
    "ExecuteTime": {
     "end_time": "2025-04-22T00:48:19.776955Z",
     "start_time": "2025-04-22T00:47:59.611764Z"
    }
   },
   "cell_type": "code",
   "source": [
    "for h in hours:\n",
    "    df = df.sort_values(by=['region_id', 'timestamp'])\n",
    "\n",
    "    df_shifted = df[['region_id', 'timestamp', 'event_all_region']].copy()\n",
    "    df_shifted['timestamp'] = df_shifted['timestamp'] + pd.Timedelta(hours=h)\n",
    "    df_shifted = df_shifted.rename(columns={'event_all_region': f'event_{h}h_ago'})\n",
    "\n",
    "    df = df.merge(df_shifted, on=['region_id', 'timestamp'], how='left')\n",
    "\n",
    "    df[f'event_{h}h_ago'] = df[f'event_{h}h_ago'].fillna(0).astype(int)"
   ],
   "id": "89a3d36bd0e4ccdf",
   "outputs": [],
   "execution_count": 12
  },
  {
   "metadata": {
    "ExecuteTime": {
     "end_time": "2025-04-22T00:48:19.838593Z",
     "start_time": "2025-04-22T00:48:19.806365Z"
    }
   },
   "cell_type": "code",
   "source": "df[['event_1h_ago','timestamp','region_id','event_all_region']]",
   "id": "1f83fe2a23129a00",
   "outputs": [
    {
     "data": {
      "text/plain": [
       "        event_1h_ago           timestamp  region_id  event_all_region\n",
       "0                  0 2022-02-24 22:00:00          1               0.0\n",
       "1                  0 2022-02-24 23:00:00          1               0.0\n",
       "2                  0 2022-02-25 00:00:00          1               0.0\n",
       "3                  0 2022-02-25 01:00:00          1               0.0\n",
       "4                  0 2022-02-25 02:00:00          1               0.0\n",
       "...              ...                 ...        ...               ...\n",
       "622651             0 2025-03-01 17:00:00         25               0.0\n",
       "622652             0 2025-03-01 18:00:00         25               0.0\n",
       "622653             0 2025-03-01 19:00:00         25               0.0\n",
       "622654             0 2025-03-01 20:00:00         25               0.0\n",
       "622655             0 2025-03-01 21:00:00         25               1.0\n",
       "\n",
       "[622656 rows x 4 columns]"
      ],
      "text/html": [
       "<div>\n",
       "<style scoped>\n",
       "    .dataframe tbody tr th:only-of-type {\n",
       "        vertical-align: middle;\n",
       "    }\n",
       "\n",
       "    .dataframe tbody tr th {\n",
       "        vertical-align: top;\n",
       "    }\n",
       "\n",
       "    .dataframe thead th {\n",
       "        text-align: right;\n",
       "    }\n",
       "</style>\n",
       "<table border=\"1\" class=\"dataframe\">\n",
       "  <thead>\n",
       "    <tr style=\"text-align: right;\">\n",
       "      <th></th>\n",
       "      <th>event_1h_ago</th>\n",
       "      <th>timestamp</th>\n",
       "      <th>region_id</th>\n",
       "      <th>event_all_region</th>\n",
       "    </tr>\n",
       "  </thead>\n",
       "  <tbody>\n",
       "    <tr>\n",
       "      <th>0</th>\n",
       "      <td>0</td>\n",
       "      <td>2022-02-24 22:00:00</td>\n",
       "      <td>1</td>\n",
       "      <td>0.0</td>\n",
       "    </tr>\n",
       "    <tr>\n",
       "      <th>1</th>\n",
       "      <td>0</td>\n",
       "      <td>2022-02-24 23:00:00</td>\n",
       "      <td>1</td>\n",
       "      <td>0.0</td>\n",
       "    </tr>\n",
       "    <tr>\n",
       "      <th>2</th>\n",
       "      <td>0</td>\n",
       "      <td>2022-02-25 00:00:00</td>\n",
       "      <td>1</td>\n",
       "      <td>0.0</td>\n",
       "    </tr>\n",
       "    <tr>\n",
       "      <th>3</th>\n",
       "      <td>0</td>\n",
       "      <td>2022-02-25 01:00:00</td>\n",
       "      <td>1</td>\n",
       "      <td>0.0</td>\n",
       "    </tr>\n",
       "    <tr>\n",
       "      <th>4</th>\n",
       "      <td>0</td>\n",
       "      <td>2022-02-25 02:00:00</td>\n",
       "      <td>1</td>\n",
       "      <td>0.0</td>\n",
       "    </tr>\n",
       "    <tr>\n",
       "      <th>...</th>\n",
       "      <td>...</td>\n",
       "      <td>...</td>\n",
       "      <td>...</td>\n",
       "      <td>...</td>\n",
       "    </tr>\n",
       "    <tr>\n",
       "      <th>622651</th>\n",
       "      <td>0</td>\n",
       "      <td>2025-03-01 17:00:00</td>\n",
       "      <td>25</td>\n",
       "      <td>0.0</td>\n",
       "    </tr>\n",
       "    <tr>\n",
       "      <th>622652</th>\n",
       "      <td>0</td>\n",
       "      <td>2025-03-01 18:00:00</td>\n",
       "      <td>25</td>\n",
       "      <td>0.0</td>\n",
       "    </tr>\n",
       "    <tr>\n",
       "      <th>622653</th>\n",
       "      <td>0</td>\n",
       "      <td>2025-03-01 19:00:00</td>\n",
       "      <td>25</td>\n",
       "      <td>0.0</td>\n",
       "    </tr>\n",
       "    <tr>\n",
       "      <th>622654</th>\n",
       "      <td>0</td>\n",
       "      <td>2025-03-01 20:00:00</td>\n",
       "      <td>25</td>\n",
       "      <td>0.0</td>\n",
       "    </tr>\n",
       "    <tr>\n",
       "      <th>622655</th>\n",
       "      <td>0</td>\n",
       "      <td>2025-03-01 21:00:00</td>\n",
       "      <td>25</td>\n",
       "      <td>1.0</td>\n",
       "    </tr>\n",
       "  </tbody>\n",
       "</table>\n",
       "<p>622656 rows × 4 columns</p>\n",
       "</div>"
      ]
     },
     "execution_count": 13,
     "metadata": {},
     "output_type": "execute_result"
    }
   ],
   "execution_count": 13
  },
  {
   "metadata": {
    "ExecuteTime": {
     "end_time": "2025-04-22T00:48:19.937629Z",
     "start_time": "2025-04-22T00:48:19.887079Z"
    }
   },
   "cell_type": "code",
   "source": "",
   "id": "612795898734ec98",
   "outputs": [
    {
     "data": {
      "text/plain": [
       "       event_1h_ago           timestamp  region_id  event_all_region\n",
       "25944             0 2022-02-24 22:00:00          2               0.0\n",
       "25945             0 2022-02-24 23:00:00          2               0.0\n",
       "25946             0 2022-02-25 00:00:00          2               0.0\n",
       "25947             0 2022-02-25 01:00:00          2               0.0\n",
       "25948             0 2022-02-25 02:00:00          2               0.0\n",
       "...             ...                 ...        ...               ...\n",
       "51883             0 2025-03-01 17:00:00          2               0.0\n",
       "51884             0 2025-03-01 18:00:00          2               0.0\n",
       "51885             0 2025-03-01 19:00:00          2               0.0\n",
       "51886             0 2025-03-01 20:00:00          2               0.0\n",
       "51887             0 2025-03-01 21:00:00          2               0.0\n",
       "\n",
       "[25944 rows x 4 columns]"
      ],
      "text/html": [
       "<div>\n",
       "<style scoped>\n",
       "    .dataframe tbody tr th:only-of-type {\n",
       "        vertical-align: middle;\n",
       "    }\n",
       "\n",
       "    .dataframe tbody tr th {\n",
       "        vertical-align: top;\n",
       "    }\n",
       "\n",
       "    .dataframe thead th {\n",
       "        text-align: right;\n",
       "    }\n",
       "</style>\n",
       "<table border=\"1\" class=\"dataframe\">\n",
       "  <thead>\n",
       "    <tr style=\"text-align: right;\">\n",
       "      <th></th>\n",
       "      <th>event_1h_ago</th>\n",
       "      <th>timestamp</th>\n",
       "      <th>region_id</th>\n",
       "      <th>event_all_region</th>\n",
       "    </tr>\n",
       "  </thead>\n",
       "  <tbody>\n",
       "    <tr>\n",
       "      <th>25944</th>\n",
       "      <td>0</td>\n",
       "      <td>2022-02-24 22:00:00</td>\n",
       "      <td>2</td>\n",
       "      <td>0.0</td>\n",
       "    </tr>\n",
       "    <tr>\n",
       "      <th>25945</th>\n",
       "      <td>0</td>\n",
       "      <td>2022-02-24 23:00:00</td>\n",
       "      <td>2</td>\n",
       "      <td>0.0</td>\n",
       "    </tr>\n",
       "    <tr>\n",
       "      <th>25946</th>\n",
       "      <td>0</td>\n",
       "      <td>2022-02-25 00:00:00</td>\n",
       "      <td>2</td>\n",
       "      <td>0.0</td>\n",
       "    </tr>\n",
       "    <tr>\n",
       "      <th>25947</th>\n",
       "      <td>0</td>\n",
       "      <td>2022-02-25 01:00:00</td>\n",
       "      <td>2</td>\n",
       "      <td>0.0</td>\n",
       "    </tr>\n",
       "    <tr>\n",
       "      <th>25948</th>\n",
       "      <td>0</td>\n",
       "      <td>2022-02-25 02:00:00</td>\n",
       "      <td>2</td>\n",
       "      <td>0.0</td>\n",
       "    </tr>\n",
       "    <tr>\n",
       "      <th>...</th>\n",
       "      <td>...</td>\n",
       "      <td>...</td>\n",
       "      <td>...</td>\n",
       "      <td>...</td>\n",
       "    </tr>\n",
       "    <tr>\n",
       "      <th>51883</th>\n",
       "      <td>0</td>\n",
       "      <td>2025-03-01 17:00:00</td>\n",
       "      <td>2</td>\n",
       "      <td>0.0</td>\n",
       "    </tr>\n",
       "    <tr>\n",
       "      <th>51884</th>\n",
       "      <td>0</td>\n",
       "      <td>2025-03-01 18:00:00</td>\n",
       "      <td>2</td>\n",
       "      <td>0.0</td>\n",
       "    </tr>\n",
       "    <tr>\n",
       "      <th>51885</th>\n",
       "      <td>0</td>\n",
       "      <td>2025-03-01 19:00:00</td>\n",
       "      <td>2</td>\n",
       "      <td>0.0</td>\n",
       "    </tr>\n",
       "    <tr>\n",
       "      <th>51886</th>\n",
       "      <td>0</td>\n",
       "      <td>2025-03-01 20:00:00</td>\n",
       "      <td>2</td>\n",
       "      <td>0.0</td>\n",
       "    </tr>\n",
       "    <tr>\n",
       "      <th>51887</th>\n",
       "      <td>0</td>\n",
       "      <td>2025-03-01 21:00:00</td>\n",
       "      <td>2</td>\n",
       "      <td>0.0</td>\n",
       "    </tr>\n",
       "  </tbody>\n",
       "</table>\n",
       "<p>25944 rows × 4 columns</p>\n",
       "</div>"
      ]
     },
     "execution_count": 14,
     "metadata": {},
     "output_type": "execute_result"
    }
   ],
   "execution_count": 14
  },
  {
   "metadata": {
    "ExecuteTime": {
     "end_time": "2025-04-22T00:48:20.816046Z",
     "start_time": "2025-04-22T00:48:20.000246Z"
    }
   },
   "cell_type": "code",
   "source": "df.drop('timestamp', axis=1, inplace=True)",
   "id": "1385ddc90f271add",
   "outputs": [],
   "execution_count": 15
  },
  {
   "metadata": {
    "ExecuteTime": {
     "end_time": "2025-04-22T00:48:29.661531Z",
     "start_time": "2025-04-22T00:48:20.846074Z"
    }
   },
   "cell_type": "code",
   "source": "df.to_parquet(f\"{OUTPUT_FOLDER}/{ALL_MERGED_DATA_FILE}.parquet\", index=False, engine=\"pyarrow\")",
   "id": "7b6bc191872e2996",
   "outputs": [],
   "execution_count": 16
  },
  {
   "metadata": {
    "ExecuteTime": {
     "end_time": "2025-04-22T00:48:29.684398Z",
     "start_time": "2025-04-22T00:48:29.678974Z"
    }
   },
   "cell_type": "code",
   "source": "df['region_id'].unique()",
   "id": "859578f4e8f78593",
   "outputs": [
    {
     "data": {
      "text/plain": [
       "array([ 1,  2,  3,  4,  5,  6,  7,  8,  9, 10, 11, 13, 14, 15, 16, 17, 18,\n",
       "       19, 20, 21, 22, 23, 24, 25])"
      ]
     },
     "execution_count": 17,
     "metadata": {},
     "output_type": "execute_result"
    }
   ],
   "execution_count": 17
  },
  {
   "metadata": {
    "ExecuteTime": {
     "end_time": "2025-04-22T00:48:29.709308Z",
     "start_time": "2025-04-22T00:48:29.707911Z"
    }
   },
   "cell_type": "code",
   "source": "",
   "id": "5c17410d6a26b60b",
   "outputs": [],
   "execution_count": null
  }
 ],
 "metadata": {
  "kernelspec": {
   "display_name": "Python 3",
   "language": "python",
   "name": "python3"
  },
  "language_info": {
   "codemirror_mode": {
    "name": "ipython",
    "version": 2
   },
   "file_extension": ".py",
   "mimetype": "text/x-python",
   "name": "python",
   "nbconvert_exporter": "python",
   "pygments_lexer": "ipython2",
   "version": "2.7.6"
  }
 },
 "nbformat": 4,
 "nbformat_minor": 5
}
