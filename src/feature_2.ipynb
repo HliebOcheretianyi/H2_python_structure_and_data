{
 "cells": [
  {
   "metadata": {
    "ExecuteTime": {
     "end_time": "2025-04-23T01:59:12.955878Z",
     "start_time": "2025-04-23T01:59:12.931490Z"
    }
   },
   "cell_type": "code",
   "source": [
    "import pandas as pd\n",
    "import holidays\n",
    "from datetime import date"
   ],
   "id": "eadc9550a7b51858",
   "outputs": [],
   "execution_count": 1
  },
  {
   "metadata": {
    "ExecuteTime": {
     "end_time": "2025-04-23T01:59:12.965556Z",
     "start_time": "2025-04-23T01:59:12.963104Z"
    }
   },
   "cell_type": "code",
   "source": [
    "INPUT_DATA_FOLDER = \"../data\"\n",
    "REPORTS_DATA_FILE = \"ISW_vector.csv\"\n",
    "\n",
    "OUTPUT_FOLDER = \"../data/all_data_preprocessed\"\n",
    "ISW_OUTPUT_DATA_FILE = \"all_isw.csv\"\n",
    "ALARMS_OUTPUT_DATA_FILE = \"all_alarms.csv\"\n",
    "WEATHER_EVENTS_OUTPUT_DATA_FILE = \"all_weather_by_hour.csv\"\n",
    "MERGED_OUTPUT_DATA_FILE = \"weather_regions_alarms_merged.csv\"\n",
    "ALL_MERGED_DATA_FILE = \"all_merged\"\n",
    "\n",
    "MODEL_FOLDER = \"model\"\n",
    "\n",
    "tfidf_transformer_model = \"tfidf_transformer\"\n",
    "count_vectorizer_model = \"count_vectorizer\"\n",
    "\n",
    "tfidf_transformer_version = \"v1\"\n",
    "count_vectorizer_version = \"v1\""
   ],
   "id": "f78aa71657968bc6",
   "outputs": [],
   "execution_count": 2
  },
  {
   "metadata": {
    "ExecuteTime": {
     "end_time": "2025-04-23T01:59:14.334588Z",
     "start_time": "2025-04-23T01:59:13.118705Z"
    }
   },
   "cell_type": "code",
   "source": "df = pd.read_parquet(f\"{OUTPUT_FOLDER}/{ALL_MERGED_DATA_FILE}.parquet\")",
   "id": "cca9e312706aaba7",
   "outputs": [],
   "execution_count": 3
  },
  {
   "metadata": {
    "ExecuteTime": {
     "end_time": "2025-04-23T01:59:14.367725Z",
     "start_time": "2025-04-23T01:59:14.343722Z"
    }
   },
   "cell_type": "code",
   "source": "df.info()",
   "id": "553a84ee1acceb5a",
   "outputs": [
    {
     "name": "stdout",
     "output_type": "stream",
     "text": [
      "<class 'pandas.core.frame.DataFrame'>\n",
      "RangeIndex: 643944 entries, 0 to 643943\n",
      "Columns: 1039 entries, day_datetimeEpoch to 999\n",
      "dtypes: float64(1030), int64(9)\n",
      "memory usage: 5.0 GB\n"
     ]
    }
   ],
   "execution_count": 4
  },
  {
   "metadata": {
    "ExecuteTime": {
     "end_time": "2025-04-23T01:59:14.959376Z",
     "start_time": "2025-04-23T01:59:14.381734Z"
    }
   },
   "cell_type": "code",
   "source": "df['timestamp'] = pd.to_datetime(df['hour_datetimeEpoch'], unit='s').dt.strftime('%Y-%m-%d %H:%M:%S')",
   "id": "35d290421a6389b5",
   "outputs": [],
   "execution_count": 5
  },
  {
   "metadata": {
    "ExecuteTime": {
     "end_time": "2025-04-23T01:59:16.229182Z",
     "start_time": "2025-04-23T01:59:14.971265Z"
    }
   },
   "cell_type": "code",
   "source": [
    "df['timestamp']= pd.to_datetime(df['timestamp'])\n",
    "df = df.set_index(pd.DatetimeIndex(df['timestamp']))"
   ],
   "id": "ca9a47b80222dcc6",
   "outputs": [],
   "execution_count": 6
  },
  {
   "metadata": {
    "ExecuteTime": {
     "end_time": "2025-04-23T01:59:17.734384Z",
     "start_time": "2025-04-23T01:59:16.239112Z"
    }
   },
   "cell_type": "code",
   "source": [
    "hourly_has_event = df.groupby('region_id')['event_all_region'].resample('h').sum().gt(0).astype(int)\n",
    "hours_with_events_per_day = hourly_has_event.groupby('region_id').resample('D', level=1).sum()\n",
    "\n",
    "hours_with_events_per_day = hours_with_events_per_day.reset_index()\n",
    "\n",
    "hours_with_events_per_day.rename(columns={'event_all_region': 'event_lastDay_region'}, inplace=True)\n",
    "\n",
    "df['date'] = df['timestamp'].dt.date\n",
    "hours_with_events_per_day['date'] = hours_with_events_per_day['timestamp'].dt.date\n",
    "\n",
    "df = df.merge(\n",
    "    hours_with_events_per_day[['region_id', 'date', 'event_lastDay_region']],\n",
    "    on=['region_id', 'date'],\n",
    "    how='left'\n",
    ")\n",
    "\n"
   ],
   "id": "f322d66d98b24233",
   "outputs": [],
   "execution_count": 7
  },
  {
   "metadata": {
    "ExecuteTime": {
     "end_time": "2025-04-23T01:59:17.773895Z",
     "start_time": "2025-04-23T01:59:17.761717Z"
    }
   },
   "cell_type": "code",
   "source": "df[['event_lastDay_region', 'event_all_region', 'region_id']]",
   "id": "c5738444d61c73f4",
   "outputs": [
    {
     "data": {
      "text/plain": [
       "        event_lastDay_region  event_all_region  region_id\n",
       "0                          0               0.0          3\n",
       "1                          0               0.0          3\n",
       "2                          2               0.0          3\n",
       "3                          2               0.0          3\n",
       "4                          2               0.0          3\n",
       "...                      ...               ...        ...\n",
       "643939                     5               0.0          1\n",
       "643940                     5               0.0          1\n",
       "643941                     5               0.0          1\n",
       "643942                     5               0.0          1\n",
       "643943                     5               0.0          1\n",
       "\n",
       "[643944 rows x 3 columns]"
      ],
      "text/html": [
       "<div>\n",
       "<style scoped>\n",
       "    .dataframe tbody tr th:only-of-type {\n",
       "        vertical-align: middle;\n",
       "    }\n",
       "\n",
       "    .dataframe tbody tr th {\n",
       "        vertical-align: top;\n",
       "    }\n",
       "\n",
       "    .dataframe thead th {\n",
       "        text-align: right;\n",
       "    }\n",
       "</style>\n",
       "<table border=\"1\" class=\"dataframe\">\n",
       "  <thead>\n",
       "    <tr style=\"text-align: right;\">\n",
       "      <th></th>\n",
       "      <th>event_lastDay_region</th>\n",
       "      <th>event_all_region</th>\n",
       "      <th>region_id</th>\n",
       "    </tr>\n",
       "  </thead>\n",
       "  <tbody>\n",
       "    <tr>\n",
       "      <th>0</th>\n",
       "      <td>0</td>\n",
       "      <td>0.0</td>\n",
       "      <td>3</td>\n",
       "    </tr>\n",
       "    <tr>\n",
       "      <th>1</th>\n",
       "      <td>0</td>\n",
       "      <td>0.0</td>\n",
       "      <td>3</td>\n",
       "    </tr>\n",
       "    <tr>\n",
       "      <th>2</th>\n",
       "      <td>2</td>\n",
       "      <td>0.0</td>\n",
       "      <td>3</td>\n",
       "    </tr>\n",
       "    <tr>\n",
       "      <th>3</th>\n",
       "      <td>2</td>\n",
       "      <td>0.0</td>\n",
       "      <td>3</td>\n",
       "    </tr>\n",
       "    <tr>\n",
       "      <th>4</th>\n",
       "      <td>2</td>\n",
       "      <td>0.0</td>\n",
       "      <td>3</td>\n",
       "    </tr>\n",
       "    <tr>\n",
       "      <th>...</th>\n",
       "      <td>...</td>\n",
       "      <td>...</td>\n",
       "      <td>...</td>\n",
       "    </tr>\n",
       "    <tr>\n",
       "      <th>643939</th>\n",
       "      <td>5</td>\n",
       "      <td>0.0</td>\n",
       "      <td>1</td>\n",
       "    </tr>\n",
       "    <tr>\n",
       "      <th>643940</th>\n",
       "      <td>5</td>\n",
       "      <td>0.0</td>\n",
       "      <td>1</td>\n",
       "    </tr>\n",
       "    <tr>\n",
       "      <th>643941</th>\n",
       "      <td>5</td>\n",
       "      <td>0.0</td>\n",
       "      <td>1</td>\n",
       "    </tr>\n",
       "    <tr>\n",
       "      <th>643942</th>\n",
       "      <td>5</td>\n",
       "      <td>0.0</td>\n",
       "      <td>1</td>\n",
       "    </tr>\n",
       "    <tr>\n",
       "      <th>643943</th>\n",
       "      <td>5</td>\n",
       "      <td>0.0</td>\n",
       "      <td>1</td>\n",
       "    </tr>\n",
       "  </tbody>\n",
       "</table>\n",
       "<p>643944 rows × 3 columns</p>\n",
       "</div>"
      ]
     },
     "execution_count": 8,
     "metadata": {},
     "output_type": "execute_result"
    }
   ],
   "execution_count": 8
  },
  {
   "metadata": {
    "ExecuteTime": {
     "end_time": "2025-04-23T01:59:17.822891Z",
     "start_time": "2025-04-23T01:59:17.816172Z"
    }
   },
   "cell_type": "code",
   "source": "df.event_lastDay_region.unique()",
   "id": "dcffb51f0de754ef",
   "outputs": [
    {
     "data": {
      "text/plain": [
       "array([ 0,  2, 11, 12,  8,  6,  7,  4,  3,  5, 10, 15, 13, 14,  1,  9, 16,\n",
       "       17, 23, 19, 24, 18, 22, 21, 20])"
      ]
     },
     "execution_count": 9,
     "metadata": {},
     "output_type": "execute_result"
    }
   ],
   "execution_count": 9
  },
  {
   "metadata": {
    "ExecuteTime": {
     "end_time": "2025-04-23T01:59:18.658506Z",
     "start_time": "2025-04-23T01:59:17.868994Z"
    }
   },
   "cell_type": "code",
   "source": [
    "df['timestamp'] = pd.to_datetime(df['hour_datetimeEpoch'], unit='s').dt.strftime('%Y-%m-%d %H:%M:%S')\n",
    "df['timestamp']= pd.to_datetime(df['timestamp'])"
   ],
   "id": "e2dfe6af2434a43d",
   "outputs": [],
   "execution_count": 10
  },
  {
   "metadata": {
    "ExecuteTime": {
     "end_time": "2025-04-23T01:59:20.836557Z",
     "start_time": "2025-04-23T01:59:18.666311Z"
    }
   },
   "cell_type": "code",
   "source": [
    "df = df.set_index(['timestamp','region_id' ])\n",
    "duplicates = df.index.duplicated(keep=False)\n",
    "df = df[~df.index.duplicated(keep='first')]\n",
    "df.reset_index(inplace=True, drop=False) "
   ],
   "id": "9bd0bb0d44aeba2f",
   "outputs": [],
   "execution_count": 11
  },
  {
   "metadata": {
    "ExecuteTime": {
     "end_time": "2025-04-23T01:59:20.896130Z",
     "start_time": "2025-04-23T01:59:20.867718Z"
    }
   },
   "cell_type": "code",
   "source": "df.info()",
   "id": "4cb7194e6dc5826",
   "outputs": [
    {
     "name": "stdout",
     "output_type": "stream",
     "text": [
      "<class 'pandas.core.frame.DataFrame'>\n",
      "RangeIndex: 622656 entries, 0 to 622655\n",
      "Columns: 1042 entries, timestamp to event_lastDay_region\n",
      "dtypes: datetime64[ns](1), float64(1030), int64(10), object(1)\n",
      "memory usage: 4.8+ GB\n"
     ]
    }
   ],
   "execution_count": 12
  },
  {
   "metadata": {
    "ExecuteTime": {
     "end_time": "2025-04-23T01:59:21.372779Z",
     "start_time": "2025-04-23T01:59:21.353071Z"
    }
   },
   "cell_type": "code",
   "source": "df.index",
   "id": "534b7f0b14439af8",
   "outputs": [
    {
     "data": {
      "text/plain": [
       "RangeIndex(start=0, stop=622656, step=1)"
      ]
     },
     "execution_count": 13,
     "metadata": {},
     "output_type": "execute_result"
    }
   ],
   "execution_count": 13
  },
  {
   "metadata": {
    "ExecuteTime": {
     "end_time": "2025-04-23T01:59:21.537800Z",
     "start_time": "2025-04-23T01:59:21.393066Z"
    }
   },
   "cell_type": "code",
   "source": "df[['event_all_region', 'timestamp']]",
   "id": "3f16b4843bf456b6",
   "outputs": [
    {
     "data": {
      "text/plain": [
       "        event_all_region           timestamp\n",
       "0                    0.0 2022-02-24 22:00:00\n",
       "1                    0.0 2022-02-24 23:00:00\n",
       "2                    0.0 2022-02-25 00:00:00\n",
       "3                    0.0 2022-02-25 01:00:00\n",
       "4                    0.0 2022-02-25 02:00:00\n",
       "...                  ...                 ...\n",
       "622651               0.0 2025-03-01 17:00:00\n",
       "622652               0.0 2025-03-01 18:00:00\n",
       "622653               0.0 2025-03-01 19:00:00\n",
       "622654               0.0 2025-03-01 20:00:00\n",
       "622655               0.0 2025-03-01 21:00:00\n",
       "\n",
       "[622656 rows x 2 columns]"
      ],
      "text/html": [
       "<div>\n",
       "<style scoped>\n",
       "    .dataframe tbody tr th:only-of-type {\n",
       "        vertical-align: middle;\n",
       "    }\n",
       "\n",
       "    .dataframe tbody tr th {\n",
       "        vertical-align: top;\n",
       "    }\n",
       "\n",
       "    .dataframe thead th {\n",
       "        text-align: right;\n",
       "    }\n",
       "</style>\n",
       "<table border=\"1\" class=\"dataframe\">\n",
       "  <thead>\n",
       "    <tr style=\"text-align: right;\">\n",
       "      <th></th>\n",
       "      <th>event_all_region</th>\n",
       "      <th>timestamp</th>\n",
       "    </tr>\n",
       "  </thead>\n",
       "  <tbody>\n",
       "    <tr>\n",
       "      <th>0</th>\n",
       "      <td>0.0</td>\n",
       "      <td>2022-02-24 22:00:00</td>\n",
       "    </tr>\n",
       "    <tr>\n",
       "      <th>1</th>\n",
       "      <td>0.0</td>\n",
       "      <td>2022-02-24 23:00:00</td>\n",
       "    </tr>\n",
       "    <tr>\n",
       "      <th>2</th>\n",
       "      <td>0.0</td>\n",
       "      <td>2022-02-25 00:00:00</td>\n",
       "    </tr>\n",
       "    <tr>\n",
       "      <th>3</th>\n",
       "      <td>0.0</td>\n",
       "      <td>2022-02-25 01:00:00</td>\n",
       "    </tr>\n",
       "    <tr>\n",
       "      <th>4</th>\n",
       "      <td>0.0</td>\n",
       "      <td>2022-02-25 02:00:00</td>\n",
       "    </tr>\n",
       "    <tr>\n",
       "      <th>...</th>\n",
       "      <td>...</td>\n",
       "      <td>...</td>\n",
       "    </tr>\n",
       "    <tr>\n",
       "      <th>622651</th>\n",
       "      <td>0.0</td>\n",
       "      <td>2025-03-01 17:00:00</td>\n",
       "    </tr>\n",
       "    <tr>\n",
       "      <th>622652</th>\n",
       "      <td>0.0</td>\n",
       "      <td>2025-03-01 18:00:00</td>\n",
       "    </tr>\n",
       "    <tr>\n",
       "      <th>622653</th>\n",
       "      <td>0.0</td>\n",
       "      <td>2025-03-01 19:00:00</td>\n",
       "    </tr>\n",
       "    <tr>\n",
       "      <th>622654</th>\n",
       "      <td>0.0</td>\n",
       "      <td>2025-03-01 20:00:00</td>\n",
       "    </tr>\n",
       "    <tr>\n",
       "      <th>622655</th>\n",
       "      <td>0.0</td>\n",
       "      <td>2025-03-01 21:00:00</td>\n",
       "    </tr>\n",
       "  </tbody>\n",
       "</table>\n",
       "<p>622656 rows × 2 columns</p>\n",
       "</div>"
      ]
     },
     "execution_count": 14,
     "metadata": {},
     "output_type": "execute_result"
    }
   ],
   "execution_count": 14
  },
  {
   "metadata": {
    "ExecuteTime": {
     "end_time": "2025-04-23T01:59:21.582482Z",
     "start_time": "2025-04-23T01:59:21.575045Z"
    }
   },
   "cell_type": "code",
   "source": "df.info()",
   "id": "13a986a4bb90024e",
   "outputs": [
    {
     "name": "stdout",
     "output_type": "stream",
     "text": [
      "<class 'pandas.core.frame.DataFrame'>\n",
      "RangeIndex: 622656 entries, 0 to 622655\n",
      "Columns: 1042 entries, timestamp to event_lastDay_region\n",
      "dtypes: datetime64[ns](1), float64(1030), int64(10), object(1)\n",
      "memory usage: 4.8+ GB\n"
     ]
    }
   ],
   "execution_count": 15
  },
  {
   "metadata": {
    "ExecuteTime": {
     "end_time": "2025-04-23T01:59:21.608279Z",
     "start_time": "2025-04-23T01:59:21.606372Z"
    }
   },
   "cell_type": "code",
   "source": "hours = [1, 2]",
   "id": "8534a0e1ec9b63ef",
   "outputs": [],
   "execution_count": 16
  },
  {
   "metadata": {
    "ExecuteTime": {
     "end_time": "2025-04-23T01:59:35.349166Z",
     "start_time": "2025-04-23T01:59:21.672124Z"
    }
   },
   "cell_type": "code",
   "source": [
    "for h in hours:\n",
    "    df = df.sort_values(by=['region_id', 'timestamp'])\n",
    "\n",
    "    df_shifted = df[['region_id', 'timestamp', 'event_all_region']].copy()\n",
    "    df_shifted['timestamp'] = df_shifted['timestamp'] + pd.Timedelta(hours=h)\n",
    "    df_shifted = df_shifted.rename(columns={'event_all_region': f'event_{h}h_ago'})\n",
    "\n",
    "    df = df.merge(df_shifted, on=['region_id', 'timestamp'], how='left')\n",
    "\n",
    "    df[f'event_{h}h_ago'] = df[f'event_{h}h_ago'].fillna(0).astype(int)"
   ],
   "id": "a8fade6416833f94",
   "outputs": [],
   "execution_count": 17
  },
  {
   "metadata": {
    "ExecuteTime": {
     "end_time": "2025-04-23T01:59:35.442608Z",
     "start_time": "2025-04-23T01:59:35.430419Z"
    }
   },
   "cell_type": "code",
   "source": "df[['event_1h_ago','timestamp','region_id','event_all_region', 'event_lastDay_region']]",
   "id": "aa48a705c4c60e88",
   "outputs": [
    {
     "data": {
      "text/plain": [
       "        event_1h_ago           timestamp  region_id  event_all_region  \\\n",
       "0                  0 2022-02-24 22:00:00          1               0.0   \n",
       "1                  0 2022-02-24 23:00:00          1               0.0   \n",
       "2                  0 2022-02-25 00:00:00          1               0.0   \n",
       "3                  0 2022-02-25 01:00:00          1               0.0   \n",
       "4                  0 2022-02-25 02:00:00          1               0.0   \n",
       "...              ...                 ...        ...               ...   \n",
       "622651             0 2025-03-01 17:00:00         25               0.0   \n",
       "622652             0 2025-03-01 18:00:00         25               0.0   \n",
       "622653             0 2025-03-01 19:00:00         25               0.0   \n",
       "622654             0 2025-03-01 20:00:00         25               0.0   \n",
       "622655             0 2025-03-01 21:00:00         25               1.0   \n",
       "\n",
       "        event_lastDay_region  \n",
       "0                          0  \n",
       "1                          0  \n",
       "2                          2  \n",
       "3                          2  \n",
       "4                          2  \n",
       "...                      ...  \n",
       "622651                     6  \n",
       "622652                     6  \n",
       "622653                     6  \n",
       "622654                     6  \n",
       "622655                     6  \n",
       "\n",
       "[622656 rows x 5 columns]"
      ],
      "text/html": [
       "<div>\n",
       "<style scoped>\n",
       "    .dataframe tbody tr th:only-of-type {\n",
       "        vertical-align: middle;\n",
       "    }\n",
       "\n",
       "    .dataframe tbody tr th {\n",
       "        vertical-align: top;\n",
       "    }\n",
       "\n",
       "    .dataframe thead th {\n",
       "        text-align: right;\n",
       "    }\n",
       "</style>\n",
       "<table border=\"1\" class=\"dataframe\">\n",
       "  <thead>\n",
       "    <tr style=\"text-align: right;\">\n",
       "      <th></th>\n",
       "      <th>event_1h_ago</th>\n",
       "      <th>timestamp</th>\n",
       "      <th>region_id</th>\n",
       "      <th>event_all_region</th>\n",
       "      <th>event_lastDay_region</th>\n",
       "    </tr>\n",
       "  </thead>\n",
       "  <tbody>\n",
       "    <tr>\n",
       "      <th>0</th>\n",
       "      <td>0</td>\n",
       "      <td>2022-02-24 22:00:00</td>\n",
       "      <td>1</td>\n",
       "      <td>0.0</td>\n",
       "      <td>0</td>\n",
       "    </tr>\n",
       "    <tr>\n",
       "      <th>1</th>\n",
       "      <td>0</td>\n",
       "      <td>2022-02-24 23:00:00</td>\n",
       "      <td>1</td>\n",
       "      <td>0.0</td>\n",
       "      <td>0</td>\n",
       "    </tr>\n",
       "    <tr>\n",
       "      <th>2</th>\n",
       "      <td>0</td>\n",
       "      <td>2022-02-25 00:00:00</td>\n",
       "      <td>1</td>\n",
       "      <td>0.0</td>\n",
       "      <td>2</td>\n",
       "    </tr>\n",
       "    <tr>\n",
       "      <th>3</th>\n",
       "      <td>0</td>\n",
       "      <td>2022-02-25 01:00:00</td>\n",
       "      <td>1</td>\n",
       "      <td>0.0</td>\n",
       "      <td>2</td>\n",
       "    </tr>\n",
       "    <tr>\n",
       "      <th>4</th>\n",
       "      <td>0</td>\n",
       "      <td>2022-02-25 02:00:00</td>\n",
       "      <td>1</td>\n",
       "      <td>0.0</td>\n",
       "      <td>2</td>\n",
       "    </tr>\n",
       "    <tr>\n",
       "      <th>...</th>\n",
       "      <td>...</td>\n",
       "      <td>...</td>\n",
       "      <td>...</td>\n",
       "      <td>...</td>\n",
       "      <td>...</td>\n",
       "    </tr>\n",
       "    <tr>\n",
       "      <th>622651</th>\n",
       "      <td>0</td>\n",
       "      <td>2025-03-01 17:00:00</td>\n",
       "      <td>25</td>\n",
       "      <td>0.0</td>\n",
       "      <td>6</td>\n",
       "    </tr>\n",
       "    <tr>\n",
       "      <th>622652</th>\n",
       "      <td>0</td>\n",
       "      <td>2025-03-01 18:00:00</td>\n",
       "      <td>25</td>\n",
       "      <td>0.0</td>\n",
       "      <td>6</td>\n",
       "    </tr>\n",
       "    <tr>\n",
       "      <th>622653</th>\n",
       "      <td>0</td>\n",
       "      <td>2025-03-01 19:00:00</td>\n",
       "      <td>25</td>\n",
       "      <td>0.0</td>\n",
       "      <td>6</td>\n",
       "    </tr>\n",
       "    <tr>\n",
       "      <th>622654</th>\n",
       "      <td>0</td>\n",
       "      <td>2025-03-01 20:00:00</td>\n",
       "      <td>25</td>\n",
       "      <td>0.0</td>\n",
       "      <td>6</td>\n",
       "    </tr>\n",
       "    <tr>\n",
       "      <th>622655</th>\n",
       "      <td>0</td>\n",
       "      <td>2025-03-01 21:00:00</td>\n",
       "      <td>25</td>\n",
       "      <td>1.0</td>\n",
       "      <td>6</td>\n",
       "    </tr>\n",
       "  </tbody>\n",
       "</table>\n",
       "<p>622656 rows × 5 columns</p>\n",
       "</div>"
      ]
     },
     "execution_count": 18,
     "metadata": {},
     "output_type": "execute_result"
    }
   ],
   "execution_count": 18
  },
  {
   "metadata": {
    "ExecuteTime": {
     "end_time": "2025-04-23T01:59:35.514687Z",
     "start_time": "2025-04-23T01:59:35.510269Z"
    }
   },
   "cell_type": "code",
   "source": [
    "class UkrainianECBHolidays(holidays.HolidayBase):\n",
    "    def __init__(self, years=None, **kwargs):\n",
    "        self.country = \"UA\"\n",
    "        super().__init__(years=years, **kwargs)\n",
    "\n",
    "    def _populate(self, year):\n",
    "        self[date(year, 1, 1)] = \"New Year's Day\"\n",
    "        self[date(year, 1, 7)] = \"Orthodox Christmas\"\n",
    "        self[date(year, 3, 8)] = \"International Women's Day\"\n",
    "        self[date(year, 5, 1)] = \"Labour Day\"\n",
    "        self[date(year, 5, 8)] = \"Day of Remembrance and Reconciliation\"\n",
    "        self[date(year, 5, 9)] = \"Victory Day\"\n",
    "        self[date(year, 6, 28)] = \"Constitution Day of Ukraine\"\n",
    "        self[date(year, 8, 24)] = \"Independence Day of Ukraine\"\n",
    "        self[date(year, 12, 25)] = \"Christmas (Western)\"\n",
    "\n",
    "class RussianECBHolidays(holidays.HolidayBase):\n",
    "    def __init__(self, years=None, **kwargs):\n",
    "        self.country = \"RU\"\n",
    "        super().__init__(years=years, **kwargs)\n",
    "\n",
    "    def _populate(self, year):\n",
    "        self[date(year, 1, 1)] = \"New Year's Day (Russia)\"\n",
    "        self[date(year, 1, 7)] = \"Orthodox Christmas (Russia)\"\n",
    "        self[date(year, 2, 23)] = \"Defender of the Fatherland Day (Russia)\"\n",
    "        self[date(year, 3, 8)] = \"International Women's Day (Russia)\"\n",
    "        self[date(year, 5, 1)] = \"Spring and Labor Day (Russia)\"\n",
    "        self[date(year, 5, 9)] = \"Victory Day (Russia)\"\n",
    "        self[date(year, 6, 12)] = \"Russia Day\"\n",
    "        self[date(year, 11, 4)] = \"Unity Day (Russia)\""
   ],
   "id": "87ea7774cd92e91b",
   "outputs": [],
   "execution_count": 19
  },
  {
   "metadata": {
    "ExecuteTime": {
     "end_time": "2025-04-23T01:59:35.583883Z",
     "start_time": "2025-04-23T01:59:35.578167Z"
    }
   },
   "cell_type": "code",
   "source": [
    "ua_holidays = UkrainianECBHolidays(years=range(2020, 2032))\n",
    "ru_holidays = RussianECBHolidays(years=range(2020, 2032))"
   ],
   "id": "5e911e7ab530eb4",
   "outputs": [],
   "execution_count": 20
  },
  {
   "metadata": {
    "ExecuteTime": {
     "end_time": "2025-04-23T01:59:37.183551Z",
     "start_time": "2025-04-23T01:59:35.688601Z"
    }
   },
   "cell_type": "code",
   "source": [
    "df['ru_holiday'] = df['date'].apply(lambda x: 1 if x in ru_holidays else 0)\n",
    "df['ua_holiday'] = df['date'].apply(lambda x: 1 if x in ua_holidays else 0)\n",
    "\n",
    "df.drop('date', axis=1, inplace=True)"
   ],
   "id": "b457171402b2ebf5",
   "outputs": [],
   "execution_count": 21
  },
  {
   "metadata": {
    "ExecuteTime": {
     "end_time": "2025-04-23T01:59:37.216908Z",
     "start_time": "2025-04-23T01:59:37.215425Z"
    }
   },
   "cell_type": "code",
   "source": "",
   "id": "c25b2370ed969604",
   "outputs": [],
   "execution_count": null
  },
  {
   "metadata": {
    "ExecuteTime": {
     "end_time": "2025-04-23T01:59:38.157875Z",
     "start_time": "2025-04-23T01:59:37.259078Z"
    }
   },
   "cell_type": "code",
   "source": "df.drop('timestamp', axis=1, inplace=True)",
   "id": "37f9850f057e94ff",
   "outputs": [],
   "execution_count": 22
  },
  {
   "metadata": {
    "ExecuteTime": {
     "end_time": "2025-04-23T01:59:38.204499Z",
     "start_time": "2025-04-23T01:59:38.172739Z"
    }
   },
   "cell_type": "code",
   "source": "df.info()",
   "id": "4410e381ac26af79",
   "outputs": [
    {
     "name": "stdout",
     "output_type": "stream",
     "text": [
      "<class 'pandas.core.frame.DataFrame'>\n",
      "RangeIndex: 622656 entries, 0 to 622655\n",
      "Columns: 1044 entries, region_id to ua_holiday\n",
      "dtypes: float64(1030), int64(14)\n",
      "memory usage: 4.8 GB\n"
     ]
    }
   ],
   "execution_count": 23
  },
  {
   "metadata": {
    "ExecuteTime": {
     "end_time": "2025-04-23T01:59:47.040188Z",
     "start_time": "2025-04-23T01:59:38.295068Z"
    }
   },
   "cell_type": "code",
   "source": "df.to_parquet(f\"{OUTPUT_FOLDER}/{ALL_MERGED_DATA_FILE}.parquet\", index=False, engine=\"pyarrow\")",
   "id": "88c180fecbe6e158",
   "outputs": [],
   "execution_count": 24
  },
  {
   "metadata": {
    "ExecuteTime": {
     "end_time": "2025-04-23T01:59:47.155603Z",
     "start_time": "2025-04-23T01:59:47.061352Z"
    }
   },
   "cell_type": "code",
   "source": "df",
   "id": "8f6ac0294a2c5510",
   "outputs": [
    {
     "data": {
      "text/plain": [
       "        region_id  day_datetimeEpoch  day_tempmax  day_tempmin  day_temp  \\\n",
       "0               1         1645740000          6.0         -1.0       2.6   \n",
       "1               1         1645740000          6.0         -1.0       2.6   \n",
       "2               1         1645740000          6.0         -1.0       2.6   \n",
       "3               1         1645740000          6.0         -1.0       2.6   \n",
       "4               1         1645740000          6.0         -1.0       2.6   \n",
       "...           ...                ...          ...          ...       ...   \n",
       "622651         25         1740780000          0.6         -2.4      -0.7   \n",
       "622652         25         1740780000          0.6         -2.4      -0.7   \n",
       "622653         25         1740780000          0.6         -2.4      -0.7   \n",
       "622654         25         1740780000          0.6         -2.4      -0.7   \n",
       "622655         25         1740780000          0.6         -2.4      -0.7   \n",
       "\n",
       "        day_dew  day_humidity  day_precip  day_precipcover  \\\n",
       "0          -0.4          81.9         0.0             0.00   \n",
       "1          -0.4          81.9         0.0             0.00   \n",
       "2          -0.4          81.9         0.0             0.00   \n",
       "3          -0.4          81.9         0.0             0.00   \n",
       "4          -0.4          81.9         0.0             0.00   \n",
       "...         ...           ...         ...              ...   \n",
       "622651     -2.8          86.3         2.0             4.17   \n",
       "622652     -2.8          86.3         2.0             4.17   \n",
       "622653     -2.8          86.3         2.0             4.17   \n",
       "622654     -2.8          86.3         2.0             4.17   \n",
       "622655     -2.8          86.3         2.0             4.17   \n",
       "\n",
       "        day_solarradiation  ...    995    996    997    998    999  \\\n",
       "0                    126.2  ...  0.502  0.529  0.501  0.466  0.621   \n",
       "1                    126.2  ...  0.502  0.529  0.501  0.466  0.621   \n",
       "2                    126.2  ...  0.502  0.529  0.501  0.466  0.621   \n",
       "3                    126.2  ...  0.502  0.529  0.501  0.466  0.621   \n",
       "4                    126.2  ...  0.502  0.529  0.501  0.466  0.621   \n",
       "...                    ...  ...    ...    ...    ...    ...    ...   \n",
       "622651                41.0  ...  0.598  0.612  0.565  0.558  0.738   \n",
       "622652                41.0  ...  0.598  0.612  0.565  0.558  0.738   \n",
       "622653                41.0  ...  0.598  0.612  0.565  0.558  0.738   \n",
       "622654                41.0  ...  0.598  0.612  0.565  0.558  0.738   \n",
       "622655                41.0  ...  0.598  0.612  0.565  0.558  0.738   \n",
       "\n",
       "        event_lastDay_region  event_1h_ago  event_2h_ago  ru_holiday  \\\n",
       "0                          0             0             0           0   \n",
       "1                          0             0             0           0   \n",
       "2                          2             0             0           0   \n",
       "3                          2             0             0           0   \n",
       "4                          2             0             0           0   \n",
       "...                      ...           ...           ...         ...   \n",
       "622651                     6             0             0           0   \n",
       "622652                     6             0             0           0   \n",
       "622653                     6             0             0           0   \n",
       "622654                     6             0             0           0   \n",
       "622655                     6             0             0           0   \n",
       "\n",
       "        ua_holiday  \n",
       "0                0  \n",
       "1                0  \n",
       "2                0  \n",
       "3                0  \n",
       "4                0  \n",
       "...            ...  \n",
       "622651           0  \n",
       "622652           0  \n",
       "622653           0  \n",
       "622654           0  \n",
       "622655           0  \n",
       "\n",
       "[622656 rows x 1044 columns]"
      ],
      "text/html": [
       "<div>\n",
       "<style scoped>\n",
       "    .dataframe tbody tr th:only-of-type {\n",
       "        vertical-align: middle;\n",
       "    }\n",
       "\n",
       "    .dataframe tbody tr th {\n",
       "        vertical-align: top;\n",
       "    }\n",
       "\n",
       "    .dataframe thead th {\n",
       "        text-align: right;\n",
       "    }\n",
       "</style>\n",
       "<table border=\"1\" class=\"dataframe\">\n",
       "  <thead>\n",
       "    <tr style=\"text-align: right;\">\n",
       "      <th></th>\n",
       "      <th>region_id</th>\n",
       "      <th>day_datetimeEpoch</th>\n",
       "      <th>day_tempmax</th>\n",
       "      <th>day_tempmin</th>\n",
       "      <th>day_temp</th>\n",
       "      <th>day_dew</th>\n",
       "      <th>day_humidity</th>\n",
       "      <th>day_precip</th>\n",
       "      <th>day_precipcover</th>\n",
       "      <th>day_solarradiation</th>\n",
       "      <th>...</th>\n",
       "      <th>995</th>\n",
       "      <th>996</th>\n",
       "      <th>997</th>\n",
       "      <th>998</th>\n",
       "      <th>999</th>\n",
       "      <th>event_lastDay_region</th>\n",
       "      <th>event_1h_ago</th>\n",
       "      <th>event_2h_ago</th>\n",
       "      <th>ru_holiday</th>\n",
       "      <th>ua_holiday</th>\n",
       "    </tr>\n",
       "  </thead>\n",
       "  <tbody>\n",
       "    <tr>\n",
       "      <th>0</th>\n",
       "      <td>1</td>\n",
       "      <td>1645740000</td>\n",
       "      <td>6.0</td>\n",
       "      <td>-1.0</td>\n",
       "      <td>2.6</td>\n",
       "      <td>-0.4</td>\n",
       "      <td>81.9</td>\n",
       "      <td>0.0</td>\n",
       "      <td>0.00</td>\n",
       "      <td>126.2</td>\n",
       "      <td>...</td>\n",
       "      <td>0.502</td>\n",
       "      <td>0.529</td>\n",
       "      <td>0.501</td>\n",
       "      <td>0.466</td>\n",
       "      <td>0.621</td>\n",
       "      <td>0</td>\n",
       "      <td>0</td>\n",
       "      <td>0</td>\n",
       "      <td>0</td>\n",
       "      <td>0</td>\n",
       "    </tr>\n",
       "    <tr>\n",
       "      <th>1</th>\n",
       "      <td>1</td>\n",
       "      <td>1645740000</td>\n",
       "      <td>6.0</td>\n",
       "      <td>-1.0</td>\n",
       "      <td>2.6</td>\n",
       "      <td>-0.4</td>\n",
       "      <td>81.9</td>\n",
       "      <td>0.0</td>\n",
       "      <td>0.00</td>\n",
       "      <td>126.2</td>\n",
       "      <td>...</td>\n",
       "      <td>0.502</td>\n",
       "      <td>0.529</td>\n",
       "      <td>0.501</td>\n",
       "      <td>0.466</td>\n",
       "      <td>0.621</td>\n",
       "      <td>0</td>\n",
       "      <td>0</td>\n",
       "      <td>0</td>\n",
       "      <td>0</td>\n",
       "      <td>0</td>\n",
       "    </tr>\n",
       "    <tr>\n",
       "      <th>2</th>\n",
       "      <td>1</td>\n",
       "      <td>1645740000</td>\n",
       "      <td>6.0</td>\n",
       "      <td>-1.0</td>\n",
       "      <td>2.6</td>\n",
       "      <td>-0.4</td>\n",
       "      <td>81.9</td>\n",
       "      <td>0.0</td>\n",
       "      <td>0.00</td>\n",
       "      <td>126.2</td>\n",
       "      <td>...</td>\n",
       "      <td>0.502</td>\n",
       "      <td>0.529</td>\n",
       "      <td>0.501</td>\n",
       "      <td>0.466</td>\n",
       "      <td>0.621</td>\n",
       "      <td>2</td>\n",
       "      <td>0</td>\n",
       "      <td>0</td>\n",
       "      <td>0</td>\n",
       "      <td>0</td>\n",
       "    </tr>\n",
       "    <tr>\n",
       "      <th>3</th>\n",
       "      <td>1</td>\n",
       "      <td>1645740000</td>\n",
       "      <td>6.0</td>\n",
       "      <td>-1.0</td>\n",
       "      <td>2.6</td>\n",
       "      <td>-0.4</td>\n",
       "      <td>81.9</td>\n",
       "      <td>0.0</td>\n",
       "      <td>0.00</td>\n",
       "      <td>126.2</td>\n",
       "      <td>...</td>\n",
       "      <td>0.502</td>\n",
       "      <td>0.529</td>\n",
       "      <td>0.501</td>\n",
       "      <td>0.466</td>\n",
       "      <td>0.621</td>\n",
       "      <td>2</td>\n",
       "      <td>0</td>\n",
       "      <td>0</td>\n",
       "      <td>0</td>\n",
       "      <td>0</td>\n",
       "    </tr>\n",
       "    <tr>\n",
       "      <th>4</th>\n",
       "      <td>1</td>\n",
       "      <td>1645740000</td>\n",
       "      <td>6.0</td>\n",
       "      <td>-1.0</td>\n",
       "      <td>2.6</td>\n",
       "      <td>-0.4</td>\n",
       "      <td>81.9</td>\n",
       "      <td>0.0</td>\n",
       "      <td>0.00</td>\n",
       "      <td>126.2</td>\n",
       "      <td>...</td>\n",
       "      <td>0.502</td>\n",
       "      <td>0.529</td>\n",
       "      <td>0.501</td>\n",
       "      <td>0.466</td>\n",
       "      <td>0.621</td>\n",
       "      <td>2</td>\n",
       "      <td>0</td>\n",
       "      <td>0</td>\n",
       "      <td>0</td>\n",
       "      <td>0</td>\n",
       "    </tr>\n",
       "    <tr>\n",
       "      <th>...</th>\n",
       "      <td>...</td>\n",
       "      <td>...</td>\n",
       "      <td>...</td>\n",
       "      <td>...</td>\n",
       "      <td>...</td>\n",
       "      <td>...</td>\n",
       "      <td>...</td>\n",
       "      <td>...</td>\n",
       "      <td>...</td>\n",
       "      <td>...</td>\n",
       "      <td>...</td>\n",
       "      <td>...</td>\n",
       "      <td>...</td>\n",
       "      <td>...</td>\n",
       "      <td>...</td>\n",
       "      <td>...</td>\n",
       "      <td>...</td>\n",
       "      <td>...</td>\n",
       "      <td>...</td>\n",
       "      <td>...</td>\n",
       "      <td>...</td>\n",
       "    </tr>\n",
       "    <tr>\n",
       "      <th>622651</th>\n",
       "      <td>25</td>\n",
       "      <td>1740780000</td>\n",
       "      <td>0.6</td>\n",
       "      <td>-2.4</td>\n",
       "      <td>-0.7</td>\n",
       "      <td>-2.8</td>\n",
       "      <td>86.3</td>\n",
       "      <td>2.0</td>\n",
       "      <td>4.17</td>\n",
       "      <td>41.0</td>\n",
       "      <td>...</td>\n",
       "      <td>0.598</td>\n",
       "      <td>0.612</td>\n",
       "      <td>0.565</td>\n",
       "      <td>0.558</td>\n",
       "      <td>0.738</td>\n",
       "      <td>6</td>\n",
       "      <td>0</td>\n",
       "      <td>0</td>\n",
       "      <td>0</td>\n",
       "      <td>0</td>\n",
       "    </tr>\n",
       "    <tr>\n",
       "      <th>622652</th>\n",
       "      <td>25</td>\n",
       "      <td>1740780000</td>\n",
       "      <td>0.6</td>\n",
       "      <td>-2.4</td>\n",
       "      <td>-0.7</td>\n",
       "      <td>-2.8</td>\n",
       "      <td>86.3</td>\n",
       "      <td>2.0</td>\n",
       "      <td>4.17</td>\n",
       "      <td>41.0</td>\n",
       "      <td>...</td>\n",
       "      <td>0.598</td>\n",
       "      <td>0.612</td>\n",
       "      <td>0.565</td>\n",
       "      <td>0.558</td>\n",
       "      <td>0.738</td>\n",
       "      <td>6</td>\n",
       "      <td>0</td>\n",
       "      <td>0</td>\n",
       "      <td>0</td>\n",
       "      <td>0</td>\n",
       "    </tr>\n",
       "    <tr>\n",
       "      <th>622653</th>\n",
       "      <td>25</td>\n",
       "      <td>1740780000</td>\n",
       "      <td>0.6</td>\n",
       "      <td>-2.4</td>\n",
       "      <td>-0.7</td>\n",
       "      <td>-2.8</td>\n",
       "      <td>86.3</td>\n",
       "      <td>2.0</td>\n",
       "      <td>4.17</td>\n",
       "      <td>41.0</td>\n",
       "      <td>...</td>\n",
       "      <td>0.598</td>\n",
       "      <td>0.612</td>\n",
       "      <td>0.565</td>\n",
       "      <td>0.558</td>\n",
       "      <td>0.738</td>\n",
       "      <td>6</td>\n",
       "      <td>0</td>\n",
       "      <td>0</td>\n",
       "      <td>0</td>\n",
       "      <td>0</td>\n",
       "    </tr>\n",
       "    <tr>\n",
       "      <th>622654</th>\n",
       "      <td>25</td>\n",
       "      <td>1740780000</td>\n",
       "      <td>0.6</td>\n",
       "      <td>-2.4</td>\n",
       "      <td>-0.7</td>\n",
       "      <td>-2.8</td>\n",
       "      <td>86.3</td>\n",
       "      <td>2.0</td>\n",
       "      <td>4.17</td>\n",
       "      <td>41.0</td>\n",
       "      <td>...</td>\n",
       "      <td>0.598</td>\n",
       "      <td>0.612</td>\n",
       "      <td>0.565</td>\n",
       "      <td>0.558</td>\n",
       "      <td>0.738</td>\n",
       "      <td>6</td>\n",
       "      <td>0</td>\n",
       "      <td>0</td>\n",
       "      <td>0</td>\n",
       "      <td>0</td>\n",
       "    </tr>\n",
       "    <tr>\n",
       "      <th>622655</th>\n",
       "      <td>25</td>\n",
       "      <td>1740780000</td>\n",
       "      <td>0.6</td>\n",
       "      <td>-2.4</td>\n",
       "      <td>-0.7</td>\n",
       "      <td>-2.8</td>\n",
       "      <td>86.3</td>\n",
       "      <td>2.0</td>\n",
       "      <td>4.17</td>\n",
       "      <td>41.0</td>\n",
       "      <td>...</td>\n",
       "      <td>0.598</td>\n",
       "      <td>0.612</td>\n",
       "      <td>0.565</td>\n",
       "      <td>0.558</td>\n",
       "      <td>0.738</td>\n",
       "      <td>6</td>\n",
       "      <td>0</td>\n",
       "      <td>0</td>\n",
       "      <td>0</td>\n",
       "      <td>0</td>\n",
       "    </tr>\n",
       "  </tbody>\n",
       "</table>\n",
       "<p>622656 rows × 1044 columns</p>\n",
       "</div>"
      ]
     },
     "execution_count": 25,
     "metadata": {},
     "output_type": "execute_result"
    }
   ],
   "execution_count": 25
  },
  {
   "metadata": {
    "ExecuteTime": {
     "end_time": "2025-04-23T01:59:47.309692Z",
     "start_time": "2025-04-23T01:59:47.308161Z"
    }
   },
   "cell_type": "code",
   "source": "",
   "id": "2369250ea2fd9d60",
   "outputs": [],
   "execution_count": null
  }
 ],
 "metadata": {
  "kernelspec": {
   "display_name": "Python 3",
   "language": "python",
   "name": "python3"
  },
  "language_info": {
   "codemirror_mode": {
    "name": "ipython",
    "version": 2
   },
   "file_extension": ".py",
   "mimetype": "text/x-python",
   "name": "python",
   "nbconvert_exporter": "python",
   "pygments_lexer": "ipython2",
   "version": "2.7.6"
  }
 },
 "nbformat": 4,
 "nbformat_minor": 5
}
