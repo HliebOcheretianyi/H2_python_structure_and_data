{
 "cells": [
  {
   "cell_type": "code",
   "id": "initial_id",
   "metadata": {
    "collapsed": true,
    "ExecuteTime": {
     "end_time": "2025-04-22T15:41:12.185996Z",
     "start_time": "2025-04-22T15:41:12.173995Z"
    }
   },
   "source": [
    "import pandas as pd\n",
    "import holidays\n",
    "from datetime import date"
   ],
   "outputs": [],
   "execution_count": 33
  },
  {
   "metadata": {
    "ExecuteTime": {
     "end_time": "2025-04-22T15:41:13.530395Z",
     "start_time": "2025-04-22T15:41:13.517394Z"
    }
   },
   "cell_type": "code",
   "source": [
    "INPUT_DATA_FOLDER = \"../data\"\n",
    "REPORTS_DATA_FILE = \"ISW_vector.csv\"\n",
    "\n",
    "OUTPUT_FOLDER = \"../data/all_data_preprocessed\"\n",
    "ISW_OUTPUT_DATA_FILE = \"all_isw.csv\"\n",
    "ALARMS_OUTPUT_DATA_FILE = \"all_alarms.csv\"\n",
    "WEATHER_EVENTS_OUTPUT_DATA_FILE = \"all_weather_by_hour.csv\"\n",
    "MERGED_OUTPUT_DATA_FILE = \"weather_regions_alarms_merged.csv\"\n",
    "ALL_MERGED_DATA_FILE = \"all_merged\"\n",
    "\n",
    "MODEL_FOLDER = \"model\"\n",
    "\n",
    "tfidf_transformer_model = \"tfidf_transformer\"\n",
    "count_vectorizer_model = \"count_vectorizer\"\n",
    "\n",
    "tfidf_transformer_version = \"v1\"\n",
    "count_vectorizer_version = \"v1\""
   ],
   "id": "aebd9c77715a3610",
   "outputs": [],
   "execution_count": 34
  },
  {
   "metadata": {
    "ExecuteTime": {
     "end_time": "2025-04-22T15:41:16.954912Z",
     "start_time": "2025-04-22T15:41:15.368938Z"
    }
   },
   "cell_type": "code",
   "source": "df = pd.read_parquet(f\"{OUTPUT_FOLDER}/{ALL_MERGED_DATA_FILE}.parquet\")",
   "id": "46b23ee63204e3a4",
   "outputs": [],
   "execution_count": 35
  },
  {
   "metadata": {
    "ExecuteTime": {
     "end_time": "2025-04-22T15:41:18.122392Z",
     "start_time": "2025-04-22T15:41:18.086384Z"
    }
   },
   "cell_type": "code",
   "source": "df.info()",
   "id": "7273fc0cea8879cf",
   "outputs": [
    {
     "name": "stdout",
     "output_type": "stream",
     "text": [
      "<class 'pandas.core.frame.DataFrame'>\n",
      "RangeIndex: 622057 entries, 0 to 622056\n",
      "Columns: 1039 entries, day_datetimeEpoch to 999\n",
      "dtypes: float64(1030), int64(9)\n",
      "memory usage: 4.8 GB\n"
     ]
    }
   ],
   "execution_count": 36
  },
  {
   "metadata": {
    "ExecuteTime": {
     "end_time": "2025-04-22T15:41:19.820687Z",
     "start_time": "2025-04-22T15:41:19.271553Z"
    }
   },
   "cell_type": "code",
   "source": "df['timestamp'] = pd.to_datetime(df['hour_datetimeEpoch'], unit='s').dt.strftime('%Y-%m-%d %H:%M:%S')",
   "id": "3ebdb5512b055e9d",
   "outputs": [],
   "execution_count": 37
  },
  {
   "metadata": {
    "ExecuteTime": {
     "end_time": "2025-04-22T15:41:21.753038Z",
     "start_time": "2025-04-22T15:41:20.644379Z"
    }
   },
   "cell_type": "code",
   "source": [
    "df['timestamp']= pd.to_datetime(df['timestamp'])\n",
    "df = df.set_index(pd.DatetimeIndex(df['timestamp']))"
   ],
   "id": "156222761ca88e9a",
   "outputs": [],
   "execution_count": 38
  },
  {
   "metadata": {
    "ExecuteTime": {
     "end_time": "2025-04-22T15:41:23.545073Z",
     "start_time": "2025-04-22T15:41:22.309124Z"
    }
   },
   "cell_type": "code",
   "source": [
    "hourly_has_event = df.groupby('region_id')['event_all_region'].resample('h').sum().gt(0).astype(int)\n",
    "hours_with_events_per_day = hourly_has_event.groupby('region_id').resample('D', level=1).sum()\n",
    "\n",
    "hours_with_events_per_day = hours_with_events_per_day.reset_index()\n",
    "\n",
    "hours_with_events_per_day.rename(columns={'event_all_region': 'event_lastDay_region'}, inplace=True)\n",
    "\n",
    "df['date'] = df['timestamp'].dt.date\n",
    "hours_with_events_per_day['date'] = hours_with_events_per_day['timestamp'].dt.date\n",
    "\n",
    "df = df.merge(\n",
    "    hours_with_events_per_day[['region_id', 'date', 'event_lastDay_region']],\n",
    "    on=['region_id', 'date'],\n",
    "    how='left'\n",
    ")\n",
    "\n"
   ],
   "id": "3316f26b30b3dd84",
   "outputs": [],
   "execution_count": 39
  },
  {
   "metadata": {
    "ExecuteTime": {
     "end_time": "2025-04-22T15:41:25.205375Z",
     "start_time": "2025-04-22T15:41:25.177370Z"
    }
   },
   "cell_type": "code",
   "source": "df[['event_lastDay_region', 'event_all_region', 'region_id']]",
   "id": "58e36a507a16e5eb",
   "outputs": [
    {
     "data": {
      "text/plain": [
       "        event_lastDay_region  event_all_region  region_id\n",
       "0                          0               0.0          3\n",
       "1                          0               0.0          3\n",
       "2                          2               0.0          3\n",
       "3                          2               0.0          3\n",
       "4                          2               0.0          3\n",
       "...                      ...               ...        ...\n",
       "622052                    12               1.0         16\n",
       "622053                    12               1.0         16\n",
       "622054                    12               1.0         16\n",
       "622055                    12               1.0         16\n",
       "622056                    12               1.0         16\n",
       "\n",
       "[622057 rows x 3 columns]"
      ],
      "text/html": [
       "<div>\n",
       "<style scoped>\n",
       "    .dataframe tbody tr th:only-of-type {\n",
       "        vertical-align: middle;\n",
       "    }\n",
       "\n",
       "    .dataframe tbody tr th {\n",
       "        vertical-align: top;\n",
       "    }\n",
       "\n",
       "    .dataframe thead th {\n",
       "        text-align: right;\n",
       "    }\n",
       "</style>\n",
       "<table border=\"1\" class=\"dataframe\">\n",
       "  <thead>\n",
       "    <tr style=\"text-align: right;\">\n",
       "      <th></th>\n",
       "      <th>event_lastDay_region</th>\n",
       "      <th>event_all_region</th>\n",
       "      <th>region_id</th>\n",
       "    </tr>\n",
       "  </thead>\n",
       "  <tbody>\n",
       "    <tr>\n",
       "      <th>0</th>\n",
       "      <td>0</td>\n",
       "      <td>0.0</td>\n",
       "      <td>3</td>\n",
       "    </tr>\n",
       "    <tr>\n",
       "      <th>1</th>\n",
       "      <td>0</td>\n",
       "      <td>0.0</td>\n",
       "      <td>3</td>\n",
       "    </tr>\n",
       "    <tr>\n",
       "      <th>2</th>\n",
       "      <td>2</td>\n",
       "      <td>0.0</td>\n",
       "      <td>3</td>\n",
       "    </tr>\n",
       "    <tr>\n",
       "      <th>3</th>\n",
       "      <td>2</td>\n",
       "      <td>0.0</td>\n",
       "      <td>3</td>\n",
       "    </tr>\n",
       "    <tr>\n",
       "      <th>4</th>\n",
       "      <td>2</td>\n",
       "      <td>0.0</td>\n",
       "      <td>3</td>\n",
       "    </tr>\n",
       "    <tr>\n",
       "      <th>...</th>\n",
       "      <td>...</td>\n",
       "      <td>...</td>\n",
       "      <td>...</td>\n",
       "    </tr>\n",
       "    <tr>\n",
       "      <th>622052</th>\n",
       "      <td>12</td>\n",
       "      <td>1.0</td>\n",
       "      <td>16</td>\n",
       "    </tr>\n",
       "    <tr>\n",
       "      <th>622053</th>\n",
       "      <td>12</td>\n",
       "      <td>1.0</td>\n",
       "      <td>16</td>\n",
       "    </tr>\n",
       "    <tr>\n",
       "      <th>622054</th>\n",
       "      <td>12</td>\n",
       "      <td>1.0</td>\n",
       "      <td>16</td>\n",
       "    </tr>\n",
       "    <tr>\n",
       "      <th>622055</th>\n",
       "      <td>12</td>\n",
       "      <td>1.0</td>\n",
       "      <td>16</td>\n",
       "    </tr>\n",
       "    <tr>\n",
       "      <th>622056</th>\n",
       "      <td>12</td>\n",
       "      <td>1.0</td>\n",
       "      <td>16</td>\n",
       "    </tr>\n",
       "  </tbody>\n",
       "</table>\n",
       "<p>622057 rows × 3 columns</p>\n",
       "</div>"
      ]
     },
     "execution_count": 40,
     "metadata": {},
     "output_type": "execute_result"
    }
   ],
   "execution_count": 40
  },
  {
   "metadata": {
    "ExecuteTime": {
     "end_time": "2025-04-22T15:41:33.724897Z",
     "start_time": "2025-04-22T15:41:33.702891Z"
    }
   },
   "cell_type": "code",
   "source": "df.event_lastDay_region.unique()",
   "id": "2a9906355a9b074b",
   "outputs": [
    {
     "data": {
      "text/plain": [
       "array([ 0,  2, 11, 12,  8,  6,  7,  4,  3,  5, 10, 15, 13, 14,  1,  9, 16,\n",
       "       17, 23, 19, 24, 18, 22, 21, 20])"
      ]
     },
     "execution_count": 41,
     "metadata": {},
     "output_type": "execute_result"
    }
   ],
   "execution_count": 41
  },
  {
   "metadata": {
    "ExecuteTime": {
     "end_time": "2025-04-22T15:41:35.561399Z",
     "start_time": "2025-04-22T15:41:34.765509Z"
    }
   },
   "cell_type": "code",
   "source": [
    "df['timestamp'] = pd.to_datetime(df['hour_datetimeEpoch'], unit='s').dt.strftime('%Y-%m-%d %H:%M:%S')\n",
    "df['timestamp']= pd.to_datetime(df['timestamp'])"
   ],
   "id": "727004a0c6f66469",
   "outputs": [],
   "execution_count": 42
  },
  {
   "metadata": {
    "ExecuteTime": {
     "end_time": "2025-04-22T15:41:39.560182Z",
     "start_time": "2025-04-22T15:41:37.328945Z"
    }
   },
   "cell_type": "code",
   "source": [
    "df = df.set_index(['timestamp','region_id' ])\n",
    "duplicates = df.index.duplicated(keep=False)\n",
    "df = df[~df.index.duplicated(keep='first')]\n",
    "df.reset_index(inplace=True, drop=False) "
   ],
   "id": "969945c925a5125",
   "outputs": [],
   "execution_count": 43
  },
  {
   "metadata": {
    "ExecuteTime": {
     "end_time": "2025-04-22T15:41:40.282013Z",
     "start_time": "2025-04-22T15:41:40.244005Z"
    }
   },
   "cell_type": "code",
   "source": "df.info()",
   "id": "9f3741e24bc33b17",
   "outputs": [
    {
     "name": "stdout",
     "output_type": "stream",
     "text": [
      "<class 'pandas.core.frame.DataFrame'>\n",
      "RangeIndex: 596712 entries, 0 to 596711\n",
      "Columns: 1042 entries, timestamp to event_lastDay_region\n",
      "dtypes: datetime64[ns](1), float64(1030), int64(10), object(1)\n",
      "memory usage: 4.6+ GB\n"
     ]
    }
   ],
   "execution_count": 44
  },
  {
   "metadata": {
    "ExecuteTime": {
     "end_time": "2025-04-22T15:41:41.642950Z",
     "start_time": "2025-04-22T15:41:41.635949Z"
    }
   },
   "cell_type": "code",
   "source": "df.index",
   "id": "246b27fdd1f3a634",
   "outputs": [
    {
     "data": {
      "text/plain": [
       "RangeIndex(start=0, stop=596712, step=1)"
      ]
     },
     "execution_count": 45,
     "metadata": {},
     "output_type": "execute_result"
    }
   ],
   "execution_count": 45
  },
  {
   "metadata": {
    "ExecuteTime": {
     "end_time": "2025-04-22T15:41:45.128167Z",
     "start_time": "2025-04-22T15:41:45.111163Z"
    }
   },
   "cell_type": "code",
   "source": "df[['event_all_region', 'timestamp']]",
   "id": "6ddfa0b0ef63a1f8",
   "outputs": [
    {
     "data": {
      "text/plain": [
       "        event_all_region           timestamp\n",
       "0                    0.0 2022-02-24 22:00:00\n",
       "1                    0.0 2022-02-24 23:00:00\n",
       "2                    0.0 2022-02-25 00:00:00\n",
       "3                    0.0 2022-02-25 01:00:00\n",
       "4                    0.0 2022-02-25 02:00:00\n",
       "...                  ...                 ...\n",
       "596707               1.0 2025-03-01 17:00:00\n",
       "596708               1.0 2025-03-01 18:00:00\n",
       "596709               1.0 2025-03-01 19:00:00\n",
       "596710               1.0 2025-03-01 20:00:00\n",
       "596711               1.0 2025-03-01 21:00:00\n",
       "\n",
       "[596712 rows x 2 columns]"
      ],
      "text/html": [
       "<div>\n",
       "<style scoped>\n",
       "    .dataframe tbody tr th:only-of-type {\n",
       "        vertical-align: middle;\n",
       "    }\n",
       "\n",
       "    .dataframe tbody tr th {\n",
       "        vertical-align: top;\n",
       "    }\n",
       "\n",
       "    .dataframe thead th {\n",
       "        text-align: right;\n",
       "    }\n",
       "</style>\n",
       "<table border=\"1\" class=\"dataframe\">\n",
       "  <thead>\n",
       "    <tr style=\"text-align: right;\">\n",
       "      <th></th>\n",
       "      <th>event_all_region</th>\n",
       "      <th>timestamp</th>\n",
       "    </tr>\n",
       "  </thead>\n",
       "  <tbody>\n",
       "    <tr>\n",
       "      <th>0</th>\n",
       "      <td>0.0</td>\n",
       "      <td>2022-02-24 22:00:00</td>\n",
       "    </tr>\n",
       "    <tr>\n",
       "      <th>1</th>\n",
       "      <td>0.0</td>\n",
       "      <td>2022-02-24 23:00:00</td>\n",
       "    </tr>\n",
       "    <tr>\n",
       "      <th>2</th>\n",
       "      <td>0.0</td>\n",
       "      <td>2022-02-25 00:00:00</td>\n",
       "    </tr>\n",
       "    <tr>\n",
       "      <th>3</th>\n",
       "      <td>0.0</td>\n",
       "      <td>2022-02-25 01:00:00</td>\n",
       "    </tr>\n",
       "    <tr>\n",
       "      <th>4</th>\n",
       "      <td>0.0</td>\n",
       "      <td>2022-02-25 02:00:00</td>\n",
       "    </tr>\n",
       "    <tr>\n",
       "      <th>...</th>\n",
       "      <td>...</td>\n",
       "      <td>...</td>\n",
       "    </tr>\n",
       "    <tr>\n",
       "      <th>596707</th>\n",
       "      <td>1.0</td>\n",
       "      <td>2025-03-01 17:00:00</td>\n",
       "    </tr>\n",
       "    <tr>\n",
       "      <th>596708</th>\n",
       "      <td>1.0</td>\n",
       "      <td>2025-03-01 18:00:00</td>\n",
       "    </tr>\n",
       "    <tr>\n",
       "      <th>596709</th>\n",
       "      <td>1.0</td>\n",
       "      <td>2025-03-01 19:00:00</td>\n",
       "    </tr>\n",
       "    <tr>\n",
       "      <th>596710</th>\n",
       "      <td>1.0</td>\n",
       "      <td>2025-03-01 20:00:00</td>\n",
       "    </tr>\n",
       "    <tr>\n",
       "      <th>596711</th>\n",
       "      <td>1.0</td>\n",
       "      <td>2025-03-01 21:00:00</td>\n",
       "    </tr>\n",
       "  </tbody>\n",
       "</table>\n",
       "<p>596712 rows × 2 columns</p>\n",
       "</div>"
      ]
     },
     "execution_count": 46,
     "metadata": {},
     "output_type": "execute_result"
    }
   ],
   "execution_count": 46
  },
  {
   "metadata": {
    "ExecuteTime": {
     "end_time": "2025-04-22T15:41:50.735574Z",
     "start_time": "2025-04-22T15:41:50.713570Z"
    }
   },
   "cell_type": "code",
   "source": "df.info()",
   "id": "16982e1c3558211f",
   "outputs": [
    {
     "name": "stdout",
     "output_type": "stream",
     "text": [
      "<class 'pandas.core.frame.DataFrame'>\n",
      "RangeIndex: 596712 entries, 0 to 596711\n",
      "Columns: 1042 entries, timestamp to event_lastDay_region\n",
      "dtypes: datetime64[ns](1), float64(1030), int64(10), object(1)\n",
      "memory usage: 4.6+ GB\n"
     ]
    }
   ],
   "execution_count": 47
  },
  {
   "metadata": {
    "ExecuteTime": {
     "end_time": "2025-04-22T15:41:52.214331Z",
     "start_time": "2025-04-22T15:41:52.200325Z"
    }
   },
   "cell_type": "code",
   "source": "hours = [1, 2, 3, 6, 12, 18, 24]",
   "id": "bef88f8910c9968d",
   "outputs": [],
   "execution_count": 48
  },
  {
   "metadata": {
    "ExecuteTime": {
     "end_time": "2025-04-22T15:42:09.183376Z",
     "start_time": "2025-04-22T15:41:53.593021Z"
    }
   },
   "cell_type": "code",
   "source": [
    "for h in hours:\n",
    "    df = df.sort_values(by=['region_id', 'timestamp'])\n",
    "\n",
    "    df_shifted = df[['region_id', 'timestamp', 'event_all_region']].copy()\n",
    "    df_shifted['timestamp'] = df_shifted['timestamp'] + pd.Timedelta(hours=h)\n",
    "    df_shifted = df_shifted.rename(columns={'event_all_region': f'event_{h}h_ago'})\n",
    "\n",
    "    df = df.merge(df_shifted, on=['region_id', 'timestamp'], how='left')\n",
    "\n",
    "    df[f'event_{h}h_ago'] = df[f'event_{h}h_ago'].fillna(0).astype(int)"
   ],
   "id": "89a3d36bd0e4ccdf",
   "outputs": [],
   "execution_count": 49
  },
  {
   "metadata": {
    "ExecuteTime": {
     "end_time": "2025-04-22T15:42:14.480080Z",
     "start_time": "2025-04-22T15:42:14.461076Z"
    }
   },
   "cell_type": "code",
   "source": "df[['event_1h_ago','timestamp','region_id','event_all_region', 'event_lastDay_region']]",
   "id": "1f83fe2a23129a00",
   "outputs": [
    {
     "data": {
      "text/plain": [
       "        event_1h_ago           timestamp  region_id  event_all_region  \\\n",
       "0                  0 2022-02-24 22:00:00          2               0.0   \n",
       "1                  0 2022-02-24 23:00:00          2               0.0   \n",
       "2                  0 2022-02-25 00:00:00          2               0.0   \n",
       "3                  0 2022-02-25 01:00:00          2               0.0   \n",
       "4                  0 2022-02-25 02:00:00          2               0.0   \n",
       "...              ...                 ...        ...               ...   \n",
       "596707             0 2025-03-01 17:00:00         25               0.0   \n",
       "596708             0 2025-03-01 18:00:00         25               0.0   \n",
       "596709             0 2025-03-01 19:00:00         25               0.0   \n",
       "596710             0 2025-03-01 20:00:00         25               0.0   \n",
       "596711             0 2025-03-01 21:00:00         25               1.0   \n",
       "\n",
       "        event_lastDay_region  \n",
       "0                          0  \n",
       "1                          0  \n",
       "2                         14  \n",
       "3                         14  \n",
       "4                         14  \n",
       "...                      ...  \n",
       "596707                     6  \n",
       "596708                     6  \n",
       "596709                     6  \n",
       "596710                     6  \n",
       "596711                     6  \n",
       "\n",
       "[596712 rows x 5 columns]"
      ],
      "text/html": [
       "<div>\n",
       "<style scoped>\n",
       "    .dataframe tbody tr th:only-of-type {\n",
       "        vertical-align: middle;\n",
       "    }\n",
       "\n",
       "    .dataframe tbody tr th {\n",
       "        vertical-align: top;\n",
       "    }\n",
       "\n",
       "    .dataframe thead th {\n",
       "        text-align: right;\n",
       "    }\n",
       "</style>\n",
       "<table border=\"1\" class=\"dataframe\">\n",
       "  <thead>\n",
       "    <tr style=\"text-align: right;\">\n",
       "      <th></th>\n",
       "      <th>event_1h_ago</th>\n",
       "      <th>timestamp</th>\n",
       "      <th>region_id</th>\n",
       "      <th>event_all_region</th>\n",
       "      <th>event_lastDay_region</th>\n",
       "    </tr>\n",
       "  </thead>\n",
       "  <tbody>\n",
       "    <tr>\n",
       "      <th>0</th>\n",
       "      <td>0</td>\n",
       "      <td>2022-02-24 22:00:00</td>\n",
       "      <td>2</td>\n",
       "      <td>0.0</td>\n",
       "      <td>0</td>\n",
       "    </tr>\n",
       "    <tr>\n",
       "      <th>1</th>\n",
       "      <td>0</td>\n",
       "      <td>2022-02-24 23:00:00</td>\n",
       "      <td>2</td>\n",
       "      <td>0.0</td>\n",
       "      <td>0</td>\n",
       "    </tr>\n",
       "    <tr>\n",
       "      <th>2</th>\n",
       "      <td>0</td>\n",
       "      <td>2022-02-25 00:00:00</td>\n",
       "      <td>2</td>\n",
       "      <td>0.0</td>\n",
       "      <td>14</td>\n",
       "    </tr>\n",
       "    <tr>\n",
       "      <th>3</th>\n",
       "      <td>0</td>\n",
       "      <td>2022-02-25 01:00:00</td>\n",
       "      <td>2</td>\n",
       "      <td>0.0</td>\n",
       "      <td>14</td>\n",
       "    </tr>\n",
       "    <tr>\n",
       "      <th>4</th>\n",
       "      <td>0</td>\n",
       "      <td>2022-02-25 02:00:00</td>\n",
       "      <td>2</td>\n",
       "      <td>0.0</td>\n",
       "      <td>14</td>\n",
       "    </tr>\n",
       "    <tr>\n",
       "      <th>...</th>\n",
       "      <td>...</td>\n",
       "      <td>...</td>\n",
       "      <td>...</td>\n",
       "      <td>...</td>\n",
       "      <td>...</td>\n",
       "    </tr>\n",
       "    <tr>\n",
       "      <th>596707</th>\n",
       "      <td>0</td>\n",
       "      <td>2025-03-01 17:00:00</td>\n",
       "      <td>25</td>\n",
       "      <td>0.0</td>\n",
       "      <td>6</td>\n",
       "    </tr>\n",
       "    <tr>\n",
       "      <th>596708</th>\n",
       "      <td>0</td>\n",
       "      <td>2025-03-01 18:00:00</td>\n",
       "      <td>25</td>\n",
       "      <td>0.0</td>\n",
       "      <td>6</td>\n",
       "    </tr>\n",
       "    <tr>\n",
       "      <th>596709</th>\n",
       "      <td>0</td>\n",
       "      <td>2025-03-01 19:00:00</td>\n",
       "      <td>25</td>\n",
       "      <td>0.0</td>\n",
       "      <td>6</td>\n",
       "    </tr>\n",
       "    <tr>\n",
       "      <th>596710</th>\n",
       "      <td>0</td>\n",
       "      <td>2025-03-01 20:00:00</td>\n",
       "      <td>25</td>\n",
       "      <td>0.0</td>\n",
       "      <td>6</td>\n",
       "    </tr>\n",
       "    <tr>\n",
       "      <th>596711</th>\n",
       "      <td>0</td>\n",
       "      <td>2025-03-01 21:00:00</td>\n",
       "      <td>25</td>\n",
       "      <td>1.0</td>\n",
       "      <td>6</td>\n",
       "    </tr>\n",
       "  </tbody>\n",
       "</table>\n",
       "<p>596712 rows × 5 columns</p>\n",
       "</div>"
      ]
     },
     "execution_count": 50,
     "metadata": {},
     "output_type": "execute_result"
    }
   ],
   "execution_count": 50
  },
  {
   "metadata": {
    "ExecuteTime": {
     "end_time": "2025-04-22T16:00:34.816346Z",
     "start_time": "2025-04-22T16:00:34.800344Z"
    }
   },
   "cell_type": "code",
   "source": [
    "class UkrainianECBHolidays(holidays.HolidayBase):\n",
    "    def __init__(self, years=None, **kwargs):\n",
    "        self.country = \"UA\"\n",
    "        super().__init__(years=years, **kwargs)\n",
    "\n",
    "    def _populate(self, year):\n",
    "        self[date(year, 1, 1)] = \"New Year's Day\"\n",
    "        self[date(year, 1, 7)] = \"Orthodox Christmas\"\n",
    "        self[date(year, 3, 8)] = \"International Women's Day\"\n",
    "        self[date(year, 5, 1)] = \"Labour Day\"\n",
    "        self[date(year, 5, 8)] = \"Day of Remembrance and Reconciliation\"\n",
    "        self[date(year, 5, 9)] = \"Victory Day\"\n",
    "        self[date(year, 6, 28)] = \"Constitution Day of Ukraine\"\n",
    "        self[date(year, 8, 24)] = \"Independence Day of Ukraine\"\n",
    "        self[date(year, 12, 25)] = \"Christmas (Western)\"\n",
    "\n",
    "class RussianECBHolidays(holidays.HolidayBase):\n",
    "    def __init__(self, years=None, **kwargs):\n",
    "        self.country = \"RU\"\n",
    "        super().__init__(years=years, **kwargs)\n",
    "\n",
    "    def _populate(self, year):\n",
    "        self[date(year, 1, 1)] = \"New Year's Day (Russia)\"\n",
    "        self[date(year, 1, 7)] = \"Orthodox Christmas (Russia)\"\n",
    "        self[date(year, 2, 23)] = \"Defender of the Fatherland Day (Russia)\"\n",
    "        self[date(year, 3, 8)] = \"International Women's Day (Russia)\"\n",
    "        self[date(year, 5, 1)] = \"Spring and Labor Day (Russia)\"\n",
    "        self[date(year, 5, 9)] = \"Victory Day (Russia)\"\n",
    "        self[date(year, 6, 12)] = \"Russia Day\"\n",
    "        self[date(year, 11, 4)] = \"Unity Day (Russia)\""
   ],
   "id": "612795898734ec98",
   "outputs": [],
   "execution_count": 51
  },
  {
   "metadata": {
    "ExecuteTime": {
     "end_time": "2025-04-22T16:00:37.340104Z",
     "start_time": "2025-04-22T16:00:37.320101Z"
    }
   },
   "cell_type": "code",
   "source": [
    "ua_holidays = UkrainianECBHolidays(years=range(2020, 2032))\n",
    "ru_holidays = RussianECBHolidays(years=range(2020, 2032))"
   ],
   "id": "384e1fb0ca3651e2",
   "outputs": [],
   "execution_count": 52
  },
  {
   "metadata": {
    "ExecuteTime": {
     "end_time": "2025-04-22T16:00:40.931731Z",
     "start_time": "2025-04-22T16:00:38.878517Z"
    }
   },
   "cell_type": "code",
   "source": [
    "df['ru_holiday'] = df['date'].apply(lambda x: 1 if x in ru_holidays else 0)\n",
    "df['ua_holiday'] = df['date'].apply(lambda x: 1 if x in ua_holidays else 0)\n",
    "\n",
    "df.drop('date', axis=1, inplace=True)"
   ],
   "id": "48c3b9f40350dffe",
   "outputs": [],
   "execution_count": 53
  },
  {
   "metadata": {},
   "cell_type": "code",
   "outputs": [],
   "execution_count": null,
   "source": "",
   "id": "2d62a4409f0eb7d9"
  },
  {
   "metadata": {
    "ExecuteTime": {
     "end_time": "2025-04-22T16:00:43.664608Z",
     "start_time": "2025-04-22T16:00:42.437771Z"
    }
   },
   "cell_type": "code",
   "source": "df.drop('timestamp', axis=1, inplace=True)",
   "id": "1385ddc90f271add",
   "outputs": [
    {
     "ename": "KeyError",
     "evalue": "\"['date'] not found in axis\"",
     "output_type": "error",
     "traceback": [
      "\u001B[1;31m---------------------------------------------------------------------------\u001B[0m",
      "\u001B[1;31mKeyError\u001B[0m                                  Traceback (most recent call last)",
      "Cell \u001B[1;32mIn[54], line 2\u001B[0m\n\u001B[0;32m      1\u001B[0m df\u001B[38;5;241m.\u001B[39mdrop(\u001B[38;5;124m'\u001B[39m\u001B[38;5;124mtimestamp\u001B[39m\u001B[38;5;124m'\u001B[39m, axis\u001B[38;5;241m=\u001B[39m\u001B[38;5;241m1\u001B[39m, inplace\u001B[38;5;241m=\u001B[39m\u001B[38;5;28;01mTrue\u001B[39;00m)\n\u001B[1;32m----> 2\u001B[0m \u001B[43mdf\u001B[49m\u001B[38;5;241;43m.\u001B[39;49m\u001B[43mdrop\u001B[49m\u001B[43m(\u001B[49m\u001B[38;5;124;43m'\u001B[39;49m\u001B[38;5;124;43mdate\u001B[39;49m\u001B[38;5;124;43m'\u001B[39;49m\u001B[43m,\u001B[49m\u001B[43m \u001B[49m\u001B[43maxis\u001B[49m\u001B[38;5;241;43m=\u001B[39;49m\u001B[38;5;241;43m1\u001B[39;49m\u001B[43m,\u001B[49m\u001B[43m \u001B[49m\u001B[43minplace\u001B[49m\u001B[38;5;241;43m=\u001B[39;49m\u001B[38;5;28;43;01mTrue\u001B[39;49;00m\u001B[43m)\u001B[49m\n",
      "File \u001B[1;32mD:\\NaUKMA\\DS\\H2_python_structure_and_data\\venv\\lib\\site-packages\\pandas\\core\\frame.py:5581\u001B[0m, in \u001B[0;36mDataFrame.drop\u001B[1;34m(self, labels, axis, index, columns, level, inplace, errors)\u001B[0m\n\u001B[0;32m   5433\u001B[0m \u001B[38;5;28;01mdef\u001B[39;00m\u001B[38;5;250m \u001B[39m\u001B[38;5;21mdrop\u001B[39m(\n\u001B[0;32m   5434\u001B[0m     \u001B[38;5;28mself\u001B[39m,\n\u001B[0;32m   5435\u001B[0m     labels: IndexLabel \u001B[38;5;241m|\u001B[39m \u001B[38;5;28;01mNone\u001B[39;00m \u001B[38;5;241m=\u001B[39m \u001B[38;5;28;01mNone\u001B[39;00m,\n\u001B[1;32m   (...)\u001B[0m\n\u001B[0;32m   5442\u001B[0m     errors: IgnoreRaise \u001B[38;5;241m=\u001B[39m \u001B[38;5;124m\"\u001B[39m\u001B[38;5;124mraise\u001B[39m\u001B[38;5;124m\"\u001B[39m,\n\u001B[0;32m   5443\u001B[0m ) \u001B[38;5;241m-\u001B[39m\u001B[38;5;241m>\u001B[39m DataFrame \u001B[38;5;241m|\u001B[39m \u001B[38;5;28;01mNone\u001B[39;00m:\n\u001B[0;32m   5444\u001B[0m \u001B[38;5;250m    \u001B[39m\u001B[38;5;124;03m\"\"\"\u001B[39;00m\n\u001B[0;32m   5445\u001B[0m \u001B[38;5;124;03m    Drop specified labels from rows or columns.\u001B[39;00m\n\u001B[0;32m   5446\u001B[0m \n\u001B[1;32m   (...)\u001B[0m\n\u001B[0;32m   5579\u001B[0m \u001B[38;5;124;03m            weight  1.0     0.8\u001B[39;00m\n\u001B[0;32m   5580\u001B[0m \u001B[38;5;124;03m    \"\"\"\u001B[39;00m\n\u001B[1;32m-> 5581\u001B[0m     \u001B[38;5;28;01mreturn\u001B[39;00m \u001B[38;5;28;43msuper\u001B[39;49m\u001B[43m(\u001B[49m\u001B[43m)\u001B[49m\u001B[38;5;241;43m.\u001B[39;49m\u001B[43mdrop\u001B[49m\u001B[43m(\u001B[49m\n\u001B[0;32m   5582\u001B[0m \u001B[43m        \u001B[49m\u001B[43mlabels\u001B[49m\u001B[38;5;241;43m=\u001B[39;49m\u001B[43mlabels\u001B[49m\u001B[43m,\u001B[49m\n\u001B[0;32m   5583\u001B[0m \u001B[43m        \u001B[49m\u001B[43maxis\u001B[49m\u001B[38;5;241;43m=\u001B[39;49m\u001B[43maxis\u001B[49m\u001B[43m,\u001B[49m\n\u001B[0;32m   5584\u001B[0m \u001B[43m        \u001B[49m\u001B[43mindex\u001B[49m\u001B[38;5;241;43m=\u001B[39;49m\u001B[43mindex\u001B[49m\u001B[43m,\u001B[49m\n\u001B[0;32m   5585\u001B[0m \u001B[43m        \u001B[49m\u001B[43mcolumns\u001B[49m\u001B[38;5;241;43m=\u001B[39;49m\u001B[43mcolumns\u001B[49m\u001B[43m,\u001B[49m\n\u001B[0;32m   5586\u001B[0m \u001B[43m        \u001B[49m\u001B[43mlevel\u001B[49m\u001B[38;5;241;43m=\u001B[39;49m\u001B[43mlevel\u001B[49m\u001B[43m,\u001B[49m\n\u001B[0;32m   5587\u001B[0m \u001B[43m        \u001B[49m\u001B[43minplace\u001B[49m\u001B[38;5;241;43m=\u001B[39;49m\u001B[43minplace\u001B[49m\u001B[43m,\u001B[49m\n\u001B[0;32m   5588\u001B[0m \u001B[43m        \u001B[49m\u001B[43merrors\u001B[49m\u001B[38;5;241;43m=\u001B[39;49m\u001B[43merrors\u001B[49m\u001B[43m,\u001B[49m\n\u001B[0;32m   5589\u001B[0m \u001B[43m    \u001B[49m\u001B[43m)\u001B[49m\n",
      "File \u001B[1;32mD:\\NaUKMA\\DS\\H2_python_structure_and_data\\venv\\lib\\site-packages\\pandas\\core\\generic.py:4788\u001B[0m, in \u001B[0;36mNDFrame.drop\u001B[1;34m(self, labels, axis, index, columns, level, inplace, errors)\u001B[0m\n\u001B[0;32m   4786\u001B[0m \u001B[38;5;28;01mfor\u001B[39;00m axis, labels \u001B[38;5;129;01min\u001B[39;00m axes\u001B[38;5;241m.\u001B[39mitems():\n\u001B[0;32m   4787\u001B[0m     \u001B[38;5;28;01mif\u001B[39;00m labels \u001B[38;5;129;01mis\u001B[39;00m \u001B[38;5;129;01mnot\u001B[39;00m \u001B[38;5;28;01mNone\u001B[39;00m:\n\u001B[1;32m-> 4788\u001B[0m         obj \u001B[38;5;241m=\u001B[39m \u001B[43mobj\u001B[49m\u001B[38;5;241;43m.\u001B[39;49m\u001B[43m_drop_axis\u001B[49m\u001B[43m(\u001B[49m\u001B[43mlabels\u001B[49m\u001B[43m,\u001B[49m\u001B[43m \u001B[49m\u001B[43maxis\u001B[49m\u001B[43m,\u001B[49m\u001B[43m \u001B[49m\u001B[43mlevel\u001B[49m\u001B[38;5;241;43m=\u001B[39;49m\u001B[43mlevel\u001B[49m\u001B[43m,\u001B[49m\u001B[43m \u001B[49m\u001B[43merrors\u001B[49m\u001B[38;5;241;43m=\u001B[39;49m\u001B[43merrors\u001B[49m\u001B[43m)\u001B[49m\n\u001B[0;32m   4790\u001B[0m \u001B[38;5;28;01mif\u001B[39;00m inplace:\n\u001B[0;32m   4791\u001B[0m     \u001B[38;5;28mself\u001B[39m\u001B[38;5;241m.\u001B[39m_update_inplace(obj)\n",
      "File \u001B[1;32mD:\\NaUKMA\\DS\\H2_python_structure_and_data\\venv\\lib\\site-packages\\pandas\\core\\generic.py:4830\u001B[0m, in \u001B[0;36mNDFrame._drop_axis\u001B[1;34m(self, labels, axis, level, errors, only_slice)\u001B[0m\n\u001B[0;32m   4828\u001B[0m         new_axis \u001B[38;5;241m=\u001B[39m axis\u001B[38;5;241m.\u001B[39mdrop(labels, level\u001B[38;5;241m=\u001B[39mlevel, errors\u001B[38;5;241m=\u001B[39merrors)\n\u001B[0;32m   4829\u001B[0m     \u001B[38;5;28;01melse\u001B[39;00m:\n\u001B[1;32m-> 4830\u001B[0m         new_axis \u001B[38;5;241m=\u001B[39m \u001B[43maxis\u001B[49m\u001B[38;5;241;43m.\u001B[39;49m\u001B[43mdrop\u001B[49m\u001B[43m(\u001B[49m\u001B[43mlabels\u001B[49m\u001B[43m,\u001B[49m\u001B[43m \u001B[49m\u001B[43merrors\u001B[49m\u001B[38;5;241;43m=\u001B[39;49m\u001B[43merrors\u001B[49m\u001B[43m)\u001B[49m\n\u001B[0;32m   4831\u001B[0m     indexer \u001B[38;5;241m=\u001B[39m axis\u001B[38;5;241m.\u001B[39mget_indexer(new_axis)\n\u001B[0;32m   4833\u001B[0m \u001B[38;5;66;03m# Case for non-unique axis\u001B[39;00m\n\u001B[0;32m   4834\u001B[0m \u001B[38;5;28;01melse\u001B[39;00m:\n",
      "File \u001B[1;32mD:\\NaUKMA\\DS\\H2_python_structure_and_data\\venv\\lib\\site-packages\\pandas\\core\\indexes\\base.py:7070\u001B[0m, in \u001B[0;36mIndex.drop\u001B[1;34m(self, labels, errors)\u001B[0m\n\u001B[0;32m   7068\u001B[0m \u001B[38;5;28;01mif\u001B[39;00m mask\u001B[38;5;241m.\u001B[39many():\n\u001B[0;32m   7069\u001B[0m     \u001B[38;5;28;01mif\u001B[39;00m errors \u001B[38;5;241m!=\u001B[39m \u001B[38;5;124m\"\u001B[39m\u001B[38;5;124mignore\u001B[39m\u001B[38;5;124m\"\u001B[39m:\n\u001B[1;32m-> 7070\u001B[0m         \u001B[38;5;28;01mraise\u001B[39;00m \u001B[38;5;167;01mKeyError\u001B[39;00m(\u001B[38;5;124mf\u001B[39m\u001B[38;5;124m\"\u001B[39m\u001B[38;5;132;01m{\u001B[39;00mlabels[mask]\u001B[38;5;241m.\u001B[39mtolist()\u001B[38;5;132;01m}\u001B[39;00m\u001B[38;5;124m not found in axis\u001B[39m\u001B[38;5;124m\"\u001B[39m)\n\u001B[0;32m   7071\u001B[0m     indexer \u001B[38;5;241m=\u001B[39m indexer[\u001B[38;5;241m~\u001B[39mmask]\n\u001B[0;32m   7072\u001B[0m \u001B[38;5;28;01mreturn\u001B[39;00m \u001B[38;5;28mself\u001B[39m\u001B[38;5;241m.\u001B[39mdelete(indexer)\n",
      "\u001B[1;31mKeyError\u001B[0m: \"['date'] not found in axis\""
     ]
    }
   ],
   "execution_count": 54
  },
  {
   "metadata": {
    "ExecuteTime": {
     "end_time": "2025-04-22T16:01:11.063376Z",
     "start_time": "2025-04-22T16:01:11.018365Z"
    }
   },
   "cell_type": "code",
   "source": "df.info()",
   "id": "8c6108e4ae467bbe",
   "outputs": [
    {
     "name": "stdout",
     "output_type": "stream",
     "text": [
      "<class 'pandas.core.frame.DataFrame'>\n",
      "RangeIndex: 596712 entries, 0 to 596711\n",
      "Columns: 1049 entries, region_id to ua_holiday\n",
      "dtypes: float64(1030), int64(19)\n",
      "memory usage: 4.7 GB\n"
     ]
    }
   ],
   "execution_count": 55
  },
  {
   "metadata": {
    "ExecuteTime": {
     "end_time": "2025-04-22T16:01:27.754077Z",
     "start_time": "2025-04-22T16:01:16.219307Z"
    }
   },
   "cell_type": "code",
   "source": "df.to_parquet(f\"{OUTPUT_FOLDER}/{ALL_MERGED_DATA_FILE}.parquet\", index=False, engine=\"pyarrow\")",
   "id": "7b6bc191872e2996",
   "outputs": [],
   "execution_count": 56
  },
  {
   "metadata": {
    "ExecuteTime": {
     "end_time": "2025-04-21T15:03:57.725881Z",
     "start_time": "2025-04-21T15:03:57.630999Z"
    }
   },
   "cell_type": "code",
   "source": "df",
   "id": "859578f4e8f78593",
   "outputs": [
    {
     "data": {
      "text/plain": [
       "        region_id  day_datetimeEpoch  day_tempmax  day_tempmin  day_temp  \\\n",
       "0               2         1645740000          7.2         -1.0       2.6   \n",
       "1               2         1645740000          7.2         -1.0       2.6   \n",
       "2               2         1645740000          7.2         -1.0       2.6   \n",
       "3               2         1645740000          7.2         -1.0       2.6   \n",
       "4               2         1645740000          7.2         -1.0       2.6   \n",
       "...           ...                ...          ...          ...       ...   \n",
       "596707         25         1740780000          0.6         -2.4      -0.7   \n",
       "596708         25         1740780000          0.6         -2.4      -0.7   \n",
       "596709         25         1740780000          0.6         -2.4      -0.7   \n",
       "596710         25         1740780000          0.6         -2.4      -0.7   \n",
       "596711         25         1740780000          0.6         -2.4      -0.7   \n",
       "\n",
       "        day_dew  day_humidity  day_precip  day_precipcover  \\\n",
       "0          -1.8          74.2         0.0             0.00   \n",
       "1          -1.8          74.2         0.0             0.00   \n",
       "2          -1.8          74.2         0.0             0.00   \n",
       "3          -1.8          74.2         0.0             0.00   \n",
       "4          -1.8          74.2         0.0             0.00   \n",
       "...         ...           ...         ...              ...   \n",
       "596707     -2.8          86.3         2.0             4.17   \n",
       "596708     -2.8          86.3         2.0             4.17   \n",
       "596709     -2.8          86.3         2.0             4.17   \n",
       "596710     -2.8          86.3         2.0             4.17   \n",
       "596711     -2.8          86.3         2.0             4.17   \n",
       "\n",
       "        day_solarradiation  ...    997    998    999  event_1h_ago  \\\n",
       "0                    143.9  ...  0.504  0.477  0.611             0   \n",
       "1                    143.9  ...  0.504  0.477  0.611             0   \n",
       "2                    143.9  ...  0.504  0.477  0.611             0   \n",
       "3                    143.9  ...  0.504  0.477  0.611             0   \n",
       "4                    143.9  ...  0.504  0.477  0.611             0   \n",
       "...                    ...  ...    ...    ...    ...           ...   \n",
       "596707                41.0  ...  0.556  0.555  0.734             0   \n",
       "596708                41.0  ...  0.556  0.555  0.734             0   \n",
       "596709                41.0  ...  0.556  0.555  0.734             0   \n",
       "596710                41.0  ...  0.556  0.555  0.734             0   \n",
       "596711                41.0  ...  0.556  0.555  0.734             0   \n",
       "\n",
       "        event_2h_ago  event_3h_ago  event_6h_ago  event_12h_ago  \\\n",
       "0                  0             0             0              0   \n",
       "1                  0             0             0              0   \n",
       "2                  0             0             0              0   \n",
       "3                  0             0             0              0   \n",
       "4                  0             0             0              0   \n",
       "...              ...           ...           ...            ...   \n",
       "596707             0             0             0              0   \n",
       "596708             0             0             0              0   \n",
       "596709             0             0             0              0   \n",
       "596710             0             0             0              0   \n",
       "596711             0             0             0              0   \n",
       "\n",
       "        event_18h_ago  event_24h_ago  \n",
       "0                   0              0  \n",
       "1                   0              0  \n",
       "2                   0              0  \n",
       "3                   0              0  \n",
       "4                   0              0  \n",
       "...               ...            ...  \n",
       "596707              1              1  \n",
       "596708              1              1  \n",
       "596709              1              1  \n",
       "596710              1              0  \n",
       "596711              1              1  \n",
       "\n",
       "[596712 rows x 1046 columns]"
      ],
      "text/html": [
       "<div>\n",
       "<style scoped>\n",
       "    .dataframe tbody tr th:only-of-type {\n",
       "        vertical-align: middle;\n",
       "    }\n",
       "\n",
       "    .dataframe tbody tr th {\n",
       "        vertical-align: top;\n",
       "    }\n",
       "\n",
       "    .dataframe thead th {\n",
       "        text-align: right;\n",
       "    }\n",
       "</style>\n",
       "<table border=\"1\" class=\"dataframe\">\n",
       "  <thead>\n",
       "    <tr style=\"text-align: right;\">\n",
       "      <th></th>\n",
       "      <th>region_id</th>\n",
       "      <th>day_datetimeEpoch</th>\n",
       "      <th>day_tempmax</th>\n",
       "      <th>day_tempmin</th>\n",
       "      <th>day_temp</th>\n",
       "      <th>day_dew</th>\n",
       "      <th>day_humidity</th>\n",
       "      <th>day_precip</th>\n",
       "      <th>day_precipcover</th>\n",
       "      <th>day_solarradiation</th>\n",
       "      <th>...</th>\n",
       "      <th>997</th>\n",
       "      <th>998</th>\n",
       "      <th>999</th>\n",
       "      <th>event_1h_ago</th>\n",
       "      <th>event_2h_ago</th>\n",
       "      <th>event_3h_ago</th>\n",
       "      <th>event_6h_ago</th>\n",
       "      <th>event_12h_ago</th>\n",
       "      <th>event_18h_ago</th>\n",
       "      <th>event_24h_ago</th>\n",
       "    </tr>\n",
       "  </thead>\n",
       "  <tbody>\n",
       "    <tr>\n",
       "      <th>0</th>\n",
       "      <td>2</td>\n",
       "      <td>1645740000</td>\n",
       "      <td>7.2</td>\n",
       "      <td>-1.0</td>\n",
       "      <td>2.6</td>\n",
       "      <td>-1.8</td>\n",
       "      <td>74.2</td>\n",
       "      <td>0.0</td>\n",
       "      <td>0.00</td>\n",
       "      <td>143.9</td>\n",
       "      <td>...</td>\n",
       "      <td>0.504</td>\n",
       "      <td>0.477</td>\n",
       "      <td>0.611</td>\n",
       "      <td>0</td>\n",
       "      <td>0</td>\n",
       "      <td>0</td>\n",
       "      <td>0</td>\n",
       "      <td>0</td>\n",
       "      <td>0</td>\n",
       "      <td>0</td>\n",
       "    </tr>\n",
       "    <tr>\n",
       "      <th>1</th>\n",
       "      <td>2</td>\n",
       "      <td>1645740000</td>\n",
       "      <td>7.2</td>\n",
       "      <td>-1.0</td>\n",
       "      <td>2.6</td>\n",
       "      <td>-1.8</td>\n",
       "      <td>74.2</td>\n",
       "      <td>0.0</td>\n",
       "      <td>0.00</td>\n",
       "      <td>143.9</td>\n",
       "      <td>...</td>\n",
       "      <td>0.504</td>\n",
       "      <td>0.477</td>\n",
       "      <td>0.611</td>\n",
       "      <td>0</td>\n",
       "      <td>0</td>\n",
       "      <td>0</td>\n",
       "      <td>0</td>\n",
       "      <td>0</td>\n",
       "      <td>0</td>\n",
       "      <td>0</td>\n",
       "    </tr>\n",
       "    <tr>\n",
       "      <th>2</th>\n",
       "      <td>2</td>\n",
       "      <td>1645740000</td>\n",
       "      <td>7.2</td>\n",
       "      <td>-1.0</td>\n",
       "      <td>2.6</td>\n",
       "      <td>-1.8</td>\n",
       "      <td>74.2</td>\n",
       "      <td>0.0</td>\n",
       "      <td>0.00</td>\n",
       "      <td>143.9</td>\n",
       "      <td>...</td>\n",
       "      <td>0.504</td>\n",
       "      <td>0.477</td>\n",
       "      <td>0.611</td>\n",
       "      <td>0</td>\n",
       "      <td>0</td>\n",
       "      <td>0</td>\n",
       "      <td>0</td>\n",
       "      <td>0</td>\n",
       "      <td>0</td>\n",
       "      <td>0</td>\n",
       "    </tr>\n",
       "    <tr>\n",
       "      <th>3</th>\n",
       "      <td>2</td>\n",
       "      <td>1645740000</td>\n",
       "      <td>7.2</td>\n",
       "      <td>-1.0</td>\n",
       "      <td>2.6</td>\n",
       "      <td>-1.8</td>\n",
       "      <td>74.2</td>\n",
       "      <td>0.0</td>\n",
       "      <td>0.00</td>\n",
       "      <td>143.9</td>\n",
       "      <td>...</td>\n",
       "      <td>0.504</td>\n",
       "      <td>0.477</td>\n",
       "      <td>0.611</td>\n",
       "      <td>0</td>\n",
       "      <td>0</td>\n",
       "      <td>0</td>\n",
       "      <td>0</td>\n",
       "      <td>0</td>\n",
       "      <td>0</td>\n",
       "      <td>0</td>\n",
       "    </tr>\n",
       "    <tr>\n",
       "      <th>4</th>\n",
       "      <td>2</td>\n",
       "      <td>1645740000</td>\n",
       "      <td>7.2</td>\n",
       "      <td>-1.0</td>\n",
       "      <td>2.6</td>\n",
       "      <td>-1.8</td>\n",
       "      <td>74.2</td>\n",
       "      <td>0.0</td>\n",
       "      <td>0.00</td>\n",
       "      <td>143.9</td>\n",
       "      <td>...</td>\n",
       "      <td>0.504</td>\n",
       "      <td>0.477</td>\n",
       "      <td>0.611</td>\n",
       "      <td>0</td>\n",
       "      <td>0</td>\n",
       "      <td>0</td>\n",
       "      <td>0</td>\n",
       "      <td>0</td>\n",
       "      <td>0</td>\n",
       "      <td>0</td>\n",
       "    </tr>\n",
       "    <tr>\n",
       "      <th>...</th>\n",
       "      <td>...</td>\n",
       "      <td>...</td>\n",
       "      <td>...</td>\n",
       "      <td>...</td>\n",
       "      <td>...</td>\n",
       "      <td>...</td>\n",
       "      <td>...</td>\n",
       "      <td>...</td>\n",
       "      <td>...</td>\n",
       "      <td>...</td>\n",
       "      <td>...</td>\n",
       "      <td>...</td>\n",
       "      <td>...</td>\n",
       "      <td>...</td>\n",
       "      <td>...</td>\n",
       "      <td>...</td>\n",
       "      <td>...</td>\n",
       "      <td>...</td>\n",
       "      <td>...</td>\n",
       "      <td>...</td>\n",
       "      <td>...</td>\n",
       "    </tr>\n",
       "    <tr>\n",
       "      <th>596707</th>\n",
       "      <td>25</td>\n",
       "      <td>1740780000</td>\n",
       "      <td>0.6</td>\n",
       "      <td>-2.4</td>\n",
       "      <td>-0.7</td>\n",
       "      <td>-2.8</td>\n",
       "      <td>86.3</td>\n",
       "      <td>2.0</td>\n",
       "      <td>4.17</td>\n",
       "      <td>41.0</td>\n",
       "      <td>...</td>\n",
       "      <td>0.556</td>\n",
       "      <td>0.555</td>\n",
       "      <td>0.734</td>\n",
       "      <td>0</td>\n",
       "      <td>0</td>\n",
       "      <td>0</td>\n",
       "      <td>0</td>\n",
       "      <td>0</td>\n",
       "      <td>1</td>\n",
       "      <td>1</td>\n",
       "    </tr>\n",
       "    <tr>\n",
       "      <th>596708</th>\n",
       "      <td>25</td>\n",
       "      <td>1740780000</td>\n",
       "      <td>0.6</td>\n",
       "      <td>-2.4</td>\n",
       "      <td>-0.7</td>\n",
       "      <td>-2.8</td>\n",
       "      <td>86.3</td>\n",
       "      <td>2.0</td>\n",
       "      <td>4.17</td>\n",
       "      <td>41.0</td>\n",
       "      <td>...</td>\n",
       "      <td>0.556</td>\n",
       "      <td>0.555</td>\n",
       "      <td>0.734</td>\n",
       "      <td>0</td>\n",
       "      <td>0</td>\n",
       "      <td>0</td>\n",
       "      <td>0</td>\n",
       "      <td>0</td>\n",
       "      <td>1</td>\n",
       "      <td>1</td>\n",
       "    </tr>\n",
       "    <tr>\n",
       "      <th>596709</th>\n",
       "      <td>25</td>\n",
       "      <td>1740780000</td>\n",
       "      <td>0.6</td>\n",
       "      <td>-2.4</td>\n",
       "      <td>-0.7</td>\n",
       "      <td>-2.8</td>\n",
       "      <td>86.3</td>\n",
       "      <td>2.0</td>\n",
       "      <td>4.17</td>\n",
       "      <td>41.0</td>\n",
       "      <td>...</td>\n",
       "      <td>0.556</td>\n",
       "      <td>0.555</td>\n",
       "      <td>0.734</td>\n",
       "      <td>0</td>\n",
       "      <td>0</td>\n",
       "      <td>0</td>\n",
       "      <td>0</td>\n",
       "      <td>0</td>\n",
       "      <td>1</td>\n",
       "      <td>1</td>\n",
       "    </tr>\n",
       "    <tr>\n",
       "      <th>596710</th>\n",
       "      <td>25</td>\n",
       "      <td>1740780000</td>\n",
       "      <td>0.6</td>\n",
       "      <td>-2.4</td>\n",
       "      <td>-0.7</td>\n",
       "      <td>-2.8</td>\n",
       "      <td>86.3</td>\n",
       "      <td>2.0</td>\n",
       "      <td>4.17</td>\n",
       "      <td>41.0</td>\n",
       "      <td>...</td>\n",
       "      <td>0.556</td>\n",
       "      <td>0.555</td>\n",
       "      <td>0.734</td>\n",
       "      <td>0</td>\n",
       "      <td>0</td>\n",
       "      <td>0</td>\n",
       "      <td>0</td>\n",
       "      <td>0</td>\n",
       "      <td>1</td>\n",
       "      <td>0</td>\n",
       "    </tr>\n",
       "    <tr>\n",
       "      <th>596711</th>\n",
       "      <td>25</td>\n",
       "      <td>1740780000</td>\n",
       "      <td>0.6</td>\n",
       "      <td>-2.4</td>\n",
       "      <td>-0.7</td>\n",
       "      <td>-2.8</td>\n",
       "      <td>86.3</td>\n",
       "      <td>2.0</td>\n",
       "      <td>4.17</td>\n",
       "      <td>41.0</td>\n",
       "      <td>...</td>\n",
       "      <td>0.556</td>\n",
       "      <td>0.555</td>\n",
       "      <td>0.734</td>\n",
       "      <td>0</td>\n",
       "      <td>0</td>\n",
       "      <td>0</td>\n",
       "      <td>0</td>\n",
       "      <td>0</td>\n",
       "      <td>1</td>\n",
       "      <td>1</td>\n",
       "    </tr>\n",
       "  </tbody>\n",
       "</table>\n",
       "<p>596712 rows × 1046 columns</p>\n",
       "</div>"
      ]
     },
     "execution_count": 16,
     "metadata": {},
     "output_type": "execute_result"
    }
   ],
   "execution_count": 16
  }
 ],
 "metadata": {
  "kernelspec": {
   "display_name": "Python 3",
   "language": "python",
   "name": "python3"
  },
  "language_info": {
   "codemirror_mode": {
    "name": "ipython",
    "version": 2
   },
   "file_extension": ".py",
   "mimetype": "text/x-python",
   "name": "python",
   "nbconvert_exporter": "python",
   "pygments_lexer": "ipython2",
   "version": "2.7.6"
  }
 },
 "nbformat": 4,
 "nbformat_minor": 5
}
