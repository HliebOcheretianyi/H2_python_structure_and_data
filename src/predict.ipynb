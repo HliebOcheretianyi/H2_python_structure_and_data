{
 "cells": [
  {
   "cell_type": "code",
   "id": "f0288c6a9ef47904",
   "metadata": {},
   "source": [
    "import os\n",
    "\n",
    "import pandas as pd\n",
    "import numpy as np\n",
    "from sklearn.model_selection import TimeSeriesSplit\n",
    "from sklearn.preprocessing import StandardScaler\n",
    "from sklearn.metrics import accuracy_score, f1_score, classification_report, confusion_matrix\n",
    "from xgboost import XGBClassifier\n",
    "import pickle\n",
    "import joblib\n",
    "import json\n",
    "from datetime import datetime"
   ],
   "outputs": [],
   "execution_count": null
  },
  {
   "cell_type": "code",
   "id": "fe1a1d84a24d64a",
   "metadata": {},
   "source": [
    "scaler_1h = joblib.load('../src/our_models/scaler_1hour.pkl')\n",
    "scaler_2h = joblib.load('../src/our_models/scaler_2hour.pkl')\n",
    "scaler_all = joblib.load('../src/our_models/scaler_all.pkl')"
   ],
   "outputs": [],
   "execution_count": null
  },
  {
   "cell_type": "code",
   "id": "2b2dbde8e6c4da5d",
   "metadata": {},
   "source": [
    "with open('../src/our_models/3_Xgboost_1hour.pkl', 'rb') as f:\n",
    "    model_1h = pickle.load(f)\n",
    "with open('../src/our_models/3_Xgboost_2hour.pkl', 'rb') as f:\n",
    "    model_2h = pickle.load(f)\n",
    "with open('../src/our_models/3_Xgboost_all.pkl', 'rb') as f:\n",
    "    model_all = pickle.load(f)"
   ],
   "outputs": [],
   "execution_count": null
  },
  {
   "cell_type": "code",
   "id": "170322fb54cab0cd",
   "metadata": {},
   "source": [
    "df = pd.read_csv(\"../data/everyhour_predict/test.csv\",sep=\";\")"
   ],
   "outputs": [],
   "execution_count": null
  },
  {
   "cell_type": "code",
   "id": "1d2e56c14b64fd5e",
   "metadata": {},
   "source": [
    "df"
   ],
   "outputs": [],
   "execution_count": null
  },
  {
   "cell_type": "code",
   "id": "df90621a25ad24b3",
   "metadata": {},
   "source": [
    "#X_new = df[df['region_id'] == 21]\n",
    "#X_1 = X_new.iloc[[0]]\n",
    "#X_2 = X_new.iloc[[1]]\n",
    "#X_all = X_new.iloc[2:]\n",
    "#X_all = X_all.drop(\"status\", axis=1)"
   ],
   "outputs": [],
   "execution_count": null
  },
  {
   "cell_type": "code",
   "id": "46f7727cf2e83e5",
   "metadata": {},
   "source": [
    "#X_1_scaled = scaler_1h.transform(X_1)\n",
    "#X_2_scaled = scaler_2h.transform(X_2)\n",
    "#X_all_scaled = scaler_all.transform(X_all)"
   ],
   "outputs": [],
   "execution_count": null
  },
  {
   "cell_type": "code",
   "id": "a5d971451b624cc3",
   "metadata": {},
   "source": [
    "#y_pred_1 = model_1h.predict(X_1_scaled)"
   ],
   "outputs": [],
   "execution_count": null
  },
  {
   "cell_type": "code",
   "id": "2986f8bcc8cd69d6",
   "metadata": {},
   "source": [
    "#y_pred_1"
   ],
   "outputs": [],
   "execution_count": null
  },
  {
   "cell_type": "code",
   "id": "b8a6c23761a3ebe2",
   "metadata": {},
   "source": [
    "#y_pred_2 = model_2h.predict(X_2_scaled)"
   ],
   "outputs": [],
   "execution_count": null
  },
  {
   "cell_type": "code",
   "id": "4afcde274974166b",
   "metadata": {},
   "source": [
    "#y_pred_2"
   ],
   "outputs": [],
   "execution_count": null
  },
  {
   "cell_type": "code",
   "id": "42fb80ca7a4f10e1",
   "metadata": {},
   "source": [
    "#y_pred_all = model_all.predict(X_all_scaled)\n",
    "#y_pred_all"
   ],
   "outputs": [],
   "execution_count": null
  },
  {
   "cell_type": "code",
   "id": "b023a6d36ef9a481",
   "metadata": {},
   "source": [
    "#df"
   ],
   "outputs": [],
   "execution_count": null
  },
  {
   "cell_type": "code",
   "id": "d6541671474bac68",
   "metadata": {},
   "source": [
    "#scaler_1h"
   ],
   "outputs": [],
   "execution_count": null
  },
  {
   "cell_type": "code",
   "id": "ec07f36e1018a71",
   "metadata": {},
   "source": [
    "#prediction = np.concatenate([y_pred_1, y_pred_2, y_pred_all])\n",
    "#hours = [f\"{h:02d}:00\" for h in range(24)]\n",
    "#forecast = {\n",
    "#    hour: True if status == 1 else False\n",
    "#    for hour, status in zip(hours, prediction)\n",
    "#}"
   ],
   "outputs": [],
   "execution_count": null
  },
  {
   "cell_type": "code",
   "id": "abbeccb6bdeebf19",
   "metadata": {},
   "source": [
    "#forecast"
   ],
   "outputs": [],
   "execution_count": null
  },
  {
   "cell_type": "code",
   "id": "16a6b5f13b581424",
   "metadata": {
    "collapsed": false
   },
   "source": [
    "region_map = {\n",
    "    1: \"Kyiv\",\n",
    "    2: \"Vinnytsia\",\n",
    "    3: \"Lutsk\",\n",
    "    4: \"Dnipro\",\n",
    "    5: \"Donetsk\",\n",
    "    6: \"Zhytomyr\",\n",
    "    7: \"Uzhgorod\",\n",
    "    8: \"Zaporozhye\",\n",
    "    9: \"Ivano-Frankivsk\",\n",
    "    10: \"Kyiv region\",\n",
    "    11: \"Kropyvnytskyi\",\n",
    "    13: \"Lviv\",\n",
    "    14: \"Mykolaiv\",\n",
    "    15: \"Odesa\",\n",
    "    16: \"Poltava\",\n",
    "    17: \"Rivne\",\n",
    "    18: \"Sumy\",\n",
    "    19: \"Ternopil\",\n",
    "    20: \"Kharkiv\",\n",
    "    21: \"Kherson\",\n",
    "    22: \"Khmelnytskyi\",\n",
    "    23: \"Cherkasy\",\n",
    "    24: \"Chernivtsi\",\n",
    "    25: \"Chernihiv\"\n",
    "}\n",
    "hours = [f\"{h:02d}:00\" for h in range(24)]\n",
    "regions_forecast = {}"
   ],
   "outputs": [],
   "execution_count": null
  },
  {
   "cell_type": "code",
   "id": "549768079dadcdc0",
   "metadata": {
    "collapsed": false
   },
   "source": [
    "for region_id, region_name in region_map.items():\n",
    "    X_new = df[df['region_id'] == region_id]\n",
    "    X_1 = X_new.iloc[[0]]\n",
    "    X_2 = X_new.iloc[[1]]\n",
    "    X_all = X_new.iloc[2:]\n",
    "    X_all = X_all.drop(\"status\", axis=1)\n",
    "    X_1_scaled = scaler_1h.transform(X_1)\n",
    "    X_2_scaled = scaler_2h.transform(X_2)\n",
    "    X_all_scaled = scaler_all.transform(X_all)\n",
    "    y_pred_1 = model_1h.predict(X_1_scaled)\n",
    "    y_pred_2 = model_2h.predict(X_2_scaled)\n",
    "    y_pred_all = model_all.predict(X_all_scaled)\n",
    "    prediction = np.concatenate([y_pred_1, y_pred_2, y_pred_all])\n",
    "    forecast = {\n",
    "        hour: True if status == 1 else False\n",
    "        for hour, status in zip(hours, prediction)\n",
    "    }\n",
    "    regions_forecast[region_name] = forecast\n",
    "result = {\"regions_forecast\": regions_forecast}"
   ],
   "outputs": [],
   "execution_count": null
  },
  {
   "cell_type": "code",
   "id": "5e75f5c330f784dc",
   "metadata": {
    "collapsed": false
   },
   "source": [
    "result"
   ],
   "outputs": [],
   "execution_count": null
  },
  {
   "cell_type": "code",
   "id": "1a57658ccf374fbd",
   "metadata": {
    "collapsed": false
   },
   "source": [
    "data_dir = os.path.join(os.getcwd(), 'data/forecasts')\n",
    "file_path = os.path.join(data_dir, \"forecast.json\")\n",
    "os.makedirs(data_dir, exist_ok=True)\n",
    "with open(file_path, \"w\") as f:\n",
    "    json.dump(result, f)"
   ],
   "outputs": [],
   "execution_count": null
  },
  {
   "cell_type": "code",
   "id": "7e0e2b7e9c0c5b53",
   "metadata": {
    "collapsed": false
   },
   "source": [],
   "outputs": [],
   "execution_count": null
  }
 ],
 "metadata": {
  "kernelspec": {
   "display_name": "Python 3",
   "language": "python",
   "name": "python3"
  },
  "language_info": {
   "codemirror_mode": {
    "name": "ipython",
    "version": 2
   },
   "file_extension": ".py",
   "mimetype": "text/x-python",
   "name": "python",
   "nbconvert_exporter": "python",
   "pygments_lexer": "ipython2",
   "version": "2.7.6"
  }
 },
 "nbformat": 4,
 "nbformat_minor": 5
}
