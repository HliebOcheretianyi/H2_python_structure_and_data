{
 "cells": [
  {
   "metadata": {},
   "cell_type": "code",
   "source": [
    "import os\n",
    "\n",
    "import pandas as pd\n",
    "from datetime import date\n",
    "import weather_scrap as w\n",
    "import alerts_in_ua as a\n",
    "import holidays"
   ],
   "id": "d3c9c2bec5a8ab7d",
   "outputs": [],
   "execution_count": null
  },
  {
   "metadata": {},
   "cell_type": "markdown",
   "source": "### Merging regions and weather",
   "id": "3ecb4ab1ce7dddd7"
  },
  {
   "metadata": {},
   "cell_type": "code",
   "source": "df_regions = pd.read_csv(f\"../data/regions.csv\")",
   "id": "8cc7b16078c30ae7",
   "outputs": [],
   "execution_count": null
  },
  {
   "metadata": {},
   "cell_type": "code",
   "source": "df_regions.head(5)",
   "id": "2b12caefb82968aa",
   "outputs": [],
   "execution_count": null
  },
  {
   "metadata": {},
   "cell_type": "code",
   "source": "df_regions[\"region\"].unique()",
   "id": "8bd52c1c4a9de476",
   "outputs": [],
   "execution_count": null
  },
  {
   "metadata": {},
   "cell_type": "code",
   "source": "df_regions[\"region\"] = df_regions[\"region\"].apply(lambda x: x + \" обл.\")",
   "id": "cddef44a2561b177",
   "outputs": [],
   "execution_count": null
  },
  {
   "metadata": {},
   "cell_type": "code",
   "source": [
    "weather_regions = [\n",
    "    \"Vinnytsia, Ukraine\",\n",
    "    \"Lutsk, Ukraine\",\n",
    "    \"Dnipro, Ukraine\",\n",
    "    \"Donetsk, Ukraine\",\n",
    "    \"Zhytomyr, Ukraine\",\n",
    "    \"Uzhhorod, Ukraine\",\n",
    "    \"Zaporizhia, Ukraine\",\n",
    "    \"Ivano-Frankivsk, Ukraine\",\n",
    "    \"Kyiv, Ukraine\",\n",
    "    \"Kropyvnytskyi, Ukraine\",\n",
    "    \"Lviv, Ukraine\",\n",
    "    \"Mykolaiv, Ukraine\",\n",
    "    \"Odessa, Ukraine\",\n",
    "    \"Poltava, Ukraine\",\n",
    "    \"Rivne, Ukraine\",\n",
    "    \"Sumy, Ukraine\",\n",
    "    \"Ternopil, Ukraine\",\n",
    "    \"Kharkiv, Ukraine\",\n",
    "    \"Kherson, Ukraine\",\n",
    "    \"Khmelnytskyi, Ukraine\",\n",
    "    \"Cherkasy, Ukraine\",\n",
    "    \"Chernivtsi, Ukraine\",\n",
    "    \"Chernigiv, Ukraine\"\n",
    "]"
   ],
   "id": "8b3c77b92915db7c",
   "outputs": [],
   "execution_count": null
  },
  {
   "metadata": {},
   "cell_type": "code",
   "source": [
    "all_data = []\n",
    "\n",
    "for region in weather_regions:\n",
    "    forecast = w.generate_forecast(region)\n",
    "    \n",
    "    df_region = pd.DataFrame(forecast)\n",
    "    all_data.append(df_region)\n",
    "\n",
    "df_weather = pd.concat(all_data, ignore_index=True)\n",
    "df_weather.head()"
   ],
   "id": "15b22f51d3f7555c",
   "outputs": [],
   "execution_count": null
  },
  {
   "metadata": {},
   "cell_type": "code",
   "source": "df_weather",
   "id": "dd47f30fe9a24ab5",
   "outputs": [],
   "execution_count": null
  },
  {
   "metadata": {},
   "cell_type": "code",
   "source": "df_weather.columns",
   "id": "5e8c4bf2630e4523",
   "outputs": [],
   "execution_count": null
  },
  {
   "metadata": {},
   "cell_type": "code",
   "source": [
    "df_weather[\"city\"] = df_weather[\"city_resolvedAddress\"].apply(lambda x: x.split(\",\")[0])\n",
    "df_weather[\"city\"] = df_weather[\"city\"].replace('Хмельницька область', \"Хмельницький\")"
   ],
   "id": "85b7c82bfc9958bd",
   "outputs": [],
   "execution_count": null
  },
  {
   "metadata": {},
   "cell_type": "code",
   "source": "df_weather.head(5)",
   "id": "6374e1a961d306e1",
   "outputs": [],
   "execution_count": null
  },
  {
   "metadata": {},
   "cell_type": "code",
   "source": "df_weather_reg = pd.merge(df_weather, df_regions, left_on=\"city\",right_on=\"center_city_ua\")",
   "id": "cfc8ff9fff4b2e01",
   "outputs": [],
   "execution_count": null
  },
  {
   "metadata": {},
   "cell_type": "code",
   "source": "df_weather_reg.head(5)",
   "id": "869ea30be3569439",
   "outputs": [],
   "execution_count": null
  },
  {
   "metadata": {},
   "cell_type": "code",
   "source": "df_weather_reg[\"region\"] = df_weather_reg[\"region\"].str.replace(r\"\\s*обл\\.?\", \" область\", regex=True)",
   "id": "fe157009832a53f9",
   "outputs": [],
   "execution_count": null
  },
  {
   "metadata": {},
   "cell_type": "code",
   "source": [
    "kyiv_reg = df_weather_reg[df_weather_reg[\"region\"] == \"Київська область\"].copy()\n",
    "kyiv_reg[\"region\"] = \"Київ\"\n",
    "kyiv_reg[\"region_id\"] = 1\n",
    "\n",
    "df_weather_reg = pd.concat([df_weather_reg, kyiv_reg])"
   ],
   "id": "dc0c44e0d2da7b87",
   "outputs": [],
   "execution_count": null
  },
  {
   "metadata": {},
   "cell_type": "markdown",
   "source": "### Merging weather, alarms and regions together",
   "id": "e5fad4c1bf8dd7d3"
  },
  {
   "metadata": {},
   "cell_type": "code",
   "source": [
    "df_alarms = pd.DataFrame(a.get_alerts())\n",
    "df_alarms.head()"
   ],
   "id": "c8ece6295e4d193e",
   "outputs": [],
   "execution_count": null
  },
  {
   "metadata": {},
   "cell_type": "code",
   "source": "df_alarms[\"status\"] = df_alarms[\"status\"].apply(lambda x: 1 if x == 'A' or 'P' else 0)",
   "id": "1c2f3844d4d05413",
   "outputs": [],
   "execution_count": null
  },
  {
   "metadata": {},
   "cell_type": "code",
   "source": "df_weather_reg_al = df_weather_reg.merge(df_alarms, how=\"left\", left_on=\"region\", right_on=\"region\")",
   "id": "d0d40317fc394503",
   "outputs": [],
   "execution_count": null
  },
  {
   "metadata": {},
   "cell_type": "code",
   "source": "df_weather_reg_al",
   "id": "20b78932dc9c7a39",
   "outputs": [],
   "execution_count": null
  },
  {
   "metadata": {},
   "cell_type": "code",
   "source": "df_weather_reg_al[\"day_datetime\"] = pd.to_datetime(df_weather_reg_al[\"day_datetime\"])",
   "id": "f6a55026269f6905",
   "outputs": [],
   "execution_count": null
  },
  {
   "metadata": {},
   "cell_type": "markdown",
   "source": "### Merging vectorized ISW to the rest",
   "id": "a054fbc62fdc551b"
  },
  {
   "metadata": {},
   "cell_type": "code",
   "source": "df_isw_vect = pd.read_csv(\"../data/ISW_vector.csv\")",
   "id": "90f3ca401dc5306a",
   "outputs": [],
   "execution_count": null
  },
  {
   "metadata": {},
   "cell_type": "code",
   "source": "df_isw_vect.tail(10)",
   "id": "af99f99fdd090c1b",
   "outputs": [],
   "execution_count": null
  },
  {
   "metadata": {},
   "cell_type": "code",
   "source": "",
   "id": "db28f70ad7279691",
   "outputs": [],
   "execution_count": null
  },
  {
   "metadata": {},
   "cell_type": "code",
   "source": [
    "#yesterday_str = (datetime.now() - timedelta(days=2)).strftime('%Y-%m-%d')\n",
    "#df_isw_vect = df_isw_vect[df_isw_vect['date'] == yesterday_str]\n",
    "df_isw_vect = df_isw_vect.tail(1)"
   ],
   "id": "892726dad080c9fb",
   "outputs": [],
   "execution_count": null
  },
  {
   "metadata": {},
   "cell_type": "code",
   "source": "df_isw_vect[\"date\"]",
   "id": "a9033d7552535213",
   "outputs": [],
   "execution_count": null
  },
  {
   "metadata": {},
   "cell_type": "code",
   "source": [
    "#df_isw_vect[\"date\"] = pd.to_datetime(df_isw_vect[\"date\"])\n",
    "#df_isw_vect[\"date_tomorrow_datetime\"] = df_isw_vect[\"date\"] + datetime.timedelta(days=1)"
   ],
   "id": "6d997d1ee90bf15f",
   "outputs": [],
   "execution_count": null
  },
  {
   "metadata": {},
   "cell_type": "code",
   "source": [
    "#df_ready = df_weather_reg_al.merge(df_isw_vect, how=\"left\", left_on=\"day_datetime\", right_on=\"date_tomorrow_datetime\")\n",
    "df_isw_vect = pd.concat([df_isw_vect] * len(df_weather_reg_al), ignore_index=True)\n",
    "df_ready = pd.concat([df_weather_reg_al.reset_index(drop=True), df_isw_vect.reset_index(drop=True)], axis=1)"
   ],
   "id": "e141259e24841acd",
   "outputs": [],
   "execution_count": null
  },
  {
   "metadata": {},
   "cell_type": "code",
   "source": "df_ready.head()",
   "id": "88d0e817ebebc4fc",
   "outputs": [],
   "execution_count": null
  },
  {
   "metadata": {},
   "cell_type": "code",
   "source": "df_ready.columns",
   "id": "4536d75bf6f82904",
   "outputs": [],
   "execution_count": null
  },
  {
   "metadata": {},
   "cell_type": "code",
   "source": "",
   "id": "bc9c1c09ab3bfa19",
   "outputs": [],
   "execution_count": null
  },
  {
   "metadata": {},
   "cell_type": "code",
   "source": "df_ready",
   "id": "35e6f78de784990d",
   "outputs": [],
   "execution_count": null
  },
  {
   "metadata": {},
   "cell_type": "code",
   "source": [
    "df = df_ready.fillna(df_ready.median(numeric_only=True))\n",
    "df['hour_preciptype'] = df['hour_preciptype'].astype(str)"
   ],
   "id": "e3cf0916f03a8d9c",
   "outputs": [],
   "execution_count": null
  },
  {
   "metadata": {},
   "cell_type": "code",
   "source": "df_encoded = pd.get_dummies(df, columns=['hour_preciptype'], prefix='hour_preciptype')",
   "id": "77c82c3638c4e5be",
   "outputs": [],
   "execution_count": null
  },
  {
   "metadata": {},
   "cell_type": "code",
   "source": [
    "bool_columns = df_encoded.select_dtypes(include=['bool']).columns\n",
    "df_encoded[bool_columns] = df_encoded[bool_columns].astype(int)"
   ],
   "id": "3b9330d6e20da99c",
   "outputs": [],
   "execution_count": null
  },
  {
   "metadata": {},
   "cell_type": "code",
   "source": [
    "preciptype = [\n",
    "    \"hour_preciptype_['freezingrain']\",\n",
    "    \"hour_preciptype_['ice']\",\n",
    "    \"hour_preciptype_['rain', 'snow']\",\n",
    "    \"hour_preciptype_['rain']\",\n",
    "    \"hour_preciptype_['snow']\"\n",
    "]\n",
    "\n",
    "for col in preciptype:\n",
    "    if col not in df_encoded.columns:\n",
    "        df_encoded[col] = 0\n",
    "other_cols = [c for c in df_encoded.columns if c not in preciptype]\n",
    "df_encoded = df_encoded[other_cols + preciptype]"
   ],
   "id": "8d65e70d2cde69f",
   "outputs": [],
   "execution_count": null
  },
  {
   "metadata": {},
   "cell_type": "code",
   "source": [
    "todrop = [\n",
    "    'city_resolvedAddress',\n",
    "    'day_datetime', \n",
    "    'city', \n",
    "    'region',\n",
    "    'center_city_ua', \n",
    "    'center_city_en', \n",
    "    'region_alt', \n",
    "    'date', \n",
    "    'content', \n",
    "    'lemma_content', \n",
    "    'stem_content']"
   ],
   "id": "752eaacb9c960a96",
   "outputs": [],
   "execution_count": null
  },
  {
   "metadata": {},
   "cell_type": "code",
   "source": "df_encoded = df_encoded.drop(todrop, axis=1)",
   "id": "740761c1ac18a813",
   "outputs": [],
   "execution_count": null
  },
  {
   "metadata": {},
   "cell_type": "code",
   "source": "df_encoded.columns",
   "id": "5b8e33b6324dfa03",
   "outputs": [],
   "execution_count": null
  },
  {
   "metadata": {},
   "cell_type": "code",
   "source": "df_encoded.shape",
   "id": "49e0c33ea95ce2bf",
   "outputs": [],
   "execution_count": null
  },
  {
   "metadata": {},
   "cell_type": "code",
   "source": [
    "temp_df = df_encoded['keywords'].str.split(expand=True)\n",
    "temp_df = temp_df.astype('float64')\n",
    "df_encoded_v2 = pd.concat([df_encoded.drop('keywords', axis=1), temp_df], axis=1)"
   ],
   "id": "1a0a64fe42390425",
   "outputs": [],
   "execution_count": null
  },
  {
   "metadata": {},
   "cell_type": "code",
   "source": [
    "unique_values = sorted(df['hour_conditions'].astype(str).unique())\n",
    "mapping = {val: idx for idx, val in enumerate(unique_values)}\n",
    "df_encoded_v2['hour_conditions'] = df['hour_conditions'].astype(str).map(mapping)"
   ],
   "id": "9506369cc294aa38",
   "outputs": [],
   "execution_count": null
  },
  {
   "metadata": {},
   "cell_type": "code",
   "source": [
    "df_encoded_v2['hour_datetime'] = pd.to_datetime(df_encoded_v2['hour_datetime'], format='%H:%M:%S')\n",
    "df_encoded_v2['day_sunrise'] = pd.to_datetime(df_encoded_v2['day_sunrise'], format='%H:%M:%S')\n",
    "df_encoded_v2['day_sunset'] = pd.to_datetime(df_encoded_v2['day_sunset'], format='%H:%M:%S')\n",
    "df_encoded_v2['hour_datetime'] = (df_encoded_v2['hour_datetime'].dt.hour * 3600 +\n",
    "                                  df_encoded_v2['hour_datetime'].dt.minute * 60 +\n",
    "                                  df_encoded_v2['hour_datetime'].dt.second) / 86400\n",
    "\n",
    "df_encoded_v2['day_sunrise'] = (df_encoded_v2['day_sunrise'].dt.hour * 3600 +\n",
    "                                df_encoded_v2['day_sunrise'].dt.minute * 60 +\n",
    "                                df_encoded_v2['day_sunrise'].dt.second) / 86400\n",
    "\n",
    "df_encoded_v2['day_sunset'] = (df_encoded_v2['day_sunset'].dt.hour * 3600 +\n",
    "                               df_encoded_v2['day_sunset'].dt.minute * 60 +\n",
    "                               df_encoded_v2['day_sunset'].dt.second) / 86400"
   ],
   "id": "302ca1742a48c66e",
   "outputs": [],
   "execution_count": null
  },
  {
   "metadata": {},
   "cell_type": "code",
   "source": "df_encoded_v2",
   "id": "85e352affd402ac",
   "outputs": [],
   "execution_count": null
  },
  {
   "metadata": {},
   "cell_type": "code",
   "source": "df_temp = pd.read_parquet(\"../data/all_data_preprocessed/all_merged.parquet\", engine=\"pyarrow\", columns=['event_all_region', 'region_id', 'hour_datetimeEpoch'])",
   "id": "2a189658805c3696",
   "outputs": [],
   "execution_count": null
  },
  {
   "metadata": {},
   "cell_type": "code",
   "source": [
    "df_temp['timestamp'] = pd.to_datetime(df_temp['hour_datetimeEpoch'], unit='s')\n",
    "df_temp['date'] = df_temp['timestamp'].dt.date\n",
    "last_date = df_temp['date'].max()\n",
    "df_temp = df_temp[df_temp['date'] == last_date]\n"
   ],
   "id": "4e89816c2b3a93c9",
   "outputs": [],
   "execution_count": null
  },
  {
   "metadata": {},
   "cell_type": "code",
   "source": "df_temp",
   "id": "4f87c551ed8903b9",
   "outputs": [],
   "execution_count": null
  },
  {
   "metadata": {},
   "cell_type": "code",
   "source": [
    "df_encoded_v2['timestamp'] = pd.to_datetime(df_encoded_v2['hour_datetimeEpoch'], unit='s')\n",
    "df_encoded_v2['timestamp'] = pd.to_datetime(df_encoded_v2['timestamp'])\n",
    "df_encoded_v2 = df_encoded_v2.set_index(pd.DatetimeIndex(df_encoded_v2['timestamp']))\n",
    "df_temp = df_temp.set_index(pd.DatetimeIndex(df_temp['timestamp']))"
   ],
   "id": "3d8cf96f7dbb9c5b",
   "outputs": [],
   "execution_count": null
  },
  {
   "metadata": {},
   "cell_type": "code",
   "source": [
    "hourly_has_event = df_temp.groupby('region_id')['event_all_region'].resample('h').sum().gt(0).astype(int)\n",
    "hours_with_events_per_day = hourly_has_event.groupby('region_id').resample('D', level=1).sum()\n",
    "\n",
    "hours_with_events_per_day = hours_with_events_per_day.reset_index()\n",
    "hours_with_events_per_day.rename(columns={'event_all_region': 'event_lastDay_region'}, inplace=True)\n",
    "\n",
    "df_encoded_v2['date'] = df_encoded_v2['timestamp'].dt.strftime('%Y-%m-%d')\n",
    "hours_with_events_per_day['date'] = hours_with_events_per_day['timestamp'].dt.strftime('%Y-%m-%d')\n",
    "\n",
    "df_encoded_v2"
   ],
   "id": "4a6c5b3b70805b95",
   "outputs": [],
   "execution_count": null
  },
  {
   "metadata": {},
   "cell_type": "code",
   "source": [
    "df_encoded_v2.drop('timestamp', axis=1, inplace=True)\n",
    "df_encoded_v2.reset_index(inplace=True)\n",
    "df_encoded_v2 = df_encoded_v2.sort_values('timestamp')\n",
    "hours_with_events_per_day = hours_with_events_per_day.sort_values('timestamp')"
   ],
   "id": "5277d3bec4df5695",
   "outputs": [],
   "execution_count": null
  },
  {
   "metadata": {},
   "cell_type": "code",
   "source": "",
   "id": "de78087e31766425",
   "outputs": [],
   "execution_count": null
  },
  {
   "metadata": {},
   "cell_type": "code",
   "source": [
    "df_encoded_v2 = pd.merge_asof(\n",
    "    df_encoded_v2,\n",
    "    hours_with_events_per_day[['timestamp', 'region_id', 'event_lastDay_region']],\n",
    "    on='timestamp',\n",
    "    by='region_id',\n",
    "    direction='backward'\n",
    ")"
   ],
   "id": "c03debad5ac14086",
   "outputs": [],
   "execution_count": null
  },
  {
   "metadata": {},
   "cell_type": "code",
   "source": "df_encoded_v2",
   "id": "f65fd4044abb0a55",
   "outputs": [],
   "execution_count": null
  },
  {
   "metadata": {},
   "cell_type": "code",
   "source": [
    "class UkrainianECBHolidays(holidays.HolidayBase):\n",
    "    def __init__(self, years=None, **kwargs):\n",
    "        self.country = \"UA\"\n",
    "        super().__init__(years=years, **kwargs)\n",
    "\n",
    "    def _populate(self, year):\n",
    "        self[date(year, 1, 1)] = \"New Year's Day\"\n",
    "        self[date(year, 1, 7)] = \"Orthodox Christmas\"\n",
    "        self[date(year, 3, 8)] = \"International Women's Day\"\n",
    "        self[date(year, 5, 1)] = \"Labour Day\"\n",
    "        self[date(year, 5, 8)] = \"Day of Remembrance and Reconciliation\"\n",
    "        self[date(year, 5, 9)] = \"Victory Day\"\n",
    "        self[date(year, 6, 28)] = \"Constitution Day of Ukraine\"\n",
    "        self[date(year, 8, 24)] = \"Independence Day of Ukraine\"\n",
    "        self[date(year, 12, 25)] = \"Christmas (Western)\"\n",
    "\n",
    "\n",
    "class RussianECBHolidays(holidays.HolidayBase):\n",
    "    def __init__(self, years=None, **kwargs):\n",
    "        self.country = \"RU\"\n",
    "        super().__init__(years=years, **kwargs)\n",
    "\n",
    "    def _populate(self, year):\n",
    "        self[date(year, 1, 1)] = \"New Year's Day (Russia)\"\n",
    "        self[date(year, 1, 7)] = \"Orthodox Christmas (Russia)\"\n",
    "        self[date(year, 2, 23)] = \"Defender of the Fatherland Day (Russia)\"\n",
    "        self[date(year, 3, 8)] = \"International Women's Day (Russia)\"\n",
    "        self[date(year, 5, 1)] = \"Spring and Labor Day (Russia)\"\n",
    "        self[date(year, 5, 9)] = \"Victory Day (Russia)\"\n",
    "        self[date(year, 6, 12)] = \"Russia Day\"\n",
    "        self[date(year, 11, 4)] = \"Unity Day (Russia)\""
   ],
   "id": "88c8c8eb63f90f59",
   "outputs": [],
   "execution_count": null
  },
  {
   "metadata": {},
   "cell_type": "code",
   "source": [
    "ua_holidays = UkrainianECBHolidays(years=range(2020, 2032))\n",
    "ru_holidays = RussianECBHolidays(years=range(2020, 2032))"
   ],
   "id": "65e11166a7e958a4",
   "outputs": [],
   "execution_count": null
  },
  {
   "metadata": {},
   "cell_type": "code",
   "source": [
    "df_encoded_v2['ru_holiday'] = df_encoded_v2['date'].apply(lambda x: 1 if x in ru_holidays else 0)\n",
    "df_encoded_v2['ua_holiday'] = df_encoded_v2['date'].apply(lambda x: 1 if x in ua_holidays else 0)"
   ],
   "id": "dff932f5ca754902",
   "outputs": [],
   "execution_count": null
  },
  {
   "metadata": {},
   "cell_type": "code",
   "source": "df_encoded_v2.drop('date', axis=1, inplace=True)",
   "id": "24fc1ab7305e3340",
   "outputs": [],
   "execution_count": null
  },
  {
   "metadata": {},
   "cell_type": "code",
   "source": "df_encoded_v2.drop('timestamp', axis=1, inplace=True)",
   "id": "1010566e4b84949d",
   "outputs": [],
   "execution_count": null
  },
  {
   "metadata": {},
   "cell_type": "code",
   "source": "",
   "id": "4073eeb599cdd980",
   "outputs": [],
   "execution_count": null
  },
  {
   "metadata": {},
   "cell_type": "code",
   "source": "df_encoded_v2",
   "id": "2e8d95346d47d084",
   "outputs": [],
   "execution_count": null
  },
  {
   "metadata": {},
   "cell_type": "code",
   "source": [
    "col_data = df_encoded_v2.pop(\"status\")\n",
    "insert_at = df_encoded_v2.columns.get_loc(\"event_lastDay_region\") + 1\n",
    "df_encoded_v2.insert(insert_at, \"status\", col_data)"
   ],
   "id": "2fe791e300e64c78",
   "outputs": [],
   "execution_count": null
  },
  {
   "metadata": {},
   "cell_type": "code",
   "source": [
    "col_data = df_encoded_v2.pop(\"region_id\")\n",
    "insert_at = df_encoded_v2.columns.get_loc('day_datetimeEpoch')\n",
    "df_encoded_v2.insert(insert_at, \"region_id\", col_data)"
   ],
   "id": "aa0e480db9b94ea7",
   "outputs": [],
   "execution_count": null
  },
  {
   "metadata": {},
   "cell_type": "code",
   "source": "df_encoded_v2.drop([\"hour_preciptype_None\"], axis=1, inplace=True)",
   "id": "5b7c95b59f46d98c",
   "outputs": [],
   "execution_count": null
  },
  {
   "metadata": {},
   "cell_type": "code",
   "source": "#df_encoded_v2.drop(\"event_lastDay_region\", axis=1, inplace=True)",
   "id": "6c2269a9694aac0f",
   "outputs": [],
   "execution_count": null
  },
  {
   "metadata": {},
   "cell_type": "code",
   "source": [
    "data_dir = os.path.join(os.getcwd(), 'predict_data/everyhour_predict')\n",
    "os.makedirs(data_dir, exist_ok=True)"
   ],
   "id": "adf77846bb92ae92",
   "outputs": [],
   "execution_count": null
  },
  {
   "metadata": {},
   "cell_type": "code",
   "source": "",
   "id": "8e130172047d4dd6",
   "outputs": [],
   "execution_count": null
  },
  {
   "metadata": {},
   "cell_type": "code",
   "source": [
    "csv_path = os.path.join(data_dir, 'test.csv')\n",
    "df_encoded_v2.to_csv(csv_path, sep=';', index=False)"
   ],
   "id": "5ee7950265228fa9",
   "outputs": [],
   "execution_count": null
  },
  {
   "metadata": {},
   "cell_type": "code",
   "source": "df_encoded_v2['event_lastDay_region']",
   "id": "7e0ee94266d53a52",
   "outputs": [],
   "execution_count": null
  },
  {
   "metadata": {},
   "cell_type": "code",
   "source": "",
   "id": "30f660d1faa910bf",
   "outputs": [],
   "execution_count": null
  },
  {
   "metadata": {},
   "cell_type": "code",
   "source": "",
   "id": "2dd5e94fc8229d1",
   "outputs": [],
   "execution_count": null
  }
 ],
 "metadata": {
  "kernelspec": {
   "display_name": "Python 3",
   "language": "python",
   "name": "python3"
  },
  "language_info": {
   "codemirror_mode": {
    "name": "ipython",
    "version": 2
   },
   "file_extension": ".py",
   "mimetype": "text/x-python",
   "name": "python",
   "nbconvert_exporter": "python",
   "pygments_lexer": "ipython2",
   "version": "2.7.6"
  }
 },
 "nbformat": 4,
 "nbformat_minor": 5
}
