{
 "cells": [
  {
   "cell_type": "code",
   "id": "4ba95462",
   "metadata": {
    "ExecuteTime": {
     "end_time": "2025-04-07T18:43:59.767286Z",
     "start_time": "2025-04-07T18:43:59.134136Z"
    }
   },
   "source": [
    "import datetime\n",
    "import numpy as np\n",
    "import pandas as pd\n",
    "\n",
    "import pickle\n",
    "\n",
    "from sklearn.feature_extraction.text import TfidfVectorizer as tf_idf"
   ],
   "outputs": [],
   "execution_count": 1
  },
  {
   "cell_type": "code",
   "id": "c5f8b892",
   "metadata": {
    "ExecuteTime": {
     "end_time": "2025-04-07T18:43:59.897525Z",
     "start_time": "2025-04-07T18:43:59.895061Z"
    }
   },
   "source": [
    "pd.set_option('display.max_columns', None)\n",
    "pd.set_option('display.max_rows', None)"
   ],
   "outputs": [],
   "execution_count": 2
  },
  {
   "cell_type": "code",
   "id": "c37b5162",
   "metadata": {
    "ExecuteTime": {
     "end_time": "2025-04-07T18:43:59.903389Z",
     "start_time": "2025-04-07T18:43:59.899524Z"
    }
   },
   "source": [
    "INPUT_DATA_FOLDER = \"../data\"\n",
    "REPORTS_DATA_FILE = \"ISW_vector.csv\"\n",
    "\n",
    "OUTPUT_FOLDER = \"../data/all_data_preprocessed\"\n",
    "ISW_OUTPUT_DATA_FILE = \"all_isw.csv\"\n",
    "ALARMS_OUTPUT_DATA_FILE = \"all_alarms.csv\"\n",
    "WEATHER_EVENTS_OUTPUT_DATA_FILE = \"all_weather_by_hour.csv\"\n",
    "\n",
    "MODEL_FOLDER = \"model\"\n",
    "\n",
    "tfidf_transformer_model = \"tfidf_transformer\"\n",
    "count_vectorizer_model = \"count_vectorizer\"\n",
    "\n",
    "tfidf_transformer_version = \"v1\"\n",
    "count_vectorizer_version = \"v1\""
   ],
   "outputs": [],
   "execution_count": 3
  },
  {
   "cell_type": "code",
   "id": "699f3dc8",
   "metadata": {
    "ExecuteTime": {
     "end_time": "2025-04-07T18:43:59.914098Z",
     "start_time": "2025-04-07T18:43:59.911468Z"
    }
   },
   "source": [
    "def isNaN(num):\n",
    "    return num != num"
   ],
   "outputs": [],
   "execution_count": 4
  },
  {
   "cell_type": "markdown",
   "id": "c78b36e9",
   "metadata": {},
   "source": "## Reading data"
  },
  {
   "cell_type": "code",
   "id": "f2dac73d",
   "metadata": {},
   "source": "df_isw = pd.read_csv(f\"{INPUT_DATA_FOLDER}/{REPORTS_DATA_FILE}\", sep=\",\")",
   "outputs": [],
   "execution_count": null
  },
  {
   "cell_type": "code",
   "id": "028a3a1d",
   "metadata": {},
   "source": [
    "df_isw.head(5)"
   ],
   "outputs": [],
   "execution_count": null
  },
  {
   "cell_type": "markdown",
   "id": "a557a7ed",
   "metadata": {},
   "source": "## Preparing ISW reports"
  },
  {
   "cell_type": "markdown",
   "id": "b08a5bed",
   "metadata": {},
   "source": "## Reading models"
  },
  {
   "cell_type": "code",
   "id": "6fc96d61",
   "metadata": {},
   "source": [
    "df_isw.head(5)"
   ],
   "outputs": [],
   "execution_count": null
  },
  {
   "cell_type": "code",
   "id": "3d09da4f",
   "metadata": {},
   "source": "df_isw[\"report_date\"] = pd.to_datetime(df_isw[\"date\"])",
   "outputs": [],
   "execution_count": null
  },
  {
   "cell_type": "code",
   "id": "84625aed",
   "metadata": {},
   "source": "df_isw['date_tomorrow_datetime'] = df_isw['report_date'].apply(lambda x: x+datetime.timedelta(days=1))",
   "outputs": [],
   "execution_count": null
  },
  {
   "cell_type": "code",
   "id": "f861134e",
   "metadata": {},
   "source": [
    "df_isw.head(5)"
   ],
   "outputs": [],
   "execution_count": null
  },
  {
   "metadata": {},
   "cell_type": "code",
   "source": "df_isw.to_csv(f\"{OUTPUT_FOLDER}/{ISW_OUTPUT_DATA_FILE}\", sep=\";\", index=False)",
   "id": "ff62498ba6dbcaf8",
   "outputs": [],
   "execution_count": null
  },
  {
   "cell_type": "markdown",
   "id": "3b306d5f",
   "metadata": {},
   "source": "## Prepare events data"
  },
  {
   "cell_type": "code",
   "id": "43a0cf0e",
   "metadata": {},
   "source": "EVENTS_DATA_FILE = \"alarms.csv\"",
   "outputs": [],
   "execution_count": null
  },
  {
   "metadata": {},
   "cell_type": "code",
   "source": "df_events = pd.read_csv(f\"{INPUT_DATA_FOLDER}/{EVENTS_DATA_FILE}\", sep=\";\")",
   "id": "25edb612",
   "outputs": [],
   "execution_count": null
  },
  {
   "metadata": {},
   "cell_type": "code",
   "source": "df_events.head(5)",
   "id": "c25133d9f718c527",
   "outputs": [],
   "execution_count": null
  },
  {
   "cell_type": "code",
   "id": "f1d9e1cd",
   "metadata": {},
   "source": "df_events_v2 = df_events.drop([\"id\",\"region_id\"],axis=1)",
   "outputs": [],
   "execution_count": null
  },
  {
   "cell_type": "code",
   "id": "07ff2ea6",
   "metadata": {},
   "source": [
    "df_events_v2.head(5)"
   ],
   "outputs": [],
   "execution_count": null
  },
  {
   "cell_type": "code",
   "id": "47131ae1",
   "metadata": {},
   "source": "df_events_v2[isNaN(df_events_v2).any(axis=1)].head(5)",
   "outputs": [],
   "execution_count": null
  },
  {
   "cell_type": "code",
   "id": "3b0a9a3e",
   "metadata": {},
   "source": [
    "df_events_v2[\"start_time\"] = pd.to_datetime(df_events_v2[\"start\"])\n",
    "df_events_v2[\"end_time\"] = pd.to_datetime(df_events_v2[\"end\"])"
   ],
   "outputs": [],
   "execution_count": null
  },
  {
   "cell_type": "code",
   "id": "ef3ca6ca",
   "metadata": {},
   "source": [
    "df_events_v2[\"start_hour\"] = df_events_v2['start_time'].dt.floor('h')\n",
    "df_events_v2[\"end_hour\"] = df_events_v2['end_time'].dt.ceil('h')"
   ],
   "outputs": [],
   "execution_count": null
  },
  {
   "cell_type": "code",
   "id": "71b0f0d4",
   "metadata": {},
   "source": [
    "df_events_v2[\"day_date\"] = df_events_v2[\"start_time\"].dt.date\n",
    "\n",
    "df_events_v2[\"start_hour_datetimeEpoch\"] = df_events_v2['start_hour'].apply(lambda x: int(x.timestamp())  if not isNaN(x) else None)\n",
    "df_events_v2[\"end_hour_datetimeEpoch\"] = df_events_v2['end_hour'].apply(lambda x: int(x.timestamp())  if not isNaN(x) else None)\n",
    "\n",
    "df_events_v2.head(10)"
   ],
   "outputs": [],
   "execution_count": null
  },
  {
   "cell_type": "code",
   "id": "eb0bcc6b",
   "metadata": {},
   "source": "df_events_v2[df_events_v2[\"all_region\"]==1].shape",
   "outputs": [],
   "execution_count": null
  },
  {
   "cell_type": "code",
   "id": "1a38b3c1",
   "metadata": {},
   "source": "df_events_v2[df_events_v2[\"all_region\"]==1].head(5)",
   "outputs": [],
   "execution_count": null
  },
  {
   "cell_type": "code",
   "id": "6e7ebd70",
   "metadata": {},
   "source": "df_events_v2[df_events_v2[\"all_region\"]==0].shape",
   "outputs": [],
   "execution_count": null
  },
  {
   "metadata": {},
   "cell_type": "code",
   "source": "df_events_v2[df_events_v2[\"all_region\"]==0].head(5)",
   "id": "30a0bbf8ccd0185e",
   "outputs": [],
   "execution_count": null
  },
  {
   "metadata": {},
   "cell_type": "code",
   "source": "df_events_v2.to_csv(f\"{OUTPUT_FOLDER}/{ALARMS_OUTPUT_DATA_FILE}\", sep=\";\", index=False)",
   "id": "4a44c7a1991bff8a",
   "outputs": [],
   "execution_count": null
  },
  {
   "cell_type": "markdown",
   "id": "86c852f0",
   "metadata": {},
   "source": "## Prepare weather"
  },
  {
   "cell_type": "code",
   "id": "79829a50",
   "metadata": {
    "ExecuteTime": {
     "end_time": "2025-04-07T18:44:02.734433Z",
     "start_time": "2025-04-07T18:44:02.730663Z"
    }
   },
   "source": "WEATHER_DATA_FILE = \"weather_by_hour.csv\"",
   "outputs": [],
   "execution_count": 5
  },
  {
   "metadata": {
    "ExecuteTime": {
     "end_time": "2025-04-07T18:44:07.143625Z",
     "start_time": "2025-04-07T18:44:03.545652Z"
    }
   },
   "cell_type": "code",
   "source": [
    "df_weather = pd.read_csv(f\"{INPUT_DATA_FOLDER}/{WEATHER_DATA_FILE}\", sep=\",\")\n",
    "df_weather.head(5)"
   ],
   "id": "84b7e864b7d53dc9",
   "outputs": [
    {
     "data": {
      "text/plain": [
       "   city_latitude  city_longitude           city_resolvedAddress  \\\n",
       "0        50.7469         25.3263  Луцьк, Луцький район, Україна   \n",
       "1        50.7469         25.3263  Луцьк, Луцький район, Україна   \n",
       "2        50.7469         25.3263  Луцьк, Луцький район, Україна   \n",
       "3        50.7469         25.3263  Луцьк, Луцький район, Україна   \n",
       "4        50.7469         25.3263  Луцьк, Луцький район, Україна   \n",
       "\n",
       "    city_address city_timezone  city_tzoffset day_datetime  day_datetimeEpoch  \\\n",
       "0  Lutsk,Ukraine   Europe/Kiev            2.0   2022-02-24         1645653600   \n",
       "1  Lutsk,Ukraine   Europe/Kiev            2.0   2022-02-24         1645653600   \n",
       "2  Lutsk,Ukraine   Europe/Kiev            2.0   2022-02-24         1645653600   \n",
       "3  Lutsk,Ukraine   Europe/Kiev            2.0   2022-02-24         1645653600   \n",
       "4  Lutsk,Ukraine   Europe/Kiev            2.0   2022-02-24         1645653600   \n",
       "\n",
       "   day_tempmax  day_tempmin  day_temp  day_feelslikemax  day_feelslikemin  \\\n",
       "0          4.9          0.7       2.6               4.0              -3.1   \n",
       "1          4.9          0.7       2.6               4.0              -3.1   \n",
       "2          4.9          0.7       2.6               4.0              -3.1   \n",
       "3          4.9          0.7       2.6               4.0              -3.1   \n",
       "4          4.9          0.7       2.6               4.0              -3.1   \n",
       "\n",
       "   day_feelslike  day_dew  day_humidity  day_precip  day_precipprob  \\\n",
       "0           -0.2      0.0          83.7       0.118           100.0   \n",
       "1           -0.2      0.0          83.7       0.118           100.0   \n",
       "2           -0.2      0.0          83.7       0.118           100.0   \n",
       "3           -0.2      0.0          83.7       0.118           100.0   \n",
       "4           -0.2      0.0          83.7       0.118           100.0   \n",
       "\n",
       "   day_precipcover  day_snow  day_snowdepth  day_windgust  day_windspeed  \\\n",
       "0             4.17       0.1            0.1          32.4           15.5   \n",
       "1             4.17       0.1            0.1          32.4           15.5   \n",
       "2             4.17       0.1            0.1          32.4           15.5   \n",
       "3             4.17       0.1            0.1          32.4           15.5   \n",
       "4             4.17       0.1            0.1          32.4           15.5   \n",
       "\n",
       "   day_winddir  day_pressure  day_cloudcover  day_visibility  \\\n",
       "0        252.7        1022.3            72.3            12.2   \n",
       "1        252.7        1022.3            72.3            12.2   \n",
       "2        252.7        1022.3            72.3            12.2   \n",
       "3        252.7        1022.3            72.3            12.2   \n",
       "4        252.7        1022.3            72.3            12.2   \n",
       "\n",
       "   day_solarradiation  day_solarenergy  day_uvindex day_sunrise  \\\n",
       "0                36.9              2.8          1.0    07:13:36   \n",
       "1                36.9              2.8          1.0    07:13:36   \n",
       "2                36.9              2.8          1.0    07:13:36   \n",
       "3                36.9              2.8          1.0    07:13:36   \n",
       "4                36.9              2.8          1.0    07:13:36   \n",
       "\n",
       "   day_sunriseEpoch day_sunset  day_sunsetEpoch  day_moonphase  \\\n",
       "0        1645679616   17:51:06       1645717866           0.77   \n",
       "1        1645679616   17:51:06       1645717866           0.77   \n",
       "2        1645679616   17:51:06       1645717866           0.77   \n",
       "3        1645679616   17:51:06       1645717866           0.77   \n",
       "4        1645679616   17:51:06       1645717866           0.77   \n",
       "\n",
       "           day_conditions                                    day_description  \\\n",
       "0  Snow, Partially cloudy  Partly cloudy throughout the day with morning ...   \n",
       "1  Snow, Partially cloudy  Partly cloudy throughout the day with morning ...   \n",
       "2  Snow, Partially cloudy  Partly cloudy throughout the day with morning ...   \n",
       "3  Snow, Partially cloudy  Partly cloudy throughout the day with morning ...   \n",
       "4  Snow, Partially cloudy  Partly cloudy throughout the day with morning ...   \n",
       "\n",
       "  day_icon day_source day_preciptype                         day_stations  \\\n",
       "0     snow        obs           snow  33177099999;UKLR;remote;33301099999   \n",
       "1     snow        obs           snow  33177099999;UKLR;remote;33301099999   \n",
       "2     snow        obs           snow  33177099999;UKLR;remote;33301099999   \n",
       "3     snow        obs           snow  33177099999;UKLR;remote;33301099999   \n",
       "4     snow        obs           snow  33177099999;UKLR;remote;33301099999   \n",
       "\n",
       "  hour_datetime  hour_datetimeEpoch  hour_temp  hour_feelslike  hour_humidity  \\\n",
       "0      00:00:00          1645653600        2.4            -1.6          89.18   \n",
       "1      01:00:00          1645657200        2.4            -1.5          87.90   \n",
       "2      02:00:00          1645660800        2.9            -0.8          88.58   \n",
       "3      03:00:00          1645664400        2.3            -1.3          86.63   \n",
       "4      04:00:00          1645668000        1.9            -1.8          87.85   \n",
       "\n",
       "   hour_dew  hour_precip  hour_precipprob  hour_snow  hour_snowdepth  \\\n",
       "0       0.8          0.0              0.0        0.1             0.2   \n",
       "1       0.6          0.0              0.0        0.0             0.2   \n",
       "2       1.2          0.0              0.0        0.0             0.1   \n",
       "3       0.3          0.0              0.0        0.0             0.1   \n",
       "4       0.1          0.0              0.0        0.0             0.1   \n",
       "\n",
       "  hour_preciptype  hour_windgust  hour_windspeed  hour_winddir  hour_pressure  \\\n",
       "0        ['snow']           31.3            15.5         275.6         1020.0   \n",
       "1        ['snow']           27.7            14.8         280.3         1021.0   \n",
       "2        ['snow']           29.2            14.4         310.0         1022.0   \n",
       "3        ['snow']           23.8            13.3         295.1         1021.0   \n",
       "4        ['snow']           24.5            13.3         305.8         1021.0   \n",
       "\n",
       "   hour_visibility  hour_cloudcover  hour_solarradiation  hour_solarenergy  \\\n",
       "0              0.0             91.5                  0.0               NaN   \n",
       "1              0.2             88.2                  0.0               NaN   \n",
       "2             10.0            100.0                  NaN               NaN   \n",
       "3              0.1             92.0                  0.0               NaN   \n",
       "4              0.0             93.8                  0.0               NaN   \n",
       "\n",
       "   hour_uvindex   hour_conditions hour_icon hour_source hour_stations  \n",
       "0           0.0          Overcast      snow         obs        remote  \n",
       "1           0.0  Partially cloudy       fog         obs        remote  \n",
       "2           NaN          Overcast    cloudy         obs   33177099999  \n",
       "3           0.0          Overcast       fog         obs        remote  \n",
       "4           0.0          Overcast    cloudy         obs        remote  "
      ],
      "text/html": [
       "<div>\n",
       "<style scoped>\n",
       "    .dataframe tbody tr th:only-of-type {\n",
       "        vertical-align: middle;\n",
       "    }\n",
       "\n",
       "    .dataframe tbody tr th {\n",
       "        vertical-align: top;\n",
       "    }\n",
       "\n",
       "    .dataframe thead th {\n",
       "        text-align: right;\n",
       "    }\n",
       "</style>\n",
       "<table border=\"1\" class=\"dataframe\">\n",
       "  <thead>\n",
       "    <tr style=\"text-align: right;\">\n",
       "      <th></th>\n",
       "      <th>city_latitude</th>\n",
       "      <th>city_longitude</th>\n",
       "      <th>city_resolvedAddress</th>\n",
       "      <th>city_address</th>\n",
       "      <th>city_timezone</th>\n",
       "      <th>city_tzoffset</th>\n",
       "      <th>day_datetime</th>\n",
       "      <th>day_datetimeEpoch</th>\n",
       "      <th>day_tempmax</th>\n",
       "      <th>day_tempmin</th>\n",
       "      <th>day_temp</th>\n",
       "      <th>day_feelslikemax</th>\n",
       "      <th>day_feelslikemin</th>\n",
       "      <th>day_feelslike</th>\n",
       "      <th>day_dew</th>\n",
       "      <th>day_humidity</th>\n",
       "      <th>day_precip</th>\n",
       "      <th>day_precipprob</th>\n",
       "      <th>day_precipcover</th>\n",
       "      <th>day_snow</th>\n",
       "      <th>day_snowdepth</th>\n",
       "      <th>day_windgust</th>\n",
       "      <th>day_windspeed</th>\n",
       "      <th>day_winddir</th>\n",
       "      <th>day_pressure</th>\n",
       "      <th>day_cloudcover</th>\n",
       "      <th>day_visibility</th>\n",
       "      <th>day_solarradiation</th>\n",
       "      <th>day_solarenergy</th>\n",
       "      <th>day_uvindex</th>\n",
       "      <th>day_sunrise</th>\n",
       "      <th>day_sunriseEpoch</th>\n",
       "      <th>day_sunset</th>\n",
       "      <th>day_sunsetEpoch</th>\n",
       "      <th>day_moonphase</th>\n",
       "      <th>day_conditions</th>\n",
       "      <th>day_description</th>\n",
       "      <th>day_icon</th>\n",
       "      <th>day_source</th>\n",
       "      <th>day_preciptype</th>\n",
       "      <th>day_stations</th>\n",
       "      <th>hour_datetime</th>\n",
       "      <th>hour_datetimeEpoch</th>\n",
       "      <th>hour_temp</th>\n",
       "      <th>hour_feelslike</th>\n",
       "      <th>hour_humidity</th>\n",
       "      <th>hour_dew</th>\n",
       "      <th>hour_precip</th>\n",
       "      <th>hour_precipprob</th>\n",
       "      <th>hour_snow</th>\n",
       "      <th>hour_snowdepth</th>\n",
       "      <th>hour_preciptype</th>\n",
       "      <th>hour_windgust</th>\n",
       "      <th>hour_windspeed</th>\n",
       "      <th>hour_winddir</th>\n",
       "      <th>hour_pressure</th>\n",
       "      <th>hour_visibility</th>\n",
       "      <th>hour_cloudcover</th>\n",
       "      <th>hour_solarradiation</th>\n",
       "      <th>hour_solarenergy</th>\n",
       "      <th>hour_uvindex</th>\n",
       "      <th>hour_conditions</th>\n",
       "      <th>hour_icon</th>\n",
       "      <th>hour_source</th>\n",
       "      <th>hour_stations</th>\n",
       "    </tr>\n",
       "  </thead>\n",
       "  <tbody>\n",
       "    <tr>\n",
       "      <th>0</th>\n",
       "      <td>50.7469</td>\n",
       "      <td>25.3263</td>\n",
       "      <td>Луцьк, Луцький район, Україна</td>\n",
       "      <td>Lutsk,Ukraine</td>\n",
       "      <td>Europe/Kiev</td>\n",
       "      <td>2.0</td>\n",
       "      <td>2022-02-24</td>\n",
       "      <td>1645653600</td>\n",
       "      <td>4.9</td>\n",
       "      <td>0.7</td>\n",
       "      <td>2.6</td>\n",
       "      <td>4.0</td>\n",
       "      <td>-3.1</td>\n",
       "      <td>-0.2</td>\n",
       "      <td>0.0</td>\n",
       "      <td>83.7</td>\n",
       "      <td>0.118</td>\n",
       "      <td>100.0</td>\n",
       "      <td>4.17</td>\n",
       "      <td>0.1</td>\n",
       "      <td>0.1</td>\n",
       "      <td>32.4</td>\n",
       "      <td>15.5</td>\n",
       "      <td>252.7</td>\n",
       "      <td>1022.3</td>\n",
       "      <td>72.3</td>\n",
       "      <td>12.2</td>\n",
       "      <td>36.9</td>\n",
       "      <td>2.8</td>\n",
       "      <td>1.0</td>\n",
       "      <td>07:13:36</td>\n",
       "      <td>1645679616</td>\n",
       "      <td>17:51:06</td>\n",
       "      <td>1645717866</td>\n",
       "      <td>0.77</td>\n",
       "      <td>Snow, Partially cloudy</td>\n",
       "      <td>Partly cloudy throughout the day with morning ...</td>\n",
       "      <td>snow</td>\n",
       "      <td>obs</td>\n",
       "      <td>snow</td>\n",
       "      <td>33177099999;UKLR;remote;33301099999</td>\n",
       "      <td>00:00:00</td>\n",
       "      <td>1645653600</td>\n",
       "      <td>2.4</td>\n",
       "      <td>-1.6</td>\n",
       "      <td>89.18</td>\n",
       "      <td>0.8</td>\n",
       "      <td>0.0</td>\n",
       "      <td>0.0</td>\n",
       "      <td>0.1</td>\n",
       "      <td>0.2</td>\n",
       "      <td>['snow']</td>\n",
       "      <td>31.3</td>\n",
       "      <td>15.5</td>\n",
       "      <td>275.6</td>\n",
       "      <td>1020.0</td>\n",
       "      <td>0.0</td>\n",
       "      <td>91.5</td>\n",
       "      <td>0.0</td>\n",
       "      <td>NaN</td>\n",
       "      <td>0.0</td>\n",
       "      <td>Overcast</td>\n",
       "      <td>snow</td>\n",
       "      <td>obs</td>\n",
       "      <td>remote</td>\n",
       "    </tr>\n",
       "    <tr>\n",
       "      <th>1</th>\n",
       "      <td>50.7469</td>\n",
       "      <td>25.3263</td>\n",
       "      <td>Луцьк, Луцький район, Україна</td>\n",
       "      <td>Lutsk,Ukraine</td>\n",
       "      <td>Europe/Kiev</td>\n",
       "      <td>2.0</td>\n",
       "      <td>2022-02-24</td>\n",
       "      <td>1645653600</td>\n",
       "      <td>4.9</td>\n",
       "      <td>0.7</td>\n",
       "      <td>2.6</td>\n",
       "      <td>4.0</td>\n",
       "      <td>-3.1</td>\n",
       "      <td>-0.2</td>\n",
       "      <td>0.0</td>\n",
       "      <td>83.7</td>\n",
       "      <td>0.118</td>\n",
       "      <td>100.0</td>\n",
       "      <td>4.17</td>\n",
       "      <td>0.1</td>\n",
       "      <td>0.1</td>\n",
       "      <td>32.4</td>\n",
       "      <td>15.5</td>\n",
       "      <td>252.7</td>\n",
       "      <td>1022.3</td>\n",
       "      <td>72.3</td>\n",
       "      <td>12.2</td>\n",
       "      <td>36.9</td>\n",
       "      <td>2.8</td>\n",
       "      <td>1.0</td>\n",
       "      <td>07:13:36</td>\n",
       "      <td>1645679616</td>\n",
       "      <td>17:51:06</td>\n",
       "      <td>1645717866</td>\n",
       "      <td>0.77</td>\n",
       "      <td>Snow, Partially cloudy</td>\n",
       "      <td>Partly cloudy throughout the day with morning ...</td>\n",
       "      <td>snow</td>\n",
       "      <td>obs</td>\n",
       "      <td>snow</td>\n",
       "      <td>33177099999;UKLR;remote;33301099999</td>\n",
       "      <td>01:00:00</td>\n",
       "      <td>1645657200</td>\n",
       "      <td>2.4</td>\n",
       "      <td>-1.5</td>\n",
       "      <td>87.90</td>\n",
       "      <td>0.6</td>\n",
       "      <td>0.0</td>\n",
       "      <td>0.0</td>\n",
       "      <td>0.0</td>\n",
       "      <td>0.2</td>\n",
       "      <td>['snow']</td>\n",
       "      <td>27.7</td>\n",
       "      <td>14.8</td>\n",
       "      <td>280.3</td>\n",
       "      <td>1021.0</td>\n",
       "      <td>0.2</td>\n",
       "      <td>88.2</td>\n",
       "      <td>0.0</td>\n",
       "      <td>NaN</td>\n",
       "      <td>0.0</td>\n",
       "      <td>Partially cloudy</td>\n",
       "      <td>fog</td>\n",
       "      <td>obs</td>\n",
       "      <td>remote</td>\n",
       "    </tr>\n",
       "    <tr>\n",
       "      <th>2</th>\n",
       "      <td>50.7469</td>\n",
       "      <td>25.3263</td>\n",
       "      <td>Луцьк, Луцький район, Україна</td>\n",
       "      <td>Lutsk,Ukraine</td>\n",
       "      <td>Europe/Kiev</td>\n",
       "      <td>2.0</td>\n",
       "      <td>2022-02-24</td>\n",
       "      <td>1645653600</td>\n",
       "      <td>4.9</td>\n",
       "      <td>0.7</td>\n",
       "      <td>2.6</td>\n",
       "      <td>4.0</td>\n",
       "      <td>-3.1</td>\n",
       "      <td>-0.2</td>\n",
       "      <td>0.0</td>\n",
       "      <td>83.7</td>\n",
       "      <td>0.118</td>\n",
       "      <td>100.0</td>\n",
       "      <td>4.17</td>\n",
       "      <td>0.1</td>\n",
       "      <td>0.1</td>\n",
       "      <td>32.4</td>\n",
       "      <td>15.5</td>\n",
       "      <td>252.7</td>\n",
       "      <td>1022.3</td>\n",
       "      <td>72.3</td>\n",
       "      <td>12.2</td>\n",
       "      <td>36.9</td>\n",
       "      <td>2.8</td>\n",
       "      <td>1.0</td>\n",
       "      <td>07:13:36</td>\n",
       "      <td>1645679616</td>\n",
       "      <td>17:51:06</td>\n",
       "      <td>1645717866</td>\n",
       "      <td>0.77</td>\n",
       "      <td>Snow, Partially cloudy</td>\n",
       "      <td>Partly cloudy throughout the day with morning ...</td>\n",
       "      <td>snow</td>\n",
       "      <td>obs</td>\n",
       "      <td>snow</td>\n",
       "      <td>33177099999;UKLR;remote;33301099999</td>\n",
       "      <td>02:00:00</td>\n",
       "      <td>1645660800</td>\n",
       "      <td>2.9</td>\n",
       "      <td>-0.8</td>\n",
       "      <td>88.58</td>\n",
       "      <td>1.2</td>\n",
       "      <td>0.0</td>\n",
       "      <td>0.0</td>\n",
       "      <td>0.0</td>\n",
       "      <td>0.1</td>\n",
       "      <td>['snow']</td>\n",
       "      <td>29.2</td>\n",
       "      <td>14.4</td>\n",
       "      <td>310.0</td>\n",
       "      <td>1022.0</td>\n",
       "      <td>10.0</td>\n",
       "      <td>100.0</td>\n",
       "      <td>NaN</td>\n",
       "      <td>NaN</td>\n",
       "      <td>NaN</td>\n",
       "      <td>Overcast</td>\n",
       "      <td>cloudy</td>\n",
       "      <td>obs</td>\n",
       "      <td>33177099999</td>\n",
       "    </tr>\n",
       "    <tr>\n",
       "      <th>3</th>\n",
       "      <td>50.7469</td>\n",
       "      <td>25.3263</td>\n",
       "      <td>Луцьк, Луцький район, Україна</td>\n",
       "      <td>Lutsk,Ukraine</td>\n",
       "      <td>Europe/Kiev</td>\n",
       "      <td>2.0</td>\n",
       "      <td>2022-02-24</td>\n",
       "      <td>1645653600</td>\n",
       "      <td>4.9</td>\n",
       "      <td>0.7</td>\n",
       "      <td>2.6</td>\n",
       "      <td>4.0</td>\n",
       "      <td>-3.1</td>\n",
       "      <td>-0.2</td>\n",
       "      <td>0.0</td>\n",
       "      <td>83.7</td>\n",
       "      <td>0.118</td>\n",
       "      <td>100.0</td>\n",
       "      <td>4.17</td>\n",
       "      <td>0.1</td>\n",
       "      <td>0.1</td>\n",
       "      <td>32.4</td>\n",
       "      <td>15.5</td>\n",
       "      <td>252.7</td>\n",
       "      <td>1022.3</td>\n",
       "      <td>72.3</td>\n",
       "      <td>12.2</td>\n",
       "      <td>36.9</td>\n",
       "      <td>2.8</td>\n",
       "      <td>1.0</td>\n",
       "      <td>07:13:36</td>\n",
       "      <td>1645679616</td>\n",
       "      <td>17:51:06</td>\n",
       "      <td>1645717866</td>\n",
       "      <td>0.77</td>\n",
       "      <td>Snow, Partially cloudy</td>\n",
       "      <td>Partly cloudy throughout the day with morning ...</td>\n",
       "      <td>snow</td>\n",
       "      <td>obs</td>\n",
       "      <td>snow</td>\n",
       "      <td>33177099999;UKLR;remote;33301099999</td>\n",
       "      <td>03:00:00</td>\n",
       "      <td>1645664400</td>\n",
       "      <td>2.3</td>\n",
       "      <td>-1.3</td>\n",
       "      <td>86.63</td>\n",
       "      <td>0.3</td>\n",
       "      <td>0.0</td>\n",
       "      <td>0.0</td>\n",
       "      <td>0.0</td>\n",
       "      <td>0.1</td>\n",
       "      <td>['snow']</td>\n",
       "      <td>23.8</td>\n",
       "      <td>13.3</td>\n",
       "      <td>295.1</td>\n",
       "      <td>1021.0</td>\n",
       "      <td>0.1</td>\n",
       "      <td>92.0</td>\n",
       "      <td>0.0</td>\n",
       "      <td>NaN</td>\n",
       "      <td>0.0</td>\n",
       "      <td>Overcast</td>\n",
       "      <td>fog</td>\n",
       "      <td>obs</td>\n",
       "      <td>remote</td>\n",
       "    </tr>\n",
       "    <tr>\n",
       "      <th>4</th>\n",
       "      <td>50.7469</td>\n",
       "      <td>25.3263</td>\n",
       "      <td>Луцьк, Луцький район, Україна</td>\n",
       "      <td>Lutsk,Ukraine</td>\n",
       "      <td>Europe/Kiev</td>\n",
       "      <td>2.0</td>\n",
       "      <td>2022-02-24</td>\n",
       "      <td>1645653600</td>\n",
       "      <td>4.9</td>\n",
       "      <td>0.7</td>\n",
       "      <td>2.6</td>\n",
       "      <td>4.0</td>\n",
       "      <td>-3.1</td>\n",
       "      <td>-0.2</td>\n",
       "      <td>0.0</td>\n",
       "      <td>83.7</td>\n",
       "      <td>0.118</td>\n",
       "      <td>100.0</td>\n",
       "      <td>4.17</td>\n",
       "      <td>0.1</td>\n",
       "      <td>0.1</td>\n",
       "      <td>32.4</td>\n",
       "      <td>15.5</td>\n",
       "      <td>252.7</td>\n",
       "      <td>1022.3</td>\n",
       "      <td>72.3</td>\n",
       "      <td>12.2</td>\n",
       "      <td>36.9</td>\n",
       "      <td>2.8</td>\n",
       "      <td>1.0</td>\n",
       "      <td>07:13:36</td>\n",
       "      <td>1645679616</td>\n",
       "      <td>17:51:06</td>\n",
       "      <td>1645717866</td>\n",
       "      <td>0.77</td>\n",
       "      <td>Snow, Partially cloudy</td>\n",
       "      <td>Partly cloudy throughout the day with morning ...</td>\n",
       "      <td>snow</td>\n",
       "      <td>obs</td>\n",
       "      <td>snow</td>\n",
       "      <td>33177099999;UKLR;remote;33301099999</td>\n",
       "      <td>04:00:00</td>\n",
       "      <td>1645668000</td>\n",
       "      <td>1.9</td>\n",
       "      <td>-1.8</td>\n",
       "      <td>87.85</td>\n",
       "      <td>0.1</td>\n",
       "      <td>0.0</td>\n",
       "      <td>0.0</td>\n",
       "      <td>0.0</td>\n",
       "      <td>0.1</td>\n",
       "      <td>['snow']</td>\n",
       "      <td>24.5</td>\n",
       "      <td>13.3</td>\n",
       "      <td>305.8</td>\n",
       "      <td>1021.0</td>\n",
       "      <td>0.0</td>\n",
       "      <td>93.8</td>\n",
       "      <td>0.0</td>\n",
       "      <td>NaN</td>\n",
       "      <td>0.0</td>\n",
       "      <td>Overcast</td>\n",
       "      <td>cloudy</td>\n",
       "      <td>obs</td>\n",
       "      <td>remote</td>\n",
       "    </tr>\n",
       "  </tbody>\n",
       "</table>\n",
       "</div>"
      ]
     },
     "execution_count": 6,
     "metadata": {},
     "output_type": "execute_result"
    }
   ],
   "execution_count": 6
  },
  {
   "cell_type": "code",
   "id": "a0a04cfc",
   "metadata": {},
   "source": "df_weather[\"day_datetime\"] = pd.to_datetime(df_weather[\"day_datetime\"])",
   "outputs": [],
   "execution_count": null
  },
  {
   "cell_type": "code",
   "id": "0e649d36",
   "metadata": {},
   "source": "df_weather.shape",
   "outputs": [],
   "execution_count": null
  },
  {
   "cell_type": "code",
   "id": "0f182f8e",
   "metadata": {},
   "source": [
    "df_weather.head(15)"
   ],
   "outputs": [],
   "execution_count": null
  },
  {
   "cell_type": "code",
   "id": "b2d92e99",
   "metadata": {},
   "source": [
    "# exclude\n",
    "weather_exclude = [\n",
    "\"day_feelslikemax\",\n",
    "\"day_feelslikemin\",\n",
    "\"day_sunriseEpoch\",\n",
    "\"day_sunsetEpoch\",\n",
    "\"day_description\",\n",
    "\"city_latitude\",\n",
    "\"city_longitude\",\n",
    "\"city_address\",\n",
    "\"city_timezone\",\n",
    "\"city_tzoffset\",\n",
    "\"day_feelslike\",\n",
    "\"day_precipprob\",\n",
    "\"day_snow\",\n",
    "\"day_snowdepth\",\n",
    "\"day_windgust\",\n",
    "\"day_windspeed\",\n",
    "\"day_winddir\",\n",
    "\"day_pressure\",\n",
    "\"day_cloudcover\",\n",
    "\"day_visibility\",\n",
    "\"day_conditions\",\n",
    "\"day_icon\",\n",
    "\"day_source\",\n",
    "\"day_preciptype\",\n",
    "\"day_stations\",\n",
    "\"hour_icon\",\n",
    "\"hour_source\",\n",
    "\"hour_stations\",\n",
    "\"hour_feelslike\"\n",
    "]"
   ],
   "outputs": [],
   "execution_count": null
  },
  {
   "cell_type": "code",
   "id": "0ce0ab81",
   "metadata": {},
   "source": [
    "df_weather_v2 = df_weather.drop(weather_exclude, axis=1)"
   ],
   "outputs": [],
   "execution_count": null
  },
  {
   "metadata": {},
   "cell_type": "code",
   "source": "df_weather_v2.head(5)",
   "id": "39b7109b7618a10b",
   "outputs": [],
   "execution_count": null
  },
  {
   "cell_type": "code",
   "id": "9fd632b4",
   "metadata": {},
   "source": [
    "df_weather_v2[\"city\"] = df_weather_v2[\"city_resolvedAddress\"].apply(lambda x: x.split(\",\")[0])\n",
    "df_weather_v2[\"city\"] = df_weather_v2[\"city\"].replace('Хмельницька область', \"Хмельницький\")"
   ],
   "outputs": [],
   "execution_count": null
  },
  {
   "metadata": {},
   "cell_type": "code",
   "source": "df_weather_v2[\"city\"].unique()",
   "id": "699479b77447c987",
   "outputs": [],
   "execution_count": null
  },
  {
   "cell_type": "code",
   "id": "453ac798",
   "metadata": {
    "scrolled": true
   },
   "source": [
    "df_weather_v2.head(5)"
   ],
   "outputs": [],
   "execution_count": null
  },
  {
   "cell_type": "code",
   "id": "3136f5e6",
   "metadata": {},
   "source": [
    "df_weather_v2.shape"
   ],
   "outputs": [],
   "execution_count": null
  },
  {
   "metadata": {},
   "cell_type": "code",
   "source": "df_weather_v2.to_csv(f\"{OUTPUT_FOLDER}/{WEATHER_EVENTS_OUTPUT_DATA_FILE}\", sep=\";\", index=False)",
   "id": "7b6d47277f73e165",
   "outputs": [],
   "execution_count": null
  },
  {
   "cell_type": "markdown",
   "id": "0659498e",
   "metadata": {},
   "source": [
    "## merging data"
   ]
  },
  {
   "cell_type": "code",
   "id": "a3ad87a3",
   "metadata": {},
   "source": "df_regions = pd.read_csv(f\"../data/regions.csv\")",
   "outputs": [],
   "execution_count": null
  },
  {
   "cell_type": "code",
   "id": "7975da08",
   "metadata": {},
   "source": [
    "df_regions.head(5)"
   ],
   "outputs": [],
   "execution_count": null
  },
  {
   "cell_type": "code",
   "id": "9bdb0c29",
   "metadata": {},
   "source": [
    "df_weather_reg = pd.merge(df_weather_v2, df_regions, left_on=\"city\",right_on=\"center_city_ua\")"
   ],
   "outputs": [],
   "execution_count": null
  },
  {
   "cell_type": "code",
   "id": "e732c138",
   "metadata": {},
   "source": [
    "df_weather_reg.head(10)"
   ],
   "outputs": [],
   "execution_count": null
  },
  {
   "cell_type": "code",
   "id": "ad392ddf",
   "metadata": {},
   "source": [
    "df_weather_reg.shape"
   ],
   "outputs": [],
   "execution_count": null
  },
  {
   "cell_type": "code",
   "id": "13e88911",
   "metadata": {},
   "source": [
    "df_weather_v2.shape"
   ],
   "outputs": [],
   "execution_count": null
  },
  {
   "cell_type": "markdown",
   "id": "fadce0fe",
   "metadata": {},
   "source": [
    "### Merging weather and events"
   ]
  },
  {
   "cell_type": "code",
   "id": "37b962b1",
   "metadata": {},
   "source": [
    "df_events_v2.dtypes"
   ],
   "outputs": [],
   "execution_count": null
  },
  {
   "cell_type": "code",
   "id": "fd62824f",
   "metadata": {},
   "source": [
    "df_events_v2.shape"
   ],
   "outputs": [],
   "execution_count": null
  },
  {
   "cell_type": "code",
   "id": "29cb459c",
   "metadata": {},
   "source": [
    "df_events_v2.head(10)"
   ],
   "outputs": [],
   "execution_count": null
  },
  {
   "cell_type": "code",
   "id": "9991fde1",
   "metadata": {},
   "source": [
    "# df_events_v2_sample = df_events_v2.sample(10)\n",
    "# df_events_v2_sample.shape\n",
    "\n",
    "events_dict = df_events_v2.to_dict('records')\n",
    "events_by_hour = []"
   ],
   "outputs": [],
   "execution_count": null
  },
  {
   "cell_type": "code",
   "id": "4ed1ff39",
   "metadata": {},
   "source": [
    "events_dict[0]"
   ],
   "outputs": [],
   "execution_count": null
  },
  {
   "cell_type": "code",
   "id": "5ca34003",
   "metadata": {},
   "source": [
    "for event in events_dict:\n",
    "    for d in pd.date_range(start=event[\"start_hour\"], end=event[\"end_hour\"], freq='1H'):\n",
    "        et = event.copy()\n",
    "        et[\"hour_level_event_time\"] = d\n",
    "        events_by_hour.append(et)"
   ],
   "outputs": [],
   "execution_count": null
  },
  {
   "cell_type": "code",
   "id": "a702550e",
   "metadata": {},
   "source": [
    "df_events_v3 = pd.DataFrame.from_dict(events_by_hour)"
   ],
   "outputs": [],
   "execution_count": null
  },
  {
   "cell_type": "code",
   "id": "da12a84f",
   "metadata": {},
   "source": [
    "df_events_v3[\"hour_level_event_datetimeEpoch\"] = df_events_v3[\"hour_level_event_time\"].apply(lambda x: int(x.strftime('%s'))  if not isNaN(x) else None)"
   ],
   "outputs": [],
   "execution_count": null
  },
  {
   "cell_type": "code",
   "id": "33b3c316",
   "metadata": {},
   "source": [
    "df_events_v3.shape"
   ],
   "outputs": [],
   "execution_count": null
  },
  {
   "cell_type": "code",
   "id": "85c85f84",
   "metadata": {},
   "source": [
    "df_events_v3.head(15)"
   ],
   "outputs": [],
   "execution_count": null
  },
  {
   "cell_type": "code",
   "id": "aa796999",
   "metadata": {},
   "source": [
    "df_weather_reg.head(5)"
   ],
   "outputs": [],
   "execution_count": null
  },
  {
   "cell_type": "code",
   "id": "7be3ae80",
   "metadata": {},
   "source": [
    "df_weather_reg.shape"
   ],
   "outputs": [],
   "execution_count": null
  },
  {
   "cell_type": "code",
   "id": "85b4f508",
   "metadata": {},
   "source": [
    "df_events_v3.head(10)"
   ],
   "outputs": [],
   "execution_count": null
  },
  {
   "cell_type": "code",
   "id": "cfc7e841",
   "metadata": {},
   "source": [
    "df_events_v4 = df_events_v3.copy().add_prefix('event_')"
   ],
   "outputs": [],
   "execution_count": null
  },
  {
   "cell_type": "code",
   "id": "7c35dc66",
   "metadata": {},
   "source": [
    "df_weather_v4 = df_weather_reg.merge(df_events_v4, \n",
    "                                     how=\"left\", \n",
    "                                     left_on=[\"region_alt\",\"hour_datetimeEpoch\"],\n",
    "                                     right_on=[\"event_region_title\",\"event_hour_level_event_datetimeEpoch\"])"
   ],
   "outputs": [],
   "execution_count": null
  },
  {
   "cell_type": "code",
   "id": "ea0266bb",
   "metadata": {},
   "source": [
    "df_weather_v4.head(10)"
   ],
   "outputs": [],
   "execution_count": null
  },
  {
   "cell_type": "code",
   "id": "87a10851",
   "metadata": {},
   "source": [
    "df_weather_v4.shape"
   ],
   "outputs": [],
   "execution_count": null
  },
  {
   "cell_type": "code",
   "id": "f1a432d4",
   "metadata": {},
   "source": [
    "df_weather_v4.to_csv(f\"{OUTPUT_FOLDER}/{WEATHER_EVENTS_OUTPUT_DATA_FILE}\", sep=\";\", index=False)"
   ],
   "outputs": [],
   "execution_count": null
  },
  {
   "cell_type": "code",
   "id": "339d3385",
   "metadata": {},
   "source": [],
   "outputs": [],
   "execution_count": null
  }
 ],
 "metadata": {
  "kernelspec": {
   "display_name": "Python 3 (ipykernel)",
   "language": "python",
   "name": "python3"
  },
  "language_info": {
   "codemirror_mode": {
    "name": "ipython",
    "version": 3
   },
   "file_extension": ".py",
   "mimetype": "text/x-python",
   "name": "python",
   "nbconvert_exporter": "python",
   "pygments_lexer": "ipython3",
   "version": "3.8.13"
  }
 },
 "nbformat": 4,
 "nbformat_minor": 5
}
