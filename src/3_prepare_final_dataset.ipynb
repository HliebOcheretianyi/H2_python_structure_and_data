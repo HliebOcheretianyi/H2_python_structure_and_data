{
 "cells": [
  {
   "metadata": {},
   "cell_type": "code",
   "source": [
    "import datetime\n",
    "import pandas as pd\n",
    "import pyarrow as pa"
   ],
   "id": "b346722987ba2f85",
   "outputs": [],
   "execution_count": null
  },
  {
   "metadata": {},
   "cell_type": "code",
   "source": [
    "#pd.set_option('display.max_columns', None)\n",
    "#pd.set_option('display.max_rows', None)"
   ],
   "id": "8dc18da637dfe35b",
   "outputs": [],
   "execution_count": null
  },
  {
   "metadata": {},
   "cell_type": "code",
   "source": [
    "INPUT_DATA_FOLDER = \"../data\"\n",
    "REPORTS_DATA_FILE = \"ISW_vector.csv\"\n",
    "\n",
    "OUTPUT_FOLDER = \"../data/all_data_preprocessed\"\n",
    "ISW_OUTPUT_DATA_FILE = \"all_isw.csv\"\n",
    "ALARMS_OUTPUT_DATA_FILE = \"all_alarms.csv\"\n",
    "WEATHER_EVENTS_OUTPUT_DATA_FILE = \"all_weather_by_hour.csv\"\n",
    "MERGED_OUTPUT_DATA_FILE = \"weather_regions_alarms_merged.csv\"\n",
    "ALL_MERGED_DATA_FILE = \"all_merged\"\n",
    "\n",
    "MODEL_FOLDER = \"model\"\n",
    "\n",
    "tfidf_transformer_model = \"tfidf_transformer\"\n",
    "count_vectorizer_model = \"count_vectorizer\"\n",
    "\n",
    "tfidf_transformer_version = \"v1\"\n",
    "count_vectorizer_version = \"v1\""
   ],
   "id": "79b3a20e2da06772",
   "outputs": [],
   "execution_count": null
  },
  {
   "metadata": {},
   "cell_type": "code",
   "source": [
    "def isNaN(num):\n",
    "    return num != num"
   ],
   "id": "973c73834e779f8a",
   "outputs": [],
   "execution_count": null
  },
  {
   "cell_type": "markdown",
   "id": "c78b36e9",
   "metadata": {},
   "source": "## Reading data"
  },
  {
   "cell_type": "code",
   "id": "f2dac73d",
   "metadata": {},
   "source": "df_isw = pd.read_csv(f\"{INPUT_DATA_FOLDER}/{REPORTS_DATA_FILE}\", sep=\",\")",
   "outputs": [],
   "execution_count": null
  },
  {
   "cell_type": "code",
   "id": "028a3a1d",
   "metadata": {},
   "source": [
    "df_isw.head(5)"
   ],
   "outputs": [],
   "execution_count": null
  },
  {
   "cell_type": "markdown",
   "id": "a557a7ed",
   "metadata": {},
   "source": "## Preparing ISW reports"
  },
  {
   "cell_type": "markdown",
   "id": "b08a5bed",
   "metadata": {},
   "source": "## Reading models"
  },
  {
   "cell_type": "code",
   "id": "6fc96d61",
   "metadata": {},
   "source": [
    "df_isw.head(5)"
   ],
   "outputs": [],
   "execution_count": null
  },
  {
   "cell_type": "code",
   "id": "3d09da4f",
   "metadata": {},
   "source": "df_isw[\"report_date\"] = pd.to_datetime(df_isw[\"date\"])",
   "outputs": [],
   "execution_count": null
  },
  {
   "cell_type": "code",
   "id": "84625aed",
   "metadata": {},
   "source": "df_isw['date_tomorrow_datetime'] = df_isw['report_date'].apply(lambda x: x+datetime.timedelta(days=1))",
   "outputs": [],
   "execution_count": null
  },
  {
   "metadata": {},
   "cell_type": "code",
   "source": "df_isw.drop(\"date\", axis=1, inplace=True)",
   "id": "8a06dcb4c0cb6eb5",
   "outputs": [],
   "execution_count": null
  },
  {
   "cell_type": "code",
   "id": "f861134e",
   "metadata": {},
   "source": [
    "df_isw.head(5)"
   ],
   "outputs": [],
   "execution_count": null
  },
  {
   "metadata": {},
   "cell_type": "code",
   "source": "df_isw.to_csv(f\"{OUTPUT_FOLDER}/{ISW_OUTPUT_DATA_FILE}\", sep=\";\", index=False)",
   "id": "ff62498ba6dbcaf8",
   "outputs": [],
   "execution_count": null
  },
  {
   "cell_type": "markdown",
   "id": "3b306d5f",
   "metadata": {},
   "source": "## Prepare events data"
  },
  {
   "cell_type": "code",
   "id": "43a0cf0e",
   "metadata": {},
   "source": "EVENTS_DATA_FILE = \"alarms.csv\"",
   "outputs": [],
   "execution_count": null
  },
  {
   "metadata": {},
   "cell_type": "code",
   "source": "df_events = pd.read_csv(f\"{INPUT_DATA_FOLDER}/{EVENTS_DATA_FILE}\", sep=\";\")",
   "id": "25edb612",
   "outputs": [],
   "execution_count": null
  },
  {
   "metadata": {},
   "cell_type": "code",
   "source": "df_events.head(5)",
   "id": "c25133d9f718c527",
   "outputs": [],
   "execution_count": null
  },
  {
   "cell_type": "code",
   "id": "f1d9e1cd",
   "metadata": {},
   "source": "df_events_v2 = df_events.drop([\"id\",\"region_id\"],axis=1)",
   "outputs": [],
   "execution_count": null
  },
  {
   "cell_type": "code",
   "id": "07ff2ea6",
   "metadata": {},
   "source": [
    "df_events_v2.head(5)"
   ],
   "outputs": [],
   "execution_count": null
  },
  {
   "cell_type": "code",
   "id": "47131ae1",
   "metadata": {},
   "source": "df_events_v2[isNaN(df_events_v2).any(axis=1)].head(5)",
   "outputs": [],
   "execution_count": null
  },
  {
   "cell_type": "code",
   "id": "3b0a9a3e",
   "metadata": {},
   "source": [
    "df_events_v2[\"start\"] = pd.to_datetime(df_events_v2[\"start\"])\n",
    "df_events_v2[\"end\"] = pd.to_datetime(df_events_v2[\"end\"])"
   ],
   "outputs": [],
   "execution_count": null
  },
  {
   "cell_type": "code",
   "id": "ef3ca6ca",
   "metadata": {},
   "source": [
    "df_events_v2[\"start_hour\"] = df_events_v2['start'].dt.floor('h')\n",
    "df_events_v2[\"end_hour\"] = df_events_v2['end'].dt.ceil('h')"
   ],
   "outputs": [],
   "execution_count": null
  },
  {
   "cell_type": "code",
   "id": "71b0f0d4",
   "metadata": {},
   "source": [
    "df_events_v2[\"day_date\"] = df_events_v2[\"start\"].dt.date\n",
    "\n",
    "df_events_v2[\"start_hour_datetimeEpoch\"] = df_events_v2['start_hour'].apply(lambda x: int(x.timestamp())  if not isNaN(x) else None)\n",
    "df_events_v2[\"end_hour_datetimeEpoch\"] = df_events_v2['end_hour'].apply(lambda x: int(x.timestamp())  if not isNaN(x) else None)\n",
    "\n",
    "df_events_v2.head(10)"
   ],
   "outputs": [],
   "execution_count": null
  },
  {
   "cell_type": "code",
   "id": "eb0bcc6b",
   "metadata": {},
   "source": "df_events_v2[df_events_v2[\"all_region\"]==1].shape",
   "outputs": [],
   "execution_count": null
  },
  {
   "cell_type": "code",
   "id": "1a38b3c1",
   "metadata": {},
   "source": "df_events_v2[df_events_v2[\"all_region\"]==1].head(5)",
   "outputs": [],
   "execution_count": null
  },
  {
   "cell_type": "code",
   "id": "6e7ebd70",
   "metadata": {},
   "source": "df_events_v2[df_events_v2[\"all_region\"]==0].shape",
   "outputs": [],
   "execution_count": null
  },
  {
   "metadata": {},
   "cell_type": "code",
   "source": "df_events_v2[df_events_v2[\"all_region\"]==0].head(5)",
   "id": "30a0bbf8ccd0185e",
   "outputs": [],
   "execution_count": null
  },
  {
   "metadata": {},
   "cell_type": "code",
   "source": "df_events_v2.to_csv(f\"{OUTPUT_FOLDER}/{ALARMS_OUTPUT_DATA_FILE}\", sep=\";\", index=False)",
   "id": "4a44c7a1991bff8a",
   "outputs": [],
   "execution_count": null
  },
  {
   "cell_type": "markdown",
   "id": "86c852f0",
   "metadata": {},
   "source": "## Prepare weather"
  },
  {
   "metadata": {},
   "cell_type": "code",
   "source": "WEATHER_DATA_FILE = \"weather_by_hour.csv\"",
   "id": "79829a50",
   "outputs": [],
   "execution_count": null
  },
  {
   "metadata": {},
   "cell_type": "code",
   "source": [
    "df_weather = pd.read_csv(f\"{INPUT_DATA_FOLDER}/{WEATHER_DATA_FILE}\", sep=\",\")\n",
    "df_weather.head(5)"
   ],
   "id": "84b7e864b7d53dc9",
   "outputs": [],
   "execution_count": null
  },
  {
   "cell_type": "code",
   "id": "a0a04cfc",
   "metadata": {},
   "source": "df_weather[\"day_datetime\"] = pd.to_datetime(df_weather[\"day_datetime\"])",
   "outputs": [],
   "execution_count": null
  },
  {
   "cell_type": "code",
   "id": "0e649d36",
   "metadata": {},
   "source": "df_weather.shape",
   "outputs": [],
   "execution_count": null
  },
  {
   "cell_type": "code",
   "id": "0f182f8e",
   "metadata": {},
   "source": "df_weather.head(10)",
   "outputs": [],
   "execution_count": null
  },
  {
   "cell_type": "code",
   "id": "b2d92e99",
   "metadata": {},
   "source": [
    "# exclude\n",
    "weather_exclude = [\n",
    "\"day_feelslikemax\",\n",
    "\"day_feelslikemin\",\n",
    "\"day_sunriseEpoch\",\n",
    "\"day_sunsetEpoch\",\n",
    "\"day_description\",\n",
    "\"city_latitude\",\n",
    "\"city_longitude\",\n",
    "\"city_address\",\n",
    "\"city_timezone\",\n",
    "\"city_tzoffset\",\n",
    "\"day_feelslike\",\n",
    "\"day_precipprob\",\n",
    "\"day_snow\",\n",
    "\"day_snowdepth\",\n",
    "\"day_windgust\",\n",
    "\"day_windspeed\",\n",
    "\"day_winddir\",\n",
    "\"day_pressure\",\n",
    "\"day_cloudcover\",\n",
    "\"day_visibility\",\n",
    "\"day_conditions\",\n",
    "\"day_icon\",\n",
    "\"day_source\",\n",
    "\"day_preciptype\",\n",
    "\"day_stations\",\n",
    "\"hour_icon\",\n",
    "\"hour_source\",\n",
    "\"hour_stations\",\n",
    "\"hour_feelslike\"\n",
    "]"
   ],
   "outputs": [],
   "execution_count": null
  },
  {
   "cell_type": "code",
   "id": "0ce0ab81",
   "metadata": {},
   "source": [
    "df_weather_v2 = df_weather.drop(weather_exclude, axis=1)"
   ],
   "outputs": [],
   "execution_count": null
  },
  {
   "metadata": {},
   "cell_type": "code",
   "source": "df_weather_v2.head(5)",
   "id": "39b7109b7618a10b",
   "outputs": [],
   "execution_count": null
  },
  {
   "cell_type": "code",
   "id": "9fd632b4",
   "metadata": {},
   "source": [
    "df_weather_v2[\"city\"] = df_weather_v2[\"city_resolvedAddress\"].apply(lambda x: x.split(\",\")[0])\n",
    "df_weather_v2[\"city\"] = df_weather_v2[\"city\"].replace('Хмельницька область', \"Хмельницький\")"
   ],
   "outputs": [],
   "execution_count": null
  },
  {
   "cell_type": "code",
   "id": "453ac798",
   "metadata": {
    "scrolled": true
   },
   "source": [
    "df_weather_v2.head(5)"
   ],
   "outputs": [],
   "execution_count": null
  },
  {
   "cell_type": "code",
   "id": "3136f5e6",
   "metadata": {},
   "source": [
    "df_weather_v2.shape"
   ],
   "outputs": [],
   "execution_count": null
  },
  {
   "metadata": {},
   "cell_type": "code",
   "source": "df_weather_v2.to_csv(f\"{OUTPUT_FOLDER}/{WEATHER_EVENTS_OUTPUT_DATA_FILE}\", sep=\";\", index=False)",
   "id": "7b6d47277f73e165",
   "outputs": [],
   "execution_count": null
  },
  {
   "cell_type": "markdown",
   "id": "0659498e",
   "metadata": {},
   "source": [
    "## merging data"
   ]
  },
  {
   "cell_type": "code",
   "id": "a3ad87a3",
   "metadata": {},
   "source": "df_regions = pd.read_csv(f\"../data/regions.csv\")",
   "outputs": [],
   "execution_count": null
  },
  {
   "metadata": {},
   "cell_type": "code",
   "source": "df_regions[\"region\"] = df_regions[\"region\"].apply(lambda x: x + \" обл.\")",
   "id": "40ac4b11d16f4680",
   "outputs": [],
   "execution_count": null
  },
  {
   "metadata": {},
   "cell_type": "code",
   "source": "df_regions.head(5)",
   "id": "32459629eaeeba15",
   "outputs": [],
   "execution_count": null
  },
  {
   "cell_type": "code",
   "id": "9bdb0c29",
   "metadata": {},
   "source": [
    "df_weather_reg = pd.merge(df_weather_v2, df_regions, left_on=\"city\",right_on=\"center_city_ua\")"
   ],
   "outputs": [],
   "execution_count": null
  },
  {
   "cell_type": "code",
   "id": "e732c138",
   "metadata": {},
   "source": [
    "df_weather_reg.head(10)"
   ],
   "outputs": [],
   "execution_count": null
  },
  {
   "cell_type": "code",
   "id": "ad392ddf",
   "metadata": {},
   "source": [
    "df_weather_reg.shape"
   ],
   "outputs": [],
   "execution_count": null
  },
  {
   "cell_type": "code",
   "id": "13e88911",
   "metadata": {},
   "source": [
    "df_weather_v2.shape"
   ],
   "outputs": [],
   "execution_count": null
  },
  {
   "cell_type": "markdown",
   "id": "fadce0fe",
   "metadata": {},
   "source": [
    "### Merging weather and events"
   ]
  },
  {
   "cell_type": "code",
   "id": "37b962b1",
   "metadata": {},
   "source": [
    "df_events_v2.dtypes"
   ],
   "outputs": [],
   "execution_count": null
  },
  {
   "cell_type": "code",
   "id": "fd62824f",
   "metadata": {},
   "source": [
    "df_events_v2.shape"
   ],
   "outputs": [],
   "execution_count": null
  },
  {
   "cell_type": "code",
   "id": "29cb459c",
   "metadata": {},
   "source": [
    "df_events_v2.head(10)"
   ],
   "outputs": [],
   "execution_count": null
  },
  {
   "metadata": {},
   "cell_type": "code",
   "source": "df_regions[\"region\"].unique()",
   "id": "ed1b603cdc34f73d",
   "outputs": [],
   "execution_count": null
  },
  {
   "metadata": {},
   "cell_type": "code",
   "source": "df_events_v2[\"region_city\"].unique()",
   "id": "f1723de7e60439ae",
   "outputs": [],
   "execution_count": null
  },
  {
   "cell_type": "code",
   "id": "9991fde1",
   "metadata": {},
   "source": [
    "# df_events_v2_sample = df_events_v2.sample(10)\n",
    "# df_events_v2_sample.shape\n",
    "\n",
    "events_dict = df_events_v2.to_dict('records')\n",
    "events_by_hour = []"
   ],
   "outputs": [],
   "execution_count": null
  },
  {
   "cell_type": "code",
   "id": "4ed1ff39",
   "metadata": {},
   "source": [
    "events_dict[0]"
   ],
   "outputs": [],
   "execution_count": null
  },
  {
   "cell_type": "code",
   "id": "5ca34003",
   "metadata": {},
   "source": [
    "for event in events_dict:\n",
    "    for d in pd.date_range(start=event[\"start_hour\"], end=event[\"end_hour\"], freq='1h'):\n",
    "        et = event.copy()\n",
    "        et[\"hour_level_event_time\"] = d\n",
    "        events_by_hour.append(et)"
   ],
   "outputs": [],
   "execution_count": null
  },
  {
   "cell_type": "code",
   "id": "a702550e",
   "metadata": {},
   "source": [
    "df_events_v3 = pd.DataFrame.from_dict(events_by_hour)"
   ],
   "outputs": [],
   "execution_count": null
  },
  {
   "cell_type": "code",
   "id": "da12a84f",
   "metadata": {},
   "source": "df_events_v3[\"hour_level_event_datetimeEpoch\"] = df_events_v3[\"hour_level_event_time\"].apply(lambda x: int(x.timestamp())  if not isNaN(x) else None)",
   "outputs": [],
   "execution_count": null
  },
  {
   "cell_type": "code",
   "id": "33b3c316",
   "metadata": {},
   "source": [
    "df_events_v3.shape"
   ],
   "outputs": [],
   "execution_count": null
  },
  {
   "cell_type": "code",
   "id": "85c85f84",
   "metadata": {},
   "source": "df_events_v3.head(10)",
   "outputs": [],
   "execution_count": null
  },
  {
   "cell_type": "code",
   "id": "aa796999",
   "metadata": {},
   "source": [
    "df_weather_reg.head(5)"
   ],
   "outputs": [],
   "execution_count": null
  },
  {
   "cell_type": "code",
   "id": "7be3ae80",
   "metadata": {},
   "source": [
    "df_weather_reg.shape"
   ],
   "outputs": [],
   "execution_count": null
  },
  {
   "cell_type": "code",
   "id": "85b4f508",
   "metadata": {},
   "source": "df_events_v3.head(10)",
   "outputs": [],
   "execution_count": null
  },
  {
   "cell_type": "code",
   "id": "cfc7e841",
   "metadata": {},
   "source": [
    "df_events_v3[\"region_merge\"] = df_events_v3[\"region_city\"].apply(lambda x: \"Київська обл.\" if x == \"Київ\" else x)\n",
    "\n",
    "#count = df_events_v3.groupby(\"hour_level_event_time\")['region_city'].nunique()\n",
    "#df_events_v3['alarms_in_regions'] = df_events_v3[\"hour_level_event_time\"].map(count)\n",
    "\n",
    "#counts = df_events_v3.groupby(['region_city', 'day_date'])[\"region_city\"].nunique()\n",
    "#df_events_v3['events_on_day'] = df_events_v3.set_index(['region_city', 'day_date']).index.map(counts)"
   ],
   "outputs": [],
   "execution_count": null
  },
  {
   "metadata": {},
   "cell_type": "code",
   "source": "df_events_v4 = df_events_v3.copy().add_prefix(\"event_\")",
   "id": "6d0beec4257c5b41",
   "outputs": [],
   "execution_count": null
  },
  {
   "metadata": {},
   "cell_type": "code",
   "source": "df_events_v4.head(10)",
   "id": "f6b53ecb50479036",
   "outputs": [],
   "execution_count": null
  },
  {
   "cell_type": "code",
   "id": "7c35dc66",
   "metadata": {},
   "source": [
    "df_weather_v4 = df_weather_reg.merge(df_events_v4, \n",
    "                                     how=\"left\", \n",
    "                                     left_on=[\"region\",\"hour_datetimeEpoch\"],\n",
    "                                     right_on=[\"event_region_merge\",\"event_hour_level_event_datetimeEpoch\"])"
   ],
   "outputs": [],
   "execution_count": null
  },
  {
   "metadata": {},
   "cell_type": "code",
   "source": "df_weather_v4.drop([\"event_region_merge\"], axis=1, inplace=True)",
   "id": "f46e868a38dc7a8e",
   "outputs": [],
   "execution_count": null
  },
  {
   "cell_type": "code",
   "id": "ea0266bb",
   "metadata": {},
   "source": [
    "df_weather_v4.head(10)"
   ],
   "outputs": [],
   "execution_count": null
  },
  {
   "cell_type": "code",
   "id": "87a10851",
   "metadata": {},
   "source": [
    "df_weather_v4.shape"
   ],
   "outputs": [],
   "execution_count": null
  },
  {
   "cell_type": "code",
   "id": "f1a432d4",
   "metadata": {},
   "source": "df_weather_v4.to_csv(f\"{OUTPUT_FOLDER}/{MERGED_OUTPUT_DATA_FILE}\", sep=\";\", index=False)",
   "outputs": [],
   "execution_count": null
  },
  {
   "metadata": {},
   "cell_type": "code",
   "source": "df_weather_v4.head(10)",
   "id": "7b11b675d6038b6f",
   "outputs": [],
   "execution_count": null
  },
  {
   "metadata": {},
   "cell_type": "code",
   "source": "df_weather_v4.shape",
   "id": "535e30fd3a575177",
   "outputs": [],
   "execution_count": null
  },
  {
   "metadata": {},
   "cell_type": "code",
   "source": "df_isw.head(10)",
   "id": "94d8a027f2c6917a",
   "outputs": [],
   "execution_count": null
  },
  {
   "metadata": {},
   "cell_type": "code",
   "source": "df_isw_v2 = df_isw.drop([\"content\", \"stem_content\"], axis=1)",
   "id": "68836f9335a5b813",
   "outputs": [],
   "execution_count": null
  },
  {
   "metadata": {},
   "cell_type": "code",
   "source": "df_isw_v2.head(5)",
   "id": "2ccf6a7b45cbd005",
   "outputs": [],
   "execution_count": null
  },
  {
   "metadata": {},
   "cell_type": "code",
   "source": "df_merged = df_weather_v4.merge(df_isw_v2, how=\"left\", left_on=\"day_datetime\", right_on=\"report_date\")",
   "id": "a94ac9332c6e31d3",
   "outputs": [],
   "execution_count": null
  },
  {
   "metadata": {},
   "cell_type": "code",
   "source": "df_merged.head(10)",
   "id": "8e56a997cc62e85",
   "outputs": [],
   "execution_count": null
  },
  {
   "metadata": {},
   "cell_type": "code",
   "source": [
    "df_merged=df_merged.drop([\"city_resolvedAddress\", \"day_datetime\", \"city\", \"region\", \"event_day_date\"], axis=1)\n",
    "df_merged = df_merged.dropna(subset=df_isw_v2.columns.difference([\"date\"]))\n",
    "df_merged = df_merged.dropna(subset=[\"event_all_region\"])"
   ],
   "id": "f2ca7bd4d37313aa",
   "outputs": [],
   "execution_count": null
  },
  {
   "metadata": {},
   "cell_type": "code",
   "source": [
    "count = df_merged.groupby(\"event_hour_level_event_time\")[\"event_region_city\"].nunique()\n",
    "df_merged['alarms_in_regions'] = df_merged[\"event_hour_level_event_time\"].map(count)"
   ],
   "id": "deb11cb03c95b543",
   "outputs": [],
   "execution_count": null
  },
  {
   "metadata": {},
   "cell_type": "code",
   "source": "df_merged.shape",
   "id": "8afd8c5df9b0c862",
   "outputs": [],
   "execution_count": null
  },
  {
   "metadata": {},
   "cell_type": "code",
   "source": "df_merged.to_parquet(f\"{OUTPUT_FOLDER}/{ALL_MERGED_DATA_FILE}.parquet\", index=False, engine=\"pyarrow\")",
   "id": "7d0a9b011910539b",
   "outputs": [],
   "execution_count": null
  },
  {
   "metadata": {},
   "cell_type": "code",
   "source": "# df_merged.to_csv(f\"{OUTPUT_FOLDER}/{ALL_MERGED_DATA_FILE}.csv\", index=False, sep=\";\")",
   "id": "3b872ceec68f6983",
   "outputs": [],
   "execution_count": null
  }
 ],
 "metadata": {
  "kernelspec": {
   "display_name": "Python 3 (ipykernel)",
   "language": "python",
   "name": "python3"
  },
  "language_info": {
   "codemirror_mode": {
    "name": "ipython",
    "version": 3
   },
   "file_extension": ".py",
   "mimetype": "text/x-python",
   "name": "python",
   "nbconvert_exporter": "python",
   "pygments_lexer": "ipython3",
   "version": "3.8.13"
  }
 },
 "nbformat": 4,
 "nbformat_minor": 5
}
