{
 "cells": [
  {
   "cell_type": "code",
   "id": "initial_id",
   "metadata": {
    "collapsed": true,
    "ExecuteTime": {
     "end_time": "2025-04-26T19:29:27.318060Z",
     "start_time": "2025-04-26T19:29:27.311056Z"
    }
   },
   "source": [
    "import joblib\n",
    "import pandas as pd\n",
    "import numpy as np\n",
    "import pickle\n",
    "from imblearn.over_sampling import SMOTE\n",
    "from sklearn.model_selection import KFold, TimeSeriesSplit\n",
    "from sklearn.linear_model import LogisticRegression\n",
    "from sklearn.metrics import f1_score, precision_score, recall_score, accuracy_score\n"
   ],
   "outputs": [],
   "execution_count": 14
  },
  {
   "metadata": {
    "ExecuteTime": {
     "end_time": "2025-04-26T19:29:28.192379Z",
     "start_time": "2025-04-26T19:29:27.322061Z"
    }
   },
   "cell_type": "code",
   "source": [
    "with open('../our_models/3__Xgboost__v1.pkl', 'rb') as f:\n",
    "    xgb_model = pickle.load(f)\n",
    "with open('../our_models/3__RF__v1.pkl', 'rb') as f:\n",
    "    rf_model = pickle.load(f)\n",
    "with open('../our_models/3__LightGBM__v1.pkl', 'rb') as f:\n",
    "    lgb_model = pickle.load(f)"
   ],
   "id": "2748937c7e2426d1",
   "outputs": [],
   "execution_count": 15
  },
  {
   "metadata": {
    "ExecuteTime": {
     "end_time": "2025-04-26T19:29:29.995386Z",
     "start_time": "2025-04-26T19:29:28.240091Z"
    }
   },
   "cell_type": "code",
   "source": "df = pd.read_parquet('../../data/all_data_preprocessed/all_merged.parquet')",
   "id": "c6b462fcf9b45890",
   "outputs": [],
   "execution_count": 16
  },
  {
   "metadata": {
    "ExecuteTime": {
     "end_time": "2025-04-26T19:29:31.744180Z",
     "start_time": "2025-04-26T19:29:30.059416Z"
    }
   },
   "cell_type": "code",
   "source": [
    "X = df.drop(columns=[\n",
    "    'event_all_region', 'alarms_in_regions', 'event_1h_ago',\n",
    "    'event_2h_ago'])\n",
    "y = df['event_all_region']"
   ],
   "id": "7066eba8ec9f133",
   "outputs": [],
   "execution_count": 17
  },
  {
   "metadata": {
    "ExecuteTime": {
     "end_time": "2025-04-26T19:29:34.458283Z",
     "start_time": "2025-04-26T19:29:31.791620Z"
    }
   },
   "cell_type": "code",
   "source": [
    "tscv = TimeSeriesSplit(n_splits=5)\n",
    "splits = list(tscv.split(X))\n",
    "train_idx, test_idx = splits[-1]\n",
    "X_train, X_test = X.iloc[train_idx], X.iloc[test_idx]\n",
    "y_train, y_test = y.iloc[train_idx], y.iloc[test_idx]"
   ],
   "id": "e32797173e981729",
   "outputs": [],
   "execution_count": 18
  },
  {
   "metadata": {
    "ExecuteTime": {
     "end_time": "2025-04-26T19:29:36.281101Z",
     "start_time": "2025-04-26T19:29:34.506143Z"
    }
   },
   "cell_type": "code",
   "source": [
    "X_train = X_train.astype('float32')\n",
    "X_test = X_test.astype('float32')"
   ],
   "id": "334613b1c44753b1",
   "outputs": [],
   "execution_count": 19
  },
  {
   "metadata": {
    "ExecuteTime": {
     "end_time": "2025-04-26T19:29:45.893347Z",
     "start_time": "2025-04-26T19:29:36.330112Z"
    }
   },
   "cell_type": "code",
   "source": [
    "scaler = joblib.load('../our_models/scaler_v1.pkl')\n",
    "X_train_scaled = scaler.fit_transform(X_train)\n",
    "X_test_scaled = scaler.transform(X_test)"
   ],
   "id": "c07d9405935de040",
   "outputs": [],
   "execution_count": 20
  },
  {
   "metadata": {
    "ExecuteTime": {
     "end_time": "2025-04-26T19:29:45.954361Z",
     "start_time": "2025-04-26T19:29:45.939357Z"
    }
   },
   "cell_type": "code",
   "source": [
    "base_models = [\n",
    "    ('xgb', xgb_model),\n",
    "    ('rf', rf_model),\n",
    "    ('lgb', lgb_model)\n",
    "]\n",
    "pretrained_models = ['xgb', 'rf', 'lgb']\n",
    "meta_model = LogisticRegression()"
   ],
   "id": "1cf82d70a2413779",
   "outputs": [],
   "execution_count": 21
  },
  {
   "metadata": {
    "ExecuteTime": {
     "end_time": "2025-04-26T19:29:46.016376Z",
     "start_time": "2025-04-26T19:29:46.002372Z"
    }
   },
   "cell_type": "code",
   "source": [
    "class Stacking:\n",
    "    def __init__(self, base_models, meta_model, cv=5, pretrained=None):\n",
    "        self.base_models = base_models\n",
    "        self.meta_model = meta_model\n",
    "        self.cv = cv\n",
    "        if pretrained is None:\n",
    "            self.pretrained = []\n",
    "        else:\n",
    "            self.pretrained = pretrained\n",
    "\n",
    "    def fit(self, X, y):\n",
    "        kf = KFold(n_splits=self.cv, shuffle=True, random_state=42)\n",
    "        meta_features = np.zeros((X.shape[0], len(self.base_models)))\n",
    "\n",
    "        for i, (name, model) in enumerate(self.base_models):\n",
    "            if name in self.pretrained or i in self.pretrained:\n",
    "                meta_features[:, i] = model.predict_proba(X)[:, 1]\n",
    "                continue\n",
    "\n",
    "            for train_idx, val_idx in kf.split(X):\n",
    "                model.fit(X[train_idx], y[train_idx])\n",
    "                meta_features[val_idx, i] = model.predict_proba(X[val_idx])[:, 1]\n",
    "\n",
    "            model.fit(X, y)\n",
    "\n",
    "        self.meta_model.fit(meta_features, y)\n",
    "        return self\n",
    "\n",
    "    def predict(self, X):\n",
    "        meta_features = np.column_stack([model.predict_proba(X)[:, 1] for _, model in self.base_models])\n",
    "        return self.meta_model.predict(meta_features)"
   ],
   "id": "1cc6082bae0967db",
   "outputs": [],
   "execution_count": 22
  },
  {
   "metadata": {
    "ExecuteTime": {
     "end_time": "2025-04-26T19:29:46.078389Z",
     "start_time": "2025-04-26T19:29:46.064386Z"
    }
   },
   "cell_type": "code",
   "source": [
    "class CoolStacking(Stacking):\n",
    "    def __init__(self, base_models, meta_model, cv=5, sampling_strategy='auto', pretrained=None):\n",
    "        super().__init__(base_models, meta_model, cv, pretrained)\n",
    "        self.smote = SMOTE(sampling_strategy=sampling_strategy, random_state=42)\n",
    "\n",
    "    def fit(self, X, y):\n",
    "        X_resampled, y_resampled = self.smote.fit_resample(X, y)\n",
    "        return super().fit(X_resampled, y_resampled)\n",
    "\n",
    "    def evaluate(self, X, y):\n",
    "        y_pred = self.predict(X)\n",
    "        return {\n",
    "            'accuracy': accuracy_score(y, y_pred),\n",
    "            'f1_score': f1_score(y, y_pred, average='weighted'),\n",
    "            'precision': precision_score(y, y_pred, average='weighted'),\n",
    "            'recall': recall_score(y, y_pred, average='weighted')\n",
    "        }"
   ],
   "id": "7c16459e46ed3a64",
   "outputs": [],
   "execution_count": 23
  },
  {
   "metadata": {
    "ExecuteTime": {
     "end_time": "2025-04-26T19:29:46.141403Z",
     "start_time": "2025-04-26T19:29:46.127400Z"
    }
   },
   "cell_type": "code",
   "source": "stacking_model = CoolStacking(base_models, meta_model, cv=5, pretrained=pretrained_models)",
   "id": "28d52e6c208ab99",
   "outputs": [],
   "execution_count": 24
  },
  {
   "metadata": {
    "ExecuteTime": {
     "end_time": "2025-04-26T19:34:09.106849Z",
     "start_time": "2025-04-26T19:29:46.188414Z"
    }
   },
   "cell_type": "code",
   "source": "stacking_model.fit(X_train_scaled, y_train)",
   "id": "c453dc24e06a0b0e",
   "outputs": [
    {
     "name": "stderr",
     "output_type": "stream",
     "text": [
      "D:\\NaUKMA\\DS\\H2_python_structure_and_data\\venv\\lib\\site-packages\\sklearn\\utils\\validation.py:2739: UserWarning: X does not have valid feature names, but LGBMClassifier was fitted with feature names\n",
      "  warnings.warn(\n"
     ]
    },
    {
     "data": {
      "text/plain": [
       "<__main__.CoolStacking at 0x1dba1a01690>"
      ]
     },
     "execution_count": 25,
     "metadata": {},
     "output_type": "execute_result"
    }
   ],
   "execution_count": 25
  },
  {
   "metadata": {
    "ExecuteTime": {
     "end_time": "2025-04-26T19:34:10.248729Z",
     "start_time": "2025-04-26T19:34:09.201398Z"
    }
   },
   "cell_type": "code",
   "source": [
    "evaluation_results = stacking_model.evaluate(X_test_scaled, y_test)\n",
    "print(\"Imbalanced Stacking Classifier Results:\")\n",
    "for metric, value in evaluation_results.items():\n",
    "    print(f\"{metric}: {value:.4f}\")"
   ],
   "id": "fa9cd4ad887059d1",
   "outputs": [
    {
     "name": "stderr",
     "output_type": "stream",
     "text": [
      "D:\\NaUKMA\\DS\\H2_python_structure_and_data\\venv\\lib\\site-packages\\sklearn\\utils\\validation.py:2739: UserWarning: X does not have valid feature names, but LGBMClassifier was fitted with feature names\n",
      "  warnings.warn(\n"
     ]
    },
    {
     "name": "stdout",
     "output_type": "stream",
     "text": [
      "Imbalanced Stacking Classifier Results:\n",
      "accuracy: 0.8325\n",
      "f1_score: 0.8465\n",
      "precision: 0.8808\n",
      "recall: 0.8325\n"
     ]
    }
   ],
   "execution_count": 26
  },
  {
   "metadata": {
    "ExecuteTime": {
     "end_time": "2025-04-26T19:39:53.760327Z",
     "start_time": "2025-04-26T19:39:52.270986Z"
    }
   },
   "cell_type": "code",
   "source": [
    "with open('../our_models/3__MUSE__v1.pkl', 'wb') as f:\n",
    "    pickle.dump(stacking_model, f)"
   ],
   "id": "9d58bdb2cc22bd2",
   "outputs": [],
   "execution_count": 27
  },
  {
   "metadata": {
    "ExecuteTime": {
     "end_time": "2025-04-26T20:18:03.125803Z",
     "start_time": "2025-04-26T20:18:03.110800Z"
    }
   },
   "cell_type": "code",
   "source": "",
   "id": "3a9bb1f19c480708",
   "outputs": [
    {
     "data": {
      "text/plain": [
       "'2025-04-26_23-18-03'"
      ]
     },
     "execution_count": 1,
     "metadata": {},
     "output_type": "execute_result"
    }
   ],
   "execution_count": 1
  }
 ],
 "metadata": {
  "kernelspec": {
   "display_name": "Python 3",
   "language": "python",
   "name": "python3"
  },
  "language_info": {
   "codemirror_mode": {
    "name": "ipython",
    "version": 2
   },
   "file_extension": ".py",
   "mimetype": "text/x-python",
   "name": "python",
   "nbconvert_exporter": "python",
   "pygments_lexer": "ipython2",
   "version": "2.7.6"
  }
 },
 "nbformat": 4,
 "nbformat_minor": 5
}
