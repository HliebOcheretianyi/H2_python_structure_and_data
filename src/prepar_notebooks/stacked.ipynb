{
 "cells": [
  {
   "cell_type": "code",
   "id": "initial_id",
   "metadata": {
    "collapsed": true,
    "ExecuteTime": {
     "end_time": "2025-05-06T01:20:24.270866Z",
     "start_time": "2025-05-06T01:20:24.268027Z"
    }
   },
   "source": [
    "import joblib\n",
    "import pandas as pd\n",
    "import numpy as np\n",
    "import pickle\n",
    "from imblearn.over_sampling import SMOTE\n",
    "from sklearn.model_selection import KFold, TimeSeriesSplit\n",
    "from sklearn.linear_model import LogisticRegression\n",
    "from sklearn.metrics import f1_score, precision_score, recall_score, accuracy_score\n"
   ],
   "outputs": [],
   "execution_count": 10
  },
  {
   "metadata": {
    "ExecuteTime": {
     "end_time": "2025-05-06T01:20:25.415057Z",
     "start_time": "2025-05-06T01:20:24.276328Z"
    }
   },
   "cell_type": "code",
   "source": [
    "with open('../our_models/3__Xgboost__v1.pkl', 'rb') as f:\n",
    "    xgb_model = pickle.load(f)\n",
    "with open('../our_models/3__RF__v1.pkl', 'rb') as f:\n",
    "    rf_model = pickle.load(f)\n",
    "with open('../our_models/3__LightGBM__v1.pkl', 'rb') as f:\n",
    "    lgb_model = pickle.load(f)"
   ],
   "id": "2748937c7e2426d1",
   "outputs": [],
   "execution_count": 11
  },
  {
   "metadata": {
    "ExecuteTime": {
     "end_time": "2025-05-06T01:20:26.356610Z",
     "start_time": "2025-05-06T01:20:25.446913Z"
    }
   },
   "cell_type": "code",
   "source": "df = pd.read_parquet('../../data/all_data_preprocessed/all_merged_tfidf.parquet')",
   "id": "c6b462fcf9b45890",
   "outputs": [],
   "execution_count": 12
  },
  {
   "metadata": {
    "ExecuteTime": {
     "end_time": "2025-05-06T01:20:26.940813Z",
     "start_time": "2025-05-06T01:20:26.378511Z"
    }
   },
   "cell_type": "code",
   "source": [
    "X = df.drop(columns=[\n",
    "    'event_all_region', 'alarms_in_regions', 'event_1h_ago',\n",
    "    'event_2h_ago'])\n",
    "y = df['event_all_region']"
   ],
   "id": "7066eba8ec9f133",
   "outputs": [],
   "execution_count": 13
  },
  {
   "metadata": {
    "ExecuteTime": {
     "end_time": "2025-05-06T01:20:27.889538Z",
     "start_time": "2025-05-06T01:20:26.964461Z"
    }
   },
   "cell_type": "code",
   "source": [
    "tscv = TimeSeriesSplit(n_splits=5)\n",
    "splits = list(tscv.split(X))\n",
    "train_idx, test_idx = splits[-1]\n",
    "X_train, X_test = X.iloc[train_idx], X.iloc[test_idx]\n",
    "y_train, y_test = y.iloc[train_idx], y.iloc[test_idx]"
   ],
   "id": "e32797173e981729",
   "outputs": [],
   "execution_count": 14
  },
  {
   "metadata": {
    "ExecuteTime": {
     "end_time": "2025-05-06T01:20:28.636026Z",
     "start_time": "2025-05-06T01:20:27.917968Z"
    }
   },
   "cell_type": "code",
   "source": [
    "X_train = X_train.astype('float32')\n",
    "X_test = X_test.astype('float32')"
   ],
   "id": "334613b1c44753b1",
   "outputs": [],
   "execution_count": 15
  },
  {
   "metadata": {
    "ExecuteTime": {
     "end_time": "2025-05-06T01:20:35.789666Z",
     "start_time": "2025-05-06T01:20:28.677310Z"
    }
   },
   "cell_type": "code",
   "source": [
    "scaler = joblib.load('../our_models/scaler_v1.pkl')\n",
    "X_train_scaled = scaler.fit_transform(X_train)\n",
    "X_test_scaled = scaler.transform(X_test)"
   ],
   "id": "c07d9405935de040",
   "outputs": [],
   "execution_count": 16
  },
  {
   "metadata": {
    "ExecuteTime": {
     "end_time": "2025-05-06T01:20:35.814947Z",
     "start_time": "2025-05-06T01:20:35.812373Z"
    }
   },
   "cell_type": "code",
   "source": [
    "base_models = [\n",
    "    ('xgb', xgb_model),\n",
    "    ('rf', rf_model),\n",
    "    ('lgb', lgb_model)\n",
    "]\n",
    "pretrained_models = ['xgb', 'rf', 'lgb']\n",
    "meta_model = LogisticRegression()"
   ],
   "id": "1cf82d70a2413779",
   "outputs": [],
   "execution_count": 17
  },
  {
   "metadata": {
    "ExecuteTime": {
     "end_time": "2025-05-06T01:20:35.841247Z",
     "start_time": "2025-05-06T01:20:35.837439Z"
    }
   },
   "cell_type": "code",
   "source": [
    "class Stacking:\n",
    "    def __init__(self, base_models, meta_model, cv=5, pretrained=None):\n",
    "        self.base_models = base_models\n",
    "        self.meta_model = meta_model\n",
    "        self.cv = cv\n",
    "        if pretrained is None:\n",
    "            self.pretrained = []\n",
    "        else:\n",
    "            self.pretrained = pretrained\n",
    "\n",
    "    def fit(self, X, y):\n",
    "        kf = TimeSeriesSplit(n_splits=self.cv)\n",
    "        meta_features = np.zeros((X.shape[0], len(self.base_models)))\n",
    "\n",
    "        for i, (name, model) in enumerate(self.base_models):\n",
    "            if name in self.pretrained or i in self.pretrained:\n",
    "                meta_features[:, i] = model.predict_proba(X)[:, 1]\n",
    "                continue\n",
    "\n",
    "            for train_idx, val_idx in kf.split(X):\n",
    "                model.fit(X[train_idx], y[train_idx])\n",
    "                meta_features[val_idx, i] = model.predict_proba(X[val_idx])[:, 1]\n",
    "\n",
    "            model.fit(X, y)\n",
    "\n",
    "        self.meta_model.fit(meta_features, y)\n",
    "        return self\n",
    "\n",
    "    def predict(self, X):\n",
    "        meta_features = np.column_stack([model.predict_proba(X)[:, 1] for _, model in self.base_models])\n",
    "        return self.meta_model.predict(meta_features)"
   ],
   "id": "1cc6082bae0967db",
   "outputs": [],
   "execution_count": 18
  },
  {
   "metadata": {
    "ExecuteTime": {
     "end_time": "2025-05-06T01:20:35.889103Z",
     "start_time": "2025-05-06T01:20:35.885553Z"
    }
   },
   "cell_type": "code",
   "source": [
    "class CoolStacking(Stacking):\n",
    "    def __init__(self, base_models, meta_model, cv=5, sampling_strategy='auto', pretrained=None):\n",
    "        super().__init__(base_models, meta_model, cv, pretrained)\n",
    "        self.smote = SMOTE(sampling_strategy=sampling_strategy, random_state=42)\n",
    "\n",
    "    def fit(self, X, y):\n",
    "        X_resampled, y_resampled = self.smote.fit_resample(X, y)\n",
    "        return super().fit(X_resampled, y_resampled)\n",
    "\n",
    "    def evaluate(self, X, y):\n",
    "        y_pred = self.predict(X)\n",
    "        return {\n",
    "            'accuracy': accuracy_score(y, y_pred),\n",
    "            'f1_score': f1_score(y, y_pred, average='weighted'),\n",
    "            'precision': precision_score(y, y_pred, average='weighted'),\n",
    "            'recall': recall_score(y, y_pred, average='weighted')\n",
    "        }"
   ],
   "id": "7c16459e46ed3a64",
   "outputs": [],
   "execution_count": 19
  },
  {
   "metadata": {
    "ExecuteTime": {
     "end_time": "2025-05-06T01:20:35.896222Z",
     "start_time": "2025-05-06T01:20:35.893773Z"
    }
   },
   "cell_type": "code",
   "source": "stacking_model = CoolStacking(base_models, meta_model, cv=5, pretrained=pretrained_models)",
   "id": "28d52e6c208ab99",
   "outputs": [],
   "execution_count": 20
  },
  {
   "metadata": {
    "ExecuteTime": {
     "end_time": "2025-05-06T01:23:50.925601Z",
     "start_time": "2025-05-06T01:20:35.919301Z"
    }
   },
   "cell_type": "code",
   "source": "stacking_model.fit(X_train_scaled, y_train)",
   "id": "c453dc24e06a0b0e",
   "outputs": [
    {
     "name": "stderr",
     "output_type": "stream",
     "text": [
      "D:\\H2_python_structure_and_data\\.venv\\.venv\\Lib\\site-packages\\sklearn\\utils\\validation.py:2739: UserWarning: X does not have valid feature names, but LGBMClassifier was fitted with feature names\n",
      "  warnings.warn(\n"
     ]
    },
    {
     "data": {
      "text/plain": [
       "<__main__.CoolStacking at 0x2033dc23a10>"
      ]
     },
     "execution_count": 21,
     "metadata": {},
     "output_type": "execute_result"
    }
   ],
   "execution_count": 21
  },
  {
   "metadata": {
    "ExecuteTime": {
     "end_time": "2025-05-06T01:23:52.401776Z",
     "start_time": "2025-05-06T01:23:50.985169Z"
    }
   },
   "cell_type": "code",
   "source": [
    "evaluation_results = stacking_model.evaluate(X_test_scaled, y_test)\n",
    "print(\"Imbalanced Stacking Classifier Results:\")\n",
    "for metric, value in evaluation_results.items():\n",
    "    print(f\"{metric}: {value:.4f}\")"
   ],
   "id": "fa9cd4ad887059d1",
   "outputs": [
    {
     "name": "stderr",
     "output_type": "stream",
     "text": [
      "D:\\H2_python_structure_and_data\\.venv\\.venv\\Lib\\site-packages\\sklearn\\utils\\validation.py:2739: UserWarning: X does not have valid feature names, but LGBMClassifier was fitted with feature names\n",
      "  warnings.warn(\n"
     ]
    },
    {
     "name": "stdout",
     "output_type": "stream",
     "text": [
      "Imbalanced Stacking Classifier Results:\n",
      "accuracy: 0.8462\n",
      "f1_score: 0.8579\n",
      "precision: 0.8853\n",
      "recall: 0.8462\n"
     ]
    }
   ],
   "execution_count": 22
  },
  {
   "metadata": {
    "ExecuteTime": {
     "end_time": "2025-05-06T01:24:01.101791Z",
     "start_time": "2025-05-06T01:23:59.965781Z"
    }
   },
   "cell_type": "code",
   "source": [
    "with open('../our_models/3__MUSE__v1.pkl', 'wb') as f:\n",
    "    pickle.dump(stacking_model, f)"
   ],
   "id": "9d58bdb2cc22bd2",
   "outputs": [],
   "execution_count": 24
  },
  {
   "metadata": {
    "ExecuteTime": {
     "end_time": "2025-05-06T01:23:53.645165Z",
     "start_time": "2025-05-06T01:23:53.643368Z"
    }
   },
   "cell_type": "code",
   "source": "",
   "id": "3a9bb1f19c480708",
   "outputs": [],
   "execution_count": null
  }
 ],
 "metadata": {
  "kernelspec": {
   "display_name": "Python 3",
   "language": "python",
   "name": "python3"
  },
  "language_info": {
   "codemirror_mode": {
    "name": "ipython",
    "version": 2
   },
   "file_extension": ".py",
   "mimetype": "text/x-python",
   "name": "python",
   "nbconvert_exporter": "python",
   "pygments_lexer": "ipython2",
   "version": "2.7.6"
  }
 },
 "nbformat": 4,
 "nbformat_minor": 5
}
