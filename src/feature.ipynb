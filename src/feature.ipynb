{
 "cells": [
  {
   "cell_type": "code",
   "execution_count": 1,
   "id": "initial_id",
   "metadata": {
    "ExecuteTime": {
     "end_time": "2025-04-17T10:31:20.008230Z",
     "start_time": "2025-04-17T10:31:19.994569Z"
    }
   },
   "outputs": [],
   "source": [
    "import pandas as pd"
   ]
  },
  {
   "cell_type": "code",
   "execution_count": 2,
   "id": "199568090258da65",
   "metadata": {
    "ExecuteTime": {
     "end_time": "2025-04-17T10:31:20.027634Z",
     "start_time": "2025-04-17T10:31:20.013423Z"
    }
   },
   "outputs": [],
   "source": [
    "INPUT_DATA_FOLDER = \"../data\"\n",
    "REPORTS_DATA_FILE = \"ISW_vector.csv\"\n",
    "\n",
    "OUTPUT_FOLDER = \"../data/all_data_preprocessed\"\n",
    "ISW_OUTPUT_DATA_FILE = \"all_isw.csv\"\n",
    "ALARMS_OUTPUT_DATA_FILE = \"all_alarms.csv\"\n",
    "WEATHER_EVENTS_OUTPUT_DATA_FILE = \"all_weather_by_hour.csv\"\n",
    "MERGED_OUTPUT_DATA_FILE = \"weather_regions_alarms_merged.csv\"\n",
    "ALL_MERGED_DATA_FILE = \"all_merged\"\n",
    "\n",
    "MODEL_FOLDER = \"model\"\n",
    "\n",
    "tfidf_transformer_model = \"tfidf_transformer\"\n",
    "count_vectorizer_model = \"count_vectorizer\"\n",
    "\n",
    "tfidf_transformer_version = \"v1\"\n",
    "count_vectorizer_version = \"v1\""
   ]
  },
  {
   "cell_type": "code",
   "execution_count": 3,
   "id": "141bdcb28117a3f8",
   "metadata": {
    "ExecuteTime": {
     "end_time": "2025-04-17T10:31:58.067264Z",
     "start_time": "2025-04-17T10:31:56.319351Z"
    }
   },
   "outputs": [],
   "source": [
    "df = pd.read_parquet(f\"{OUTPUT_FOLDER}/{ALL_MERGED_DATA_FILE}.parquet\")"
   ]
  },
  {
   "cell_type": "code",
   "execution_count": 5,
   "id": "c8cd1ce00f6a624a",
   "metadata": {
    "ExecuteTime": {
     "end_time": "2025-04-17T10:38:39.180148Z",
     "start_time": "2025-04-17T10:38:39.163998Z"
    }
   },
   "outputs": [
    {
     "data": {
      "text/plain": [
       "Index(['day_datetimeEpoch', 'day_tempmax', 'day_tempmin', 'day_temp',\n",
       "       'day_dew', 'day_humidity', 'day_precip', 'day_precipcover',\n",
       "       'day_solarradiation', 'day_solarenergy', 'day_uvindex', 'day_sunrise',\n",
       "       'day_sunset', 'day_moonphase', 'hour_datetime', 'hour_datetimeEpoch',\n",
       "       'hour_temp', 'hour_humidity', 'hour_dew', 'hour_precip',\n",
       "       'hour_precipprob', 'hour_snow', 'hour_snowdepth', 'hour_preciptype',\n",
       "       'hour_windgust', 'hour_windspeed', 'hour_winddir', 'hour_pressure',\n",
       "       'hour_visibility', 'hour_cloudcover', 'hour_uvindex', 'hour_conditions',\n",
       "       'center_city_ua', 'center_city_en', 'region_alt', 'region_id',\n",
       "       'event_region_city', 'event_all_region', 'event_start', 'event_end',\n",
       "       'event_start_hour', 'event_end_hour', 'event_start_hour_datetimeEpoch',\n",
       "       'event_end_hour_datetimeEpoch', 'event_hour_level_event_time',\n",
       "       'event_hour_level_event_datetimeEpoch', 'keywords', 'report_date',\n",
       "       'date_tomorrow_datetime', 'alarms_in_regions'],\n",
       "      dtype='object')"
      ]
     },
     "execution_count": 5,
     "metadata": {},
     "output_type": "execute_result"
    }
   ],
   "source": [
    "df.columns\n"
   ]
  },
  {
   "cell_type": "code",
   "execution_count": 8,
   "id": "f0ce6a34-b21d-41d4-b932-d29c2f769b9a",
   "metadata": {},
   "outputs": [
    {
     "data": {
      "text/html": [
       "<div>\n",
       "<style scoped>\n",
       "    .dataframe tbody tr th:only-of-type {\n",
       "        vertical-align: middle;\n",
       "    }\n",
       "\n",
       "    .dataframe tbody tr th {\n",
       "        vertical-align: top;\n",
       "    }\n",
       "\n",
       "    .dataframe thead th {\n",
       "        text-align: right;\n",
       "    }\n",
       "</style>\n",
       "<table border=\"1\" class=\"dataframe\">\n",
       "  <thead>\n",
       "    <tr style=\"text-align: right;\">\n",
       "      <th></th>\n",
       "      <th>hour_datetimeEpoch</th>\n",
       "      <th>alarms_in_regions</th>\n",
       "    </tr>\n",
       "  </thead>\n",
       "  <tbody>\n",
       "    <tr>\n",
       "      <th>0</th>\n",
       "      <td>1645653600</td>\n",
       "      <td>0.0</td>\n",
       "    </tr>\n",
       "    <tr>\n",
       "      <th>1</th>\n",
       "      <td>1645657200</td>\n",
       "      <td>0.0</td>\n",
       "    </tr>\n",
       "    <tr>\n",
       "      <th>2</th>\n",
       "      <td>1645660800</td>\n",
       "      <td>0.0</td>\n",
       "    </tr>\n",
       "    <tr>\n",
       "      <th>3</th>\n",
       "      <td>1645664400</td>\n",
       "      <td>0.0</td>\n",
       "    </tr>\n",
       "    <tr>\n",
       "      <th>4</th>\n",
       "      <td>1645668000</td>\n",
       "      <td>0.0</td>\n",
       "    </tr>\n",
       "    <tr>\n",
       "      <th>5</th>\n",
       "      <td>1645671600</td>\n",
       "      <td>0.0</td>\n",
       "    </tr>\n",
       "  </tbody>\n",
       "</table>\n",
       "</div>"
      ],
      "text/plain": [
       "   hour_datetimeEpoch  alarms_in_regions\n",
       "0          1645653600                0.0\n",
       "1          1645657200                0.0\n",
       "2          1645660800                0.0\n",
       "3          1645664400                0.0\n",
       "4          1645668000                0.0\n",
       "5          1645671600                0.0"
      ]
     },
     "execution_count": 8,
     "metadata": {},
     "output_type": "execute_result"
    }
   ],
   "source": [
    "df[['hour_datetimeEpoch','alarms_in_regions']].head(6)"
   ]
  },
  {
   "cell_type": "code",
   "execution_count": null,
   "id": "7bd24494-f6cf-44a0-8173-6fa8e022d90f",
   "metadata": {},
   "outputs": [],
   "source": []
  }
 ],
 "metadata": {
  "kernelspec": {
   "display_name": "Python 3 (ipykernel)",
   "language": "python",
   "name": "python3"
  },
  "language_info": {
   "codemirror_mode": {
    "name": "ipython",
    "version": 3
   },
   "file_extension": ".py",
   "mimetype": "text/x-python",
   "name": "python",
   "nbconvert_exporter": "python",
   "pygments_lexer": "ipython3",
   "version": "3.10.6"
  }
 },
 "nbformat": 4,
 "nbformat_minor": 5
}
