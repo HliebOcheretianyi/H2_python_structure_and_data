{
 "cells": [
  {
   "metadata": {},
   "cell_type": "markdown",
   "source": [
    "# ISW table transformation\n",
    "\n",
    "## Import"
   ],
   "id": "c47ccb25b9e626bd"
  },
  {
   "cell_type": "code",
   "id": "initial_id",
   "metadata": {
    "collapsed": true,
    "ExecuteTime": {
     "end_time": "2025-04-09T22:52:42.774896Z",
     "start_time": "2025-04-09T22:52:42.478690Z"
    }
   },
   "source": [
    "import numpy as np\n",
    "import pandas as pd\n",
    "import re\n",
    "import string\n",
    "import os\n",
    "\n",
    "import nltk\n",
    "\n",
    "from nltk.stem import PorterStemmer, WordNetLemmatizer\n",
    "from nltk import word_tokenize\n",
    "from nltk.corpus import wordnet, stopwords\n",
    "\n",
    "from sklearn.feature_extraction.text import TfidfTransformer as tfidf\n",
    "from sklearn.feature_extraction.text import CountVectorizer\n",
    "\n",
    "from sklearn.decomposition import PCA\n",
    "\n",
    "import matplotlib.pyplot as plt\n"
   ],
   "outputs": [],
   "execution_count": 1
  },
  {
   "metadata": {
    "ExecuteTime": {
     "end_time": "2025-04-09T22:52:42.972851Z",
     "start_time": "2025-04-09T22:52:42.783685Z"
    }
   },
   "cell_type": "code",
   "source": [
    "data_dir = os.path.join(os.getcwd(), 'models')\n",
    "os.makedirs(data_dir, exist_ok=True)\n",
    "\n",
    "nltk.data.path.append(data_dir)\n",
    "\n",
    "nltk.download('punkt_tab', download_dir=data_dir)\n",
    "nltk.download('wordnet', download_dir=data_dir)\n",
    "nltk.download('stopwords', download_dir=data_dir)"
   ],
   "id": "8726b550f533c4eb",
   "outputs": [
    {
     "name": "stderr",
     "output_type": "stream",
     "text": [
      "[nltk_data] Downloading package punkt_tab to\n",
      "[nltk_data]     D:\\H2_python_structure_and_data\\src\\models...\n",
      "[nltk_data]   Package punkt_tab is already up-to-date!\n",
      "[nltk_data] Downloading package wordnet to\n",
      "[nltk_data]     D:\\H2_python_structure_and_data\\src\\models...\n",
      "[nltk_data]   Package wordnet is already up-to-date!\n",
      "[nltk_data] Downloading package stopwords to\n",
      "[nltk_data]     D:\\H2_python_structure_and_data\\src\\models...\n",
      "[nltk_data]   Package stopwords is already up-to-date!\n"
     ]
    },
    {
     "data": {
      "text/plain": [
       "True"
      ]
     },
     "execution_count": 2,
     "metadata": {},
     "output_type": "execute_result"
    }
   ],
   "execution_count": 2
  },
  {
   "metadata": {},
   "cell_type": "markdown",
   "source": [
    "# Some cleaning"
   ],
   "id": "9a1cc1ec967c6c7b"
  },
  {
   "metadata": {
    "ExecuteTime": {
     "end_time": "2025-04-09T22:52:44.783214Z",
     "start_time": "2025-04-09T22:52:44.570429Z"
    }
   },
   "cell_type": "code",
   "source": [
    "df_raw = pd.read_csv(\"../data/ISW.csv\")\n",
    "\n",
    "df_result = pd.DataFrame()"
   ],
   "id": "5df1c1d292907143",
   "outputs": [],
   "execution_count": 3
  },
  {
   "metadata": {
    "ExecuteTime": {
     "end_time": "2025-04-09T22:52:44.797520Z",
     "start_time": "2025-04-09T22:52:44.792275Z"
    }
   },
   "cell_type": "code",
   "source": [
    "df_raw.head(10)"
   ],
   "id": "5f42b1bc0a56fa96",
   "outputs": [
    {
     "data": {
      "text/plain": [
       "         date                                            content\n",
       "0  2022-02-24  Mason Clark, George Barros, and Kateryna Stepa...\n",
       "1  2022-02-25  Mason Clark, George Barros, and Kateryna Stepa...\n",
       "2  2022-02-26  Mason Clark, George Barros, and Katya Stepanen...\n",
       "3  2022-02-27  Mason Clark, George Barros, and Kateryna Stepa...\n",
       "4  2022-02-28  Mason Clark, George Barros, and Kateryna Stepa...\n",
       "5  2022-03-01  Frederick W. Kagan, George Barros, and Kateryn...\n",
       "6  2022-03-02  Mason Clark, George Barros, and Kateryna Stepa...\n",
       "7  2022-03-03  Mason Clark, George Barros, and Kateryna Stepa...\n",
       "8  2022-03-04  Fredrick W. Kagan, George Barros, and Kateryna...\n",
       "9  2022-03-05  Fredrick W. Kagan, George Barros, and Kateryna..."
      ],
      "text/html": [
       "<div>\n",
       "<style scoped>\n",
       "    .dataframe tbody tr th:only-of-type {\n",
       "        vertical-align: middle;\n",
       "    }\n",
       "\n",
       "    .dataframe tbody tr th {\n",
       "        vertical-align: top;\n",
       "    }\n",
       "\n",
       "    .dataframe thead th {\n",
       "        text-align: right;\n",
       "    }\n",
       "</style>\n",
       "<table border=\"1\" class=\"dataframe\">\n",
       "  <thead>\n",
       "    <tr style=\"text-align: right;\">\n",
       "      <th></th>\n",
       "      <th>date</th>\n",
       "      <th>content</th>\n",
       "    </tr>\n",
       "  </thead>\n",
       "  <tbody>\n",
       "    <tr>\n",
       "      <th>0</th>\n",
       "      <td>2022-02-24</td>\n",
       "      <td>Mason Clark, George Barros, and Kateryna Stepa...</td>\n",
       "    </tr>\n",
       "    <tr>\n",
       "      <th>1</th>\n",
       "      <td>2022-02-25</td>\n",
       "      <td>Mason Clark, George Barros, and Kateryna Stepa...</td>\n",
       "    </tr>\n",
       "    <tr>\n",
       "      <th>2</th>\n",
       "      <td>2022-02-26</td>\n",
       "      <td>Mason Clark, George Barros, and Katya Stepanen...</td>\n",
       "    </tr>\n",
       "    <tr>\n",
       "      <th>3</th>\n",
       "      <td>2022-02-27</td>\n",
       "      <td>Mason Clark, George Barros, and Kateryna Stepa...</td>\n",
       "    </tr>\n",
       "    <tr>\n",
       "      <th>4</th>\n",
       "      <td>2022-02-28</td>\n",
       "      <td>Mason Clark, George Barros, and Kateryna Stepa...</td>\n",
       "    </tr>\n",
       "    <tr>\n",
       "      <th>5</th>\n",
       "      <td>2022-03-01</td>\n",
       "      <td>Frederick W. Kagan, George Barros, and Kateryn...</td>\n",
       "    </tr>\n",
       "    <tr>\n",
       "      <th>6</th>\n",
       "      <td>2022-03-02</td>\n",
       "      <td>Mason Clark, George Barros, and Kateryna Stepa...</td>\n",
       "    </tr>\n",
       "    <tr>\n",
       "      <th>7</th>\n",
       "      <td>2022-03-03</td>\n",
       "      <td>Mason Clark, George Barros, and Kateryna Stepa...</td>\n",
       "    </tr>\n",
       "    <tr>\n",
       "      <th>8</th>\n",
       "      <td>2022-03-04</td>\n",
       "      <td>Fredrick W. Kagan, George Barros, and Kateryna...</td>\n",
       "    </tr>\n",
       "    <tr>\n",
       "      <th>9</th>\n",
       "      <td>2022-03-05</td>\n",
       "      <td>Fredrick W. Kagan, George Barros, and Kateryna...</td>\n",
       "    </tr>\n",
       "  </tbody>\n",
       "</table>\n",
       "</div>"
      ]
     },
     "execution_count": 4,
     "metadata": {},
     "output_type": "execute_result"
    }
   ],
   "execution_count": 4
  },
  {
   "metadata": {
    "ExecuteTime": {
     "end_time": "2025-04-09T22:52:44.846465Z",
     "start_time": "2025-04-09T22:52:44.843217Z"
    }
   },
   "cell_type": "code",
   "source": [
    "df_raw.dropna(inplace=True)"
   ],
   "id": "665094a766112ab6",
   "outputs": [],
   "execution_count": 5
  },
  {
   "metadata": {},
   "cell_type": "markdown",
   "source": [
    "# Text Preprocessing"
   ],
   "id": "abf3dd4926a5c05a"
  },
  {
   "metadata": {
    "ExecuteTime": {
     "end_time": "2025-04-09T22:52:46.520927Z",
     "start_time": "2025-04-09T22:52:44.861551Z"
    }
   },
   "cell_type": "code",
   "source": [
    "month_names = [\n",
    "            'january', 'february', 'march', 'april', 'may', 'june',\n",
    "            'july', 'august', 'september', 'october', 'november', 'december'\n",
    "        ]\n",
    "\n",
    "def clean_text(x):\n",
    "    if isinstance(x, str):\n",
    "        x = x.lower()\n",
    "        x = re.sub(r'https?://\\S+|www\\.\\S+', '', x)\n",
    "        punctuation_to_remove = ''.join(c for c in string.punctuation if c != '-')\n",
    "        x = re.sub(f'[{re.escape(punctuation_to_remove)}]', '', x)\n",
    "        x = re.sub(r'\\b(?:' + '|'.join(month_names) + r')\\s+\\d{1,2}\\b', '', x)\n",
    "        x = re.sub(r'[©®™•·]', ' ', x)\n",
    "        x = re.sub(r'\\s+', ' ', x).strip()\n",
    "    return x\n",
    "\n",
    "df_raw['content'] = df_raw['content'].map(clean_text)"
   ],
   "id": "683635e2492531d8",
   "outputs": [],
   "execution_count": 6
  },
  {
   "metadata": {},
   "cell_type": "markdown",
   "source": [
    "# Text Normalization and Feature extraction"
   ],
   "id": "fde597248b42804"
  },
  {
   "metadata": {
    "ExecuteTime": {
     "end_time": "2025-04-09T22:52:46.549456Z",
     "start_time": "2025-04-09T22:52:46.546562Z"
    }
   },
   "cell_type": "code",
   "source": [
    "class LemmaTokenizer:\n",
    "    def __init__(self):\n",
    "        self.wnl = WordNetLemmatizer()\n",
    "        self.stop_words = set(stopwords.words('english'))\n",
    "    def __call__(self, doc):\n",
    "        if not isinstance(doc, str) or not doc.strip():\n",
    "            return []\n",
    "        return [self.wnl.lemmatize(t) for t in word_tokenize(doc) if t not in self.stop_words]"
   ],
   "id": "e534affcea6bf941",
   "outputs": [],
   "execution_count": 7
  },
  {
   "metadata": {
    "ExecuteTime": {
     "end_time": "2025-04-09T22:53:01.762298Z",
     "start_time": "2025-04-09T22:52:46.555175Z"
    }
   },
   "cell_type": "code",
   "source": [
    "lemming = CountVectorizer(lowercase=True, ngram_range=(2,2), tokenizer=LemmaTokenizer(), max_features=2000,\n",
    "                         min_df=5, max_df=0.8)\n",
    "\n",
    "X_lemma = lemming.fit_transform(df_raw['content'].fillna(''))"
   ],
   "id": "46e64b2de954de8e",
   "outputs": [
    {
     "name": "stderr",
     "output_type": "stream",
     "text": [
      "D:\\H2_python_structure_and_data\\.venv\\Lib\\site-packages\\sklearn\\feature_extraction\\text.py:517: UserWarning: The parameter 'token_pattern' will not be used since 'tokenizer' is not None'\n",
      "  warnings.warn(\n"
     ]
    }
   ],
   "execution_count": 8
  },
  {
   "metadata": {},
   "cell_type": "markdown",
   "source": [
    "## Redundant part for Stemming"
   ],
   "id": "74a4e78e3af0c1e0"
  },
  {
   "metadata": {
    "ExecuteTime": {
     "end_time": "2025-04-09T22:53:01.769866Z",
     "start_time": "2025-04-09T22:53:01.766594Z"
    }
   },
   "cell_type": "code",
   "source": [
    "class StemmerTokenizer:\n",
    "    def __init__(self):\n",
    "        self.sp = PorterStemmer()\n",
    "        self.stop_words = set(stopwords.words('english'))\n",
    "    def __call__(self, doc):\n",
    "        return [self.sp.stem(t) for t in word_tokenize(doc) if t not in self.stop_words]"
   ],
   "id": "b47b3f44a5335e69",
   "outputs": [],
   "execution_count": 9
  },
  {
   "metadata": {
    "ExecuteTime": {
     "end_time": "2025-04-09T22:53:01.780943Z",
     "start_time": "2025-04-09T22:53:01.778931Z"
    }
   },
   "cell_type": "code",
   "source": [
    "# stemming = CountVectorizer(lowercase=True, ngram_range=(1,2), tokenizer=StemmerTokenizer())\n",
    "#\n",
    "# X_stemming = stemming.fit_transform(df_raw['content'].fillna(''))"
   ],
   "id": "6d5d799ddefd7fe8",
   "outputs": [],
   "execution_count": 10
  },
  {
   "metadata": {},
   "cell_type": "markdown",
   "source": [
    "# We will be using Lemmatization for the tf-idf\n",
    "\n",
    "## As for this project we are not operating with a giant dataset, we can spend more time on converting to lemmas\n",
    "\n",
    "*However we'll still add column with both stemming and lemming*"
   ],
   "id": "96c6c00d3e61b134"
  },
  {
   "metadata": {
    "ExecuteTime": {
     "end_time": "2025-04-09T22:53:38.409601Z",
     "start_time": "2025-04-09T22:53:01.788998Z"
    }
   },
   "cell_type": "code",
   "source": [
    "df_raw['lemma_content'] = df_raw['content'].apply(lambda x: ' '.join(LemmaTokenizer()(x)) if isinstance(x, str) else '')\n",
    "df_raw['stem_content'] = df_raw['content'].apply(lambda x: ' '.join(StemmerTokenizer()(x)) if isinstance(x, str) else '')"
   ],
   "id": "df9b769f7eb20fbf",
   "outputs": [],
   "execution_count": 11
  },
  {
   "metadata": {
    "ExecuteTime": {
     "end_time": "2025-04-09T22:53:38.439899Z",
     "start_time": "2025-04-09T22:53:38.417354Z"
    }
   },
   "cell_type": "code",
   "source": [
    "tf_idf = tfidf()\n",
    "X_tf_idf = tf_idf.fit_transform(X_lemma)\n",
    "X_dense = X_tf_idf.toarray()"
   ],
   "id": "ebf263b19fcdc00c",
   "outputs": [],
   "execution_count": 12
  },
  {
   "metadata": {},
   "cell_type": "markdown",
   "source": [
    "# Dimensionality Reduction\n",
    "## In the graphic bellow we see that optimal amount of components is 670"
   ],
   "id": "5b64819e87b7ca6f"
  },
  {
   "metadata": {
    "ExecuteTime": {
     "end_time": "2025-04-09T22:53:38.869526Z",
     "start_time": "2025-04-09T22:53:38.447571Z"
    }
   },
   "cell_type": "code",
   "source": [
    "pca = PCA(n_components=400, whiten=True, random_state=69)\n",
    "X_pca = pca.fit_transform(X_dense)"
   ],
   "id": "ae2a1bbf047c04c2",
   "outputs": [],
   "execution_count": 13
  },
  {
   "metadata": {
    "ExecuteTime": {
     "end_time": "2025-04-09T22:53:39.013238Z",
     "start_time": "2025-04-09T22:53:38.886662Z"
    }
   },
   "cell_type": "code",
   "source": [
    "explained_variance_ratio = pca.explained_variance_ratio_\n",
    "cumulative_variance_ratio = np.cumsum(explained_variance_ratio)\n",
    "\n",
    "print(\"Cumulative explained variance ratio:\")\n",
    "for i, variance in enumerate(cumulative_variance_ratio):\n",
    "    print(f\"Components {i+1}: {variance:.3f}\")\n",
    "\n",
    "plt.figure(figsize=(10, 6))\n",
    "plt.plot(range(1, len(cumulative_variance_ratio) + 1), cumulative_variance_ratio, marker='o')\n",
    "plt.axhline(y=0.9, color='r', linestyle='--', label='90% variance')\n",
    "plt.axhline(y=0.8, color='g', linestyle='--', label='80% variance')\n",
    "plt.xlabel('Number of Components')\n",
    "plt.ylabel('Cumulative Explained Variance Ratio')\n",
    "plt.title('Cumulative Explained Variance vs. Number of Components')\n",
    "plt.grid(True)\n",
    "plt.legend()\n",
    "plt.show()"
   ],
   "id": "8a7ffd1033be7dec",
   "outputs": [
    {
     "name": "stdout",
     "output_type": "stream",
     "text": [
      "Cumulative explained variance ratio:\n",
      "Components 1: 0.084\n",
      "Components 2: 0.132\n",
      "Components 3: 0.160\n",
      "Components 4: 0.186\n",
      "Components 5: 0.207\n",
      "Components 6: 0.220\n",
      "Components 7: 0.234\n",
      "Components 8: 0.245\n",
      "Components 9: 0.255\n",
      "Components 10: 0.264\n",
      "Components 11: 0.272\n",
      "Components 12: 0.279\n",
      "Components 13: 0.286\n",
      "Components 14: 0.293\n",
      "Components 15: 0.299\n",
      "Components 16: 0.305\n",
      "Components 17: 0.311\n",
      "Components 18: 0.317\n",
      "Components 19: 0.322\n",
      "Components 20: 0.327\n",
      "Components 21: 0.332\n",
      "Components 22: 0.337\n",
      "Components 23: 0.342\n",
      "Components 24: 0.346\n",
      "Components 25: 0.351\n",
      "Components 26: 0.355\n",
      "Components 27: 0.359\n",
      "Components 28: 0.363\n",
      "Components 29: 0.367\n",
      "Components 30: 0.371\n",
      "Components 31: 0.375\n",
      "Components 32: 0.379\n",
      "Components 33: 0.382\n",
      "Components 34: 0.386\n",
      "Components 35: 0.389\n",
      "Components 36: 0.393\n",
      "Components 37: 0.396\n",
      "Components 38: 0.400\n",
      "Components 39: 0.403\n",
      "Components 40: 0.406\n",
      "Components 41: 0.410\n",
      "Components 42: 0.413\n",
      "Components 43: 0.416\n",
      "Components 44: 0.419\n",
      "Components 45: 0.422\n",
      "Components 46: 0.425\n",
      "Components 47: 0.428\n",
      "Components 48: 0.431\n",
      "Components 49: 0.434\n",
      "Components 50: 0.437\n",
      "Components 51: 0.440\n",
      "Components 52: 0.443\n",
      "Components 53: 0.445\n",
      "Components 54: 0.448\n",
      "Components 55: 0.451\n",
      "Components 56: 0.454\n",
      "Components 57: 0.456\n",
      "Components 58: 0.459\n",
      "Components 59: 0.461\n",
      "Components 60: 0.464\n",
      "Components 61: 0.467\n",
      "Components 62: 0.469\n",
      "Components 63: 0.472\n",
      "Components 64: 0.474\n",
      "Components 65: 0.477\n",
      "Components 66: 0.479\n",
      "Components 67: 0.482\n",
      "Components 68: 0.484\n",
      "Components 69: 0.487\n",
      "Components 70: 0.489\n",
      "Components 71: 0.491\n",
      "Components 72: 0.494\n",
      "Components 73: 0.496\n",
      "Components 74: 0.498\n",
      "Components 75: 0.501\n",
      "Components 76: 0.503\n",
      "Components 77: 0.505\n",
      "Components 78: 0.507\n",
      "Components 79: 0.510\n",
      "Components 80: 0.512\n",
      "Components 81: 0.514\n",
      "Components 82: 0.516\n",
      "Components 83: 0.519\n",
      "Components 84: 0.521\n",
      "Components 85: 0.523\n",
      "Components 86: 0.525\n",
      "Components 87: 0.527\n",
      "Components 88: 0.529\n",
      "Components 89: 0.531\n",
      "Components 90: 0.533\n",
      "Components 91: 0.535\n",
      "Components 92: 0.537\n",
      "Components 93: 0.539\n",
      "Components 94: 0.541\n",
      "Components 95: 0.543\n",
      "Components 96: 0.545\n",
      "Components 97: 0.547\n",
      "Components 98: 0.549\n",
      "Components 99: 0.551\n",
      "Components 100: 0.553\n",
      "Components 101: 0.555\n",
      "Components 102: 0.557\n",
      "Components 103: 0.559\n",
      "Components 104: 0.561\n",
      "Components 105: 0.563\n",
      "Components 106: 0.565\n",
      "Components 107: 0.567\n",
      "Components 108: 0.568\n",
      "Components 109: 0.570\n",
      "Components 110: 0.572\n",
      "Components 111: 0.574\n",
      "Components 112: 0.576\n",
      "Components 113: 0.577\n",
      "Components 114: 0.579\n",
      "Components 115: 0.581\n",
      "Components 116: 0.583\n",
      "Components 117: 0.584\n",
      "Components 118: 0.586\n",
      "Components 119: 0.588\n",
      "Components 120: 0.590\n",
      "Components 121: 0.591\n",
      "Components 122: 0.593\n",
      "Components 123: 0.595\n",
      "Components 124: 0.596\n",
      "Components 125: 0.598\n",
      "Components 126: 0.600\n",
      "Components 127: 0.601\n",
      "Components 128: 0.603\n",
      "Components 129: 0.605\n",
      "Components 130: 0.606\n",
      "Components 131: 0.608\n",
      "Components 132: 0.609\n",
      "Components 133: 0.611\n",
      "Components 134: 0.613\n",
      "Components 135: 0.614\n",
      "Components 136: 0.616\n",
      "Components 137: 0.617\n",
      "Components 138: 0.619\n",
      "Components 139: 0.620\n",
      "Components 140: 0.622\n",
      "Components 141: 0.623\n",
      "Components 142: 0.625\n",
      "Components 143: 0.626\n",
      "Components 144: 0.628\n",
      "Components 145: 0.629\n",
      "Components 146: 0.631\n",
      "Components 147: 0.632\n",
      "Components 148: 0.634\n",
      "Components 149: 0.635\n",
      "Components 150: 0.637\n",
      "Components 151: 0.638\n",
      "Components 152: 0.640\n",
      "Components 153: 0.641\n",
      "Components 154: 0.643\n",
      "Components 155: 0.644\n",
      "Components 156: 0.645\n",
      "Components 157: 0.647\n",
      "Components 158: 0.648\n",
      "Components 159: 0.650\n",
      "Components 160: 0.651\n",
      "Components 161: 0.652\n",
      "Components 162: 0.654\n",
      "Components 163: 0.655\n",
      "Components 164: 0.657\n",
      "Components 165: 0.658\n",
      "Components 166: 0.659\n",
      "Components 167: 0.661\n",
      "Components 168: 0.662\n",
      "Components 169: 0.663\n",
      "Components 170: 0.665\n",
      "Components 171: 0.666\n",
      "Components 172: 0.667\n",
      "Components 173: 0.668\n",
      "Components 174: 0.670\n",
      "Components 175: 0.671\n",
      "Components 176: 0.672\n",
      "Components 177: 0.674\n",
      "Components 178: 0.675\n",
      "Components 179: 0.676\n",
      "Components 180: 0.677\n",
      "Components 181: 0.679\n",
      "Components 182: 0.680\n",
      "Components 183: 0.681\n",
      "Components 184: 0.682\n",
      "Components 185: 0.684\n",
      "Components 186: 0.685\n",
      "Components 187: 0.686\n",
      "Components 188: 0.687\n",
      "Components 189: 0.689\n",
      "Components 190: 0.690\n",
      "Components 191: 0.691\n",
      "Components 192: 0.692\n",
      "Components 193: 0.693\n",
      "Components 194: 0.695\n",
      "Components 195: 0.696\n",
      "Components 196: 0.697\n",
      "Components 197: 0.698\n",
      "Components 198: 0.699\n",
      "Components 199: 0.701\n",
      "Components 200: 0.702\n",
      "Components 201: 0.703\n",
      "Components 202: 0.704\n",
      "Components 203: 0.705\n",
      "Components 204: 0.706\n",
      "Components 205: 0.707\n",
      "Components 206: 0.709\n",
      "Components 207: 0.710\n",
      "Components 208: 0.711\n",
      "Components 209: 0.712\n",
      "Components 210: 0.713\n",
      "Components 211: 0.714\n",
      "Components 212: 0.715\n",
      "Components 213: 0.716\n",
      "Components 214: 0.717\n",
      "Components 215: 0.719\n",
      "Components 216: 0.720\n",
      "Components 217: 0.721\n",
      "Components 218: 0.722\n",
      "Components 219: 0.723\n",
      "Components 220: 0.724\n",
      "Components 221: 0.725\n",
      "Components 222: 0.726\n",
      "Components 223: 0.727\n",
      "Components 224: 0.728\n",
      "Components 225: 0.729\n",
      "Components 226: 0.730\n",
      "Components 227: 0.731\n",
      "Components 228: 0.732\n",
      "Components 229: 0.733\n",
      "Components 230: 0.734\n",
      "Components 231: 0.735\n",
      "Components 232: 0.736\n",
      "Components 233: 0.737\n",
      "Components 234: 0.738\n",
      "Components 235: 0.739\n",
      "Components 236: 0.740\n",
      "Components 237: 0.741\n",
      "Components 238: 0.742\n",
      "Components 239: 0.743\n",
      "Components 240: 0.744\n",
      "Components 241: 0.745\n",
      "Components 242: 0.746\n",
      "Components 243: 0.747\n",
      "Components 244: 0.748\n",
      "Components 245: 0.749\n",
      "Components 246: 0.750\n",
      "Components 247: 0.751\n",
      "Components 248: 0.752\n",
      "Components 249: 0.753\n",
      "Components 250: 0.754\n",
      "Components 251: 0.755\n",
      "Components 252: 0.756\n",
      "Components 253: 0.757\n",
      "Components 254: 0.758\n",
      "Components 255: 0.759\n",
      "Components 256: 0.760\n",
      "Components 257: 0.761\n",
      "Components 258: 0.762\n",
      "Components 259: 0.762\n",
      "Components 260: 0.763\n",
      "Components 261: 0.764\n",
      "Components 262: 0.765\n",
      "Components 263: 0.766\n",
      "Components 264: 0.767\n",
      "Components 265: 0.768\n",
      "Components 266: 0.769\n",
      "Components 267: 0.770\n",
      "Components 268: 0.771\n",
      "Components 269: 0.771\n",
      "Components 270: 0.772\n",
      "Components 271: 0.773\n",
      "Components 272: 0.774\n",
      "Components 273: 0.775\n",
      "Components 274: 0.776\n",
      "Components 275: 0.777\n",
      "Components 276: 0.778\n",
      "Components 277: 0.778\n",
      "Components 278: 0.779\n",
      "Components 279: 0.780\n",
      "Components 280: 0.781\n",
      "Components 281: 0.782\n",
      "Components 282: 0.783\n",
      "Components 283: 0.783\n",
      "Components 284: 0.784\n",
      "Components 285: 0.785\n",
      "Components 286: 0.786\n",
      "Components 287: 0.787\n",
      "Components 288: 0.788\n",
      "Components 289: 0.788\n",
      "Components 290: 0.789\n",
      "Components 291: 0.790\n",
      "Components 292: 0.791\n",
      "Components 293: 0.792\n",
      "Components 294: 0.792\n",
      "Components 295: 0.793\n",
      "Components 296: 0.794\n",
      "Components 297: 0.795\n",
      "Components 298: 0.796\n",
      "Components 299: 0.796\n",
      "Components 300: 0.797\n",
      "Components 301: 0.798\n",
      "Components 302: 0.799\n",
      "Components 303: 0.800\n",
      "Components 304: 0.800\n",
      "Components 305: 0.801\n",
      "Components 306: 0.802\n",
      "Components 307: 0.803\n",
      "Components 308: 0.803\n",
      "Components 309: 0.804\n",
      "Components 310: 0.805\n",
      "Components 311: 0.806\n",
      "Components 312: 0.806\n",
      "Components 313: 0.807\n",
      "Components 314: 0.808\n",
      "Components 315: 0.809\n",
      "Components 316: 0.809\n",
      "Components 317: 0.810\n",
      "Components 318: 0.811\n",
      "Components 319: 0.812\n",
      "Components 320: 0.812\n",
      "Components 321: 0.813\n",
      "Components 322: 0.814\n",
      "Components 323: 0.814\n",
      "Components 324: 0.815\n",
      "Components 325: 0.816\n",
      "Components 326: 0.817\n",
      "Components 327: 0.817\n",
      "Components 328: 0.818\n",
      "Components 329: 0.819\n",
      "Components 330: 0.819\n",
      "Components 331: 0.820\n",
      "Components 332: 0.821\n",
      "Components 333: 0.821\n",
      "Components 334: 0.822\n",
      "Components 335: 0.823\n",
      "Components 336: 0.824\n",
      "Components 337: 0.824\n",
      "Components 338: 0.825\n",
      "Components 339: 0.826\n",
      "Components 340: 0.826\n",
      "Components 341: 0.827\n",
      "Components 342: 0.828\n",
      "Components 343: 0.828\n",
      "Components 344: 0.829\n",
      "Components 345: 0.830\n",
      "Components 346: 0.830\n",
      "Components 347: 0.831\n",
      "Components 348: 0.831\n",
      "Components 349: 0.832\n",
      "Components 350: 0.833\n",
      "Components 351: 0.833\n",
      "Components 352: 0.834\n",
      "Components 353: 0.835\n",
      "Components 354: 0.835\n",
      "Components 355: 0.836\n",
      "Components 356: 0.837\n",
      "Components 357: 0.837\n",
      "Components 358: 0.838\n",
      "Components 359: 0.838\n",
      "Components 360: 0.839\n",
      "Components 361: 0.840\n",
      "Components 362: 0.840\n",
      "Components 363: 0.841\n",
      "Components 364: 0.841\n",
      "Components 365: 0.842\n",
      "Components 366: 0.843\n",
      "Components 367: 0.843\n",
      "Components 368: 0.844\n",
      "Components 369: 0.844\n",
      "Components 370: 0.845\n",
      "Components 371: 0.846\n",
      "Components 372: 0.846\n",
      "Components 373: 0.847\n",
      "Components 374: 0.847\n",
      "Components 375: 0.848\n",
      "Components 376: 0.849\n",
      "Components 377: 0.849\n",
      "Components 378: 0.850\n",
      "Components 379: 0.850\n",
      "Components 380: 0.851\n",
      "Components 381: 0.851\n",
      "Components 382: 0.852\n",
      "Components 383: 0.853\n",
      "Components 384: 0.853\n",
      "Components 385: 0.854\n",
      "Components 386: 0.854\n",
      "Components 387: 0.855\n",
      "Components 388: 0.855\n",
      "Components 389: 0.856\n",
      "Components 390: 0.856\n",
      "Components 391: 0.857\n",
      "Components 392: 0.857\n",
      "Components 393: 0.858\n",
      "Components 394: 0.858\n",
      "Components 395: 0.859\n",
      "Components 396: 0.859\n",
      "Components 397: 0.860\n",
      "Components 398: 0.860\n",
      "Components 399: 0.861\n",
      "Components 400: 0.862\n"
     ]
    },
    {
     "data": {
      "text/plain": [
       "<Figure size 1000x600 with 1 Axes>"
      ],
      "image/png": "[encoded data removed]"
     },
     "metadata": {},
     "output_type": "display_data"
    }
   ],
   "execution_count": 14
  },
  {
   "metadata": {
    "ExecuteTime": {
     "end_time": "2025-04-09T22:53:39.027163Z",
     "start_time": "2025-04-09T22:53:39.023559Z"
    }
   },
   "cell_type": "code",
   "source": [
    "feature_names = lemming.get_feature_names_out()"
   ],
   "id": "72562f91434e1725",
   "outputs": [],
   "execution_count": 15
  },
  {
   "metadata": {
    "ExecuteTime": {
     "end_time": "2025-04-09T22:53:44.507994Z",
     "start_time": "2025-04-09T22:53:39.038538Z"
    }
   },
   "cell_type": "code",
   "source": [
    "top_n = 1000\n",
    "\n",
    "keywords_per_doc = []\n",
    "for i in range(X_pca.shape[0]):\n",
    "    doc_vector = X_pca[i]\n",
    "    feature_importance = np.zeros(len(feature_names))\n",
    "\n",
    "    for i, weight in enumerate(doc_vector):\n",
    "        feature_importance += abs(weight) * abs(pca.components_[i])\n",
    "\n",
    "    top_indices = feature_importance.argsort()[-top_n:][::-1]\n",
    "    top_keywords = [(feature_names[idx], feature_importance[idx] ) for idx in top_indices]\n",
    "\n",
    "    max_importance = max([score for _, score in top_keywords])\n",
    "    keywords_dict = {word: float(round(score / max_importance, 3)) for word, score in top_keywords}\n",
    "    keywords_per_doc.append(keywords_dict)\n",
    "\n",
    "df_raw['keywords'] = keywords_per_doc"
   ],
   "id": "f5173cae23a40cc4",
   "outputs": [],
   "execution_count": 16
  },
  {
   "metadata": {
    "ExecuteTime": {
     "end_time": "2025-04-09T22:53:45.065910Z",
     "start_time": "2025-04-09T22:53:44.523759Z"
    }
   },
   "cell_type": "code",
   "source": [
    "df_raw['keywords'] = df_raw['keywords'].apply(lambda x: dict(sorted(x.items())))\n",
    "def replace_with_numbers(dictionary):\n",
    "\n",
    "    return \" \".join(str(i) for i in dictionary.values())\n",
    "\n",
    "df_raw['keywords'] = df_raw['keywords'].apply(replace_with_numbers)"
   ],
   "id": "18bea12ca80e21d2",
   "outputs": [],
   "execution_count": 17
  },
  {
   "metadata": {
    "ExecuteTime": {
     "end_time": "2025-04-09T22:53:45.087265Z",
     "start_time": "2025-04-09T22:53:45.078952Z"
    }
   },
   "cell_type": "code",
   "source": "df_raw.head(6)",
   "id": "32e423b6e2d9680",
   "outputs": [
    {
     "data": {
      "text/plain": [
       "         date                                            content  \\\n",
       "0  2022-02-24  mason clark george barros and kateryna stepane...   \n",
       "1  2022-02-25  mason clark george barros and kateryna stepane...   \n",
       "2  2022-02-26  mason clark george barros and katya stepanenko...   \n",
       "3  2022-02-27  mason clark george barros and kateryna stepane...   \n",
       "4  2022-02-28  mason clark george barros and kateryna stepane...   \n",
       "5  2022-03-01  frederick w kagan george barros and kateryna s...   \n",
       "\n",
       "                                       lemma_content  \\\n",
       "0  mason clark george barros kateryna stepanenko ...   \n",
       "1  mason clark george barros kateryna stepanenko ...   \n",
       "2  mason clark george barros katya stepanenko 3pm...   \n",
       "3  mason clark george barros kateryna stepanenko ...   \n",
       "4  mason clark george barros kateryna stepanenko ...   \n",
       "5  frederick w kagan george barros kateryna stepa...   \n",
       "\n",
       "                                        stem_content  \\\n",
       "0  mason clark georg barro kateryna stepanenko 30...   \n",
       "1  mason clark georg barro kateryna stepanenko 30...   \n",
       "2  mason clark georg barro katya stepanenko 3pm e...   \n",
       "3  mason clark georg barro kateryna stepanenko 4p...   \n",
       "4  mason clark georg barro kateryna stepanenko 33...   \n",
       "5  frederick w kagan georg barro kateryna stepane...   \n",
       "\n",
       "                                            keywords  \n",
       "0  0.44 0.451 0.751 0.614 0.466 0.462 0.418 0.486...  \n",
       "1  0.483 0.501 0.761 0.705 0.494 0.497 0.46 0.536...  \n",
       "2  0.386 0.422 0.723 0.353 0.526 0.351 0.39 0.404...  \n",
       "3  0.468 0.505 0.816 0.688 0.484 0.526 0.452 0.50...  \n",
       "4  0.466 0.46 0.753 0.729 0.464 0.497 0.456 0.507...  \n",
       "5  0.475 0.497 0.929 0.449 0.651 0.462 0.489 0.45...  "
      ],
      "text/html": [
       "<div>\n",
       "<style scoped>\n",
       "    .dataframe tbody tr th:only-of-type {\n",
       "        vertical-align: middle;\n",
       "    }\n",
       "\n",
       "    .dataframe tbody tr th {\n",
       "        vertical-align: top;\n",
       "    }\n",
       "\n",
       "    .dataframe thead th {\n",
       "        text-align: right;\n",
       "    }\n",
       "</style>\n",
       "<table border=\"1\" class=\"dataframe\">\n",
       "  <thead>\n",
       "    <tr style=\"text-align: right;\">\n",
       "      <th></th>\n",
       "      <th>date</th>\n",
       "      <th>content</th>\n",
       "      <th>lemma_content</th>\n",
       "      <th>stem_content</th>\n",
       "      <th>keywords</th>\n",
       "    </tr>\n",
       "  </thead>\n",
       "  <tbody>\n",
       "    <tr>\n",
       "      <th>0</th>\n",
       "      <td>2022-02-24</td>\n",
       "      <td>mason clark george barros and kateryna stepane...</td>\n",
       "      <td>mason clark george barros kateryna stepanenko ...</td>\n",
       "      <td>mason clark georg barro kateryna stepanenko 30...</td>\n",
       "      <td>0.44 0.451 0.751 0.614 0.466 0.462 0.418 0.486...</td>\n",
       "    </tr>\n",
       "    <tr>\n",
       "      <th>1</th>\n",
       "      <td>2022-02-25</td>\n",
       "      <td>mason clark george barros and kateryna stepane...</td>\n",
       "      <td>mason clark george barros kateryna stepanenko ...</td>\n",
       "      <td>mason clark georg barro kateryna stepanenko 30...</td>\n",
       "      <td>0.483 0.501 0.761 0.705 0.494 0.497 0.46 0.536...</td>\n",
       "    </tr>\n",
       "    <tr>\n",
       "      <th>2</th>\n",
       "      <td>2022-02-26</td>\n",
       "      <td>mason clark george barros and katya stepanenko...</td>\n",
       "      <td>mason clark george barros katya stepanenko 3pm...</td>\n",
       "      <td>mason clark georg barro katya stepanenko 3pm e...</td>\n",
       "      <td>0.386 0.422 0.723 0.353 0.526 0.351 0.39 0.404...</td>\n",
       "    </tr>\n",
       "    <tr>\n",
       "      <th>3</th>\n",
       "      <td>2022-02-27</td>\n",
       "      <td>mason clark george barros and kateryna stepane...</td>\n",
       "      <td>mason clark george barros kateryna stepanenko ...</td>\n",
       "      <td>mason clark georg barro kateryna stepanenko 4p...</td>\n",
       "      <td>0.468 0.505 0.816 0.688 0.484 0.526 0.452 0.50...</td>\n",
       "    </tr>\n",
       "    <tr>\n",
       "      <th>4</th>\n",
       "      <td>2022-02-28</td>\n",
       "      <td>mason clark george barros and kateryna stepane...</td>\n",
       "      <td>mason clark george barros kateryna stepanenko ...</td>\n",
       "      <td>mason clark georg barro kateryna stepanenko 33...</td>\n",
       "      <td>0.466 0.46 0.753 0.729 0.464 0.497 0.456 0.507...</td>\n",
       "    </tr>\n",
       "    <tr>\n",
       "      <th>5</th>\n",
       "      <td>2022-03-01</td>\n",
       "      <td>frederick w kagan george barros and kateryna s...</td>\n",
       "      <td>frederick w kagan george barros kateryna stepa...</td>\n",
       "      <td>frederick w kagan georg barro kateryna stepane...</td>\n",
       "      <td>0.475 0.497 0.929 0.449 0.651 0.462 0.489 0.45...</td>\n",
       "    </tr>\n",
       "  </tbody>\n",
       "</table>\n",
       "</div>"
      ]
     },
     "execution_count": 18,
     "metadata": {},
     "output_type": "execute_result"
    }
   ],
   "execution_count": 18
  },
  {
   "metadata": {
    "ExecuteTime": {
     "end_time": "2025-04-09T22:53:46.060932Z",
     "start_time": "2025-04-09T22:53:45.149336Z"
    }
   },
   "cell_type": "code",
   "source": [
    "df_result = df_raw\n",
    "\n",
    "df_result.to_csv(\"../data/ISW_vector.csv\", index=False)"
   ],
   "id": "85b49f49fab414bc",
   "outputs": [],
   "execution_count": 19
  }
 ],
 "metadata": {
  "kernelspec": {
   "display_name": "Python 3",
   "language": "python",
   "name": "python3"
  },
  "language_info": {
   "codemirror_mode": {
    "name": "ipython",
    "version": 2
   },
   "file_extension": ".py",
   "mimetype": "text/x-python",
   "name": "python",
   "nbconvert_exporter": "python",
   "pygments_lexer": "ipython2",
   "version": "2.7.6"
  }
 },
 "nbformat": 4,
 "nbformat_minor": 5
}
